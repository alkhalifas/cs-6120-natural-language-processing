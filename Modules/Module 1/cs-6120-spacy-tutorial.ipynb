{
 "cells": [
  {
   "cell_type": "markdown",
   "id": "120ec223",
   "metadata": {
    "papermill": {
     "duration": 0.022361,
     "end_time": "2022-05-14T21:53:10.083274",
     "exception": false,
     "start_time": "2022-05-14T21:53:10.060913",
     "status": "completed"
    },
    "tags": []
   },
   "source": [
    "# Installation "
   ]
  },
  {
   "cell_type": "markdown",
   "id": "4fd5b663",
   "metadata": {
    "papermill": {
     "duration": 0.020679,
     "end_time": "2022-05-14T21:53:10.125627",
     "exception": false,
     "start_time": "2022-05-14T21:53:10.104948",
     "status": "completed"
    },
    "tags": []
   },
   "source": [
    "## For CPU based Spacy : \n",
    "\n",
    "!pip install -U pip setuptools wheel </br>\n",
    "\n",
    "!pip install -U 'spacy' </br>\n",
    "\n",
    "!python -m spacy download en_core_web_sm </br>\n",
    "\n",
    "## For GPU based Spacy : \n",
    "\n",
    "!pip install -U pip setuptools wheel </br>\n",
    "\n",
    "\n",
    "[Specify your cuda version here]\n",
    "\n",
    "!pip install -U 'spacy[cuda113]' </br> \n",
    "\n",
    "!python -m spacy download en_core_web_sm</br>"
   ]
  },
  {
   "cell_type": "markdown",
   "id": "96a517da",
   "metadata": {
    "papermill": {
     "duration": 0.020319,
     "end_time": "2022-05-14T21:53:10.166643",
     "exception": false,
     "start_time": "2022-05-14T21:53:10.146324",
     "status": "completed"
    },
    "tags": []
   },
   "source": [
    "# 1. Cleaning Numbers"
   ]
  },
  {
   "cell_type": "code",
   "execution_count": 2,
   "id": "24656a87",
   "metadata": {
    "papermill": {
     "duration": 11.579574,
     "end_time": "2022-05-14T21:53:21.766973",
     "exception": false,
     "start_time": "2022-05-14T21:53:10.187399",
     "status": "completed"
    },
    "tags": []
   },
   "outputs": [
    {
     "name": "stdout",
     "output_type": "stream",
     "text": [
      "Before - Todays Date is 23rd we need to submit our assignment on 30th of this month.\n",
      "After  - Todays Date is rd we need to submit our assignment on th of this month.\n"
     ]
    }
   ],
   "source": [
    "#import the library\n",
    "import spacy\n",
    "from spacy.symbols import ORTH\n",
    "from spacy.lang.en.stop_words import STOP_WORDS\n",
    "import re\n",
    "import pandas as pd\n",
    "\n",
    "sentence = \"Todays Date is 23rd we need to submit our assignment on 30th of this month.\"\n",
    "\n",
    "\n",
    "def clean_numbers(text):\n",
    "    text = re.sub(r'(\\d+)([a-zA-Z])', '\\g<1> \\g<2>', text) #Cleans dates like 23rd, but not x042.\n",
    "    text = re.sub(r'(\\d+) (th|st|nd|rd) ', '\\g<1>\\g<2> ', text) #Captures date formats \"23rd\", \"21st\", \"20th\", and \"2nd\"\n",
    "    text = re.sub(r'(\\d+),(\\d+)', '\\g<1>\\g<2>', text)\n",
    "    text = re.sub(r'(\\d+)(e)(\\d+)','\\g<1> \\g<3>', text)\n",
    "    text = re.sub(r'\\d+', '', text)\n",
    "    return text\n",
    "\n",
    "\n",
    "print(f'Before - {sentence}')\n",
    "print(f'After  - {clean_numbers(sentence)}')"
   ]
  },
  {
   "cell_type": "code",
   "execution_count": 3,
   "id": "4835e4f1",
   "metadata": {
    "papermill": {
     "duration": 0.080857,
     "end_time": "2022-05-14T21:53:21.877549",
     "exception": false,
     "start_time": "2022-05-14T21:53:21.796692",
     "status": "completed"
    },
    "tags": []
   },
   "outputs": [
    {
     "data": {
      "text/html": [
       "<div>\n",
       "<style scoped>\n",
       "    .dataframe tbody tr th:only-of-type {\n",
       "        vertical-align: middle;\n",
       "    }\n",
       "\n",
       "    .dataframe tbody tr th {\n",
       "        vertical-align: top;\n",
       "    }\n",
       "\n",
       "    .dataframe thead th {\n",
       "        text-align: right;\n",
       "    }\n",
       "</style>\n",
       "<table border=\"1\" class=\"dataframe\">\n",
       "  <thead>\n",
       "    <tr style=\"text-align: right;\">\n",
       "      <th></th>\n",
       "      <th>v1</th>\n",
       "      <th>v2</th>\n",
       "    </tr>\n",
       "  </thead>\n",
       "  <tbody>\n",
       "    <tr>\n",
       "      <th>0</th>\n",
       "      <td>ham</td>\n",
       "      <td>Go until jurong point, crazy.. Available only ...</td>\n",
       "    </tr>\n",
       "    <tr>\n",
       "      <th>1</th>\n",
       "      <td>ham</td>\n",
       "      <td>Ok lar... Joking wif u oni...</td>\n",
       "    </tr>\n",
       "    <tr>\n",
       "      <th>2</th>\n",
       "      <td>spam</td>\n",
       "      <td>Free entry in 2 a wkly comp to win FA Cup fina...</td>\n",
       "    </tr>\n",
       "    <tr>\n",
       "      <th>3</th>\n",
       "      <td>ham</td>\n",
       "      <td>U dun say so early hor... U c already then say...</td>\n",
       "    </tr>\n",
       "    <tr>\n",
       "      <th>4</th>\n",
       "      <td>ham</td>\n",
       "      <td>Nah I don't think he goes to usf, he lives aro...</td>\n",
       "    </tr>\n",
       "  </tbody>\n",
       "</table>\n",
       "</div>"
      ],
      "text/plain": [
       "     v1                                                 v2\n",
       "0   ham  Go until jurong point, crazy.. Available only ...\n",
       "1   ham                      Ok lar... Joking wif u oni...\n",
       "2  spam  Free entry in 2 a wkly comp to win FA Cup fina...\n",
       "3   ham  U dun say so early hor... U c already then say...\n",
       "4   ham  Nah I don't think he goes to usf, he lives aro..."
      ]
     },
     "execution_count": 3,
     "metadata": {},
     "output_type": "execute_result"
    }
   ],
   "source": [
    "data = pd.read_csv('spam.csv',encoding='ISO-8859-1',usecols = ['v1','v2'])\n",
    "data.head()"
   ]
  },
  {
   "cell_type": "code",
   "execution_count": 4,
   "id": "6b9a2f3f",
   "metadata": {
    "papermill": {
     "duration": 0.033738,
     "end_time": "2022-05-14T21:53:21.933708",
     "exception": false,
     "start_time": "2022-05-14T21:53:21.899970",
     "status": "completed"
    },
    "tags": []
   },
   "outputs": [
    {
     "data": {
      "text/plain": [
       "(5572, 2)"
      ]
     },
     "execution_count": 4,
     "metadata": {},
     "output_type": "execute_result"
    }
   ],
   "source": [
    "data.shape"
   ]
  },
  {
   "cell_type": "code",
   "execution_count": 5,
   "id": "8331701f",
   "metadata": {
    "papermill": {
     "duration": 0.254314,
     "end_time": "2022-05-14T21:53:22.210674",
     "exception": false,
     "start_time": "2022-05-14T21:53:21.956360",
     "status": "completed"
    },
    "tags": []
   },
   "outputs": [],
   "source": [
    "data['v2'] = data['v2'].apply(lambda x : clean_numbers(x))"
   ]
  },
  {
   "cell_type": "markdown",
   "id": "81f7c175",
   "metadata": {
    "papermill": {
     "duration": 0.022827,
     "end_time": "2022-05-14T21:53:22.257197",
     "exception": false,
     "start_time": "2022-05-14T21:53:22.234370",
     "status": "completed"
    },
    "tags": []
   },
   "source": [
    "# 2. Remove Punctuations  "
   ]
  },
  {
   "cell_type": "code",
   "execution_count": 6,
   "id": "4ecba9dc",
   "metadata": {
    "papermill": {
     "duration": 0.994318,
     "end_time": "2022-05-14T21:53:23.277096",
     "exception": false,
     "start_time": "2022-05-14T21:53:22.282778",
     "status": "completed"
    },
    "tags": []
   },
   "outputs": [
    {
     "name": "stdout",
     "output_type": "stream",
     "text": [
      "Before - What a great day it is!!\n",
      "After  - What a great day it is\n"
     ]
    }
   ],
   "source": [
    "#load the trained pipelines for english\n",
    "# you can also try your hands on \n",
    "#en_core_web_md,\n",
    "#en_core_web_lg,\n",
    "#en_core_web_trf\n",
    "nlp = spacy.load(\"en_core_web_sm\") \n",
    "\n",
    "\n",
    "def remove_punc(sentence):\n",
    "    doc = nlp(sentence)\n",
    "    sentence_out = []\n",
    "    for token in doc:\n",
    "        if token.is_punct:\n",
    "            continue\n",
    "        sentence_out.append(token.text)\n",
    "    return \" \".join(sentence_out)\n",
    "\n",
    "\n",
    "sentence = \"What a great day it is!!\"\n",
    "print(f'Before - {sentence}')\n",
    "print(f'After  - {remove_punc(sentence)}')"
   ]
  },
  {
   "cell_type": "code",
   "execution_count": 7,
   "id": "6692f8a3",
   "metadata": {
    "papermill": {
     "duration": 52.041571,
     "end_time": "2022-05-14T21:54:15.342701",
     "exception": false,
     "start_time": "2022-05-14T21:53:23.301130",
     "status": "completed"
    },
    "tags": []
   },
   "outputs": [],
   "source": [
    "data['v2'] = data['v2'].apply(lambda x : remove_punc(x))"
   ]
  },
  {
   "cell_type": "markdown",
   "id": "eaafead6",
   "metadata": {
    "papermill": {
     "duration": 0.022896,
     "end_time": "2022-05-14T21:54:15.388133",
     "exception": false,
     "start_time": "2022-05-14T21:54:15.365237",
     "status": "completed"
    },
    "tags": []
   },
   "source": [
    "# 3. Tokenization"
   ]
  },
  {
   "cell_type": "code",
   "execution_count": 7,
   "id": "80995574",
   "metadata": {
    "execution": {
     "iopub.execute_input": "2022-05-14T21:54:15.434575Z",
     "iopub.status.busy": "2022-05-14T21:54:15.434272Z",
     "iopub.status.idle": "2022-05-14T21:54:15.456184Z",
     "shell.execute_reply": "2022-05-14T21:54:15.455294Z"
    },
    "papermill": {
     "duration": 0.048391,
     "end_time": "2022-05-14T21:54:15.458904",
     "exception": false,
     "start_time": "2022-05-14T21:54:15.410513",
     "status": "completed"
    },
    "tags": []
   },
   "outputs": [
    {
     "name": "stdout",
     "output_type": "stream",
     "text": [
      "LeonardMaltin, gave, this, film, a, dreaded, BOMB, rating, in, his, 1995, Movie, and, Video, Guide, ., What, film, was, he, looking, at, ?, "
     ]
    }
   ],
   "source": [
    "doc = nlp(\"LeonardMaltin gave this film a dreaded BOMB rating in his 1995 Movie and Video Guide. What film was he looking at?\")\n",
    "\n",
    "for token in doc:\n",
    "    \n",
    "    print(token.text,end=', ')\n",
    "    \n",
    "    #print(token)\n",
    "    \n",
    "    #You can use token as well to print the words, but token gives you words with type <class 'spacy.tokens.token.Token'>\n",
    "    #and token.text gives you words in str format where you can carry normal string opertaions."
   ]
  },
  {
   "cell_type": "markdown",
   "id": "283bc8c4",
   "metadata": {
    "papermill": {
     "duration": 0.022395,
     "end_time": "2022-05-14T21:54:15.503770",
     "exception": false,
     "start_time": "2022-05-14T21:54:15.481375",
     "status": "completed"
    },
    "tags": []
   },
   "source": [
    "# 3.1 Adding Special Rules in Tokenization\n",
    "\n",
    "### Lets separate LeonardMaltin into two different words while tokenizing"
   ]
  },
  {
   "cell_type": "code",
   "execution_count": 8,
   "id": "2627cd05",
   "metadata": {
    "papermill": {
     "duration": 0.058876,
     "end_time": "2022-05-14T21:54:15.585071",
     "exception": false,
     "start_time": "2022-05-14T21:54:15.526195",
     "status": "completed"
    },
    "tags": []
   },
   "outputs": [
    {
     "name": "stdout",
     "output_type": "stream",
     "text": [
      "Leonard, Maltin, gave, this, film, a, dreaded, BOMB, rating, in, his, 1995, Movie, and, Video, Guide, ., What, film, was, he, looking, at, ?, "
     ]
    }
   ],
   "source": [
    "special_case = [{ORTH: \"Leonard\"}, {ORTH: \"Maltin\"}]        # Adding special case rule\n",
    "nlp.tokenizer.add_special_case(\"LeonardMaltin\", special_case)\n",
    "doc = nlp(\"LeonardMaltin gave this film a dreaded BOMB rating in his 1995 Movie and Video Guide. What film was he looking at?\")\n",
    "\n",
    "for token in doc:\n",
    "    print(token.text,end=', ')"
   ]
  },
  {
   "cell_type": "markdown",
   "id": "cb5ad12f",
   "metadata": {
    "papermill": {
     "duration": 0.022942,
     "end_time": "2022-05-14T21:54:15.631221",
     "exception": false,
     "start_time": "2022-05-14T21:54:15.608279",
     "status": "completed"
    },
    "tags": []
   },
   "source": [
    "# 4. Lemmatization"
   ]
  },
  {
   "cell_type": "code",
   "execution_count": 9,
   "id": "513bf4c5",
   "metadata": {
    "papermill": {
     "duration": 0.043751,
     "end_time": "2022-05-14T21:54:15.698154",
     "exception": false,
     "start_time": "2022-05-14T21:54:15.654403",
     "status": "completed"
    },
    "tags": []
   },
   "outputs": [
    {
     "name": "stdout",
     "output_type": "stream",
     "text": [
      "Before - change changed changing changes\n",
      "After  - change change change change\n"
     ]
    }
   ],
   "source": [
    "def lemmatization(sentence):\n",
    "    doc = nlp(sentence)\n",
    "    return \" \".join([token.lemma_ for token in doc])\n",
    "\n",
    "\n",
    "sentence = \"change changed changing changes\"\n",
    "print(f'Before - {sentence}')\n",
    "print(f'After  - {lemmatization(sentence)}')"
   ]
  },
  {
   "cell_type": "code",
   "execution_count": 10,
   "id": "b788d5db",
   "metadata": {
    "papermill": {
     "duration": 48.464843,
     "end_time": "2022-05-14T21:55:04.189390",
     "exception": false,
     "start_time": "2022-05-14T21:54:15.724547",
     "status": "completed"
    },
    "tags": []
   },
   "outputs": [],
   "source": [
    "data['v2'] = data['v2'].apply(lambda x : lemmatization(x))"
   ]
  },
  {
   "cell_type": "markdown",
   "id": "652dfb0b",
   "metadata": {
    "papermill": {
     "duration": 0.022962,
     "end_time": "2022-05-14T21:55:04.236297",
     "exception": false,
     "start_time": "2022-05-14T21:55:04.213335",
     "status": "completed"
    },
    "tags": []
   },
   "source": [
    "# 5. Stop Word Removal"
   ]
  },
  {
   "cell_type": "code",
   "execution_count": 13,
   "id": "9f73aa93",
   "metadata": {
    "papermill": {
     "duration": 0.048422,
     "end_time": "2022-05-14T21:55:04.308461",
     "exception": false,
     "start_time": "2022-05-14T21:55:04.260039",
     "status": "completed"
    },
    "tags": []
   },
   "outputs": [
    {
     "name": "stdout",
     "output_type": "stream",
     "text": [
      "Before - LeonardMaltin gave this film a dreaded BOMB rating in his 1995 Movie and Video Guide. What film was he looking at?\n",
      "After  - Leonard Maltin gave film dreaded BOMB rating 1995 Movie Video Guide . film looking ?\n"
     ]
    }
   ],
   "source": [
    "def remove_stopwords(sentence):\n",
    "    doc = nlp(sentence)\n",
    "    out_sentence = []\n",
    "    for token in doc:\n",
    "        if nlp.vocab[token.text].is_stop == False:\n",
    "            out_sentence.append(token.text)\n",
    "    return \" \".join(out_sentence)\n",
    "\n",
    "sentence = \"LeonardMaltin gave this film a dreaded BOMB rating in his 1995 Movie and Video Guide. What film was he looking at?\"\n",
    "print(f'Before - {sentence}')\n",
    "print(f'After  - {remove_stopwords(sentence)}')"
   ]
  },
  {
   "cell_type": "code",
   "execution_count": 12,
   "id": "14a7b401",
   "metadata": {
    "execution": {
     "iopub.execute_input": "2022-05-14T21:55:04.358725Z",
     "iopub.status.busy": "2022-05-14T21:55:04.358212Z",
     "iopub.status.idle": "2022-05-14T21:55:52.762076Z",
     "shell.execute_reply": "2022-05-14T21:55:52.761236Z"
    },
    "papermill": {
     "duration": 48.431734,
     "end_time": "2022-05-14T21:55:52.764479",
     "exception": false,
     "start_time": "2022-05-14T21:55:04.332745",
     "status": "completed"
    },
    "tags": []
   },
   "outputs": [],
   "source": [
    "data['v2'] = data['v2'].apply(lambda x : remove_stopwords(x))"
   ]
  },
  {
   "cell_type": "markdown",
   "id": "d75df227",
   "metadata": {
    "papermill": {
     "duration": 0.025178,
     "end_time": "2022-05-14T21:55:52.814150",
     "exception": false,
     "start_time": "2022-05-14T21:55:52.788972",
     "status": "completed"
    },
    "tags": []
   },
   "source": [
    "# 6. Removing URLS and Mail Ids"
   ]
  },
  {
   "cell_type": "code",
   "execution_count": 14,
   "id": "55f7925c",
   "metadata": {
    "papermill": {
     "duration": 0.054471,
     "end_time": "2022-05-14T21:55:52.892534",
     "exception": false,
     "start_time": "2022-05-14T21:55:52.838063",
     "status": "completed"
    },
    "tags": []
   },
   "outputs": [
    {
     "name": "stdout",
     "output_type": "stream",
     "text": [
      "Before - You can access the website here at http://urlremove.com and if any doubts please reach me out on gmail at removedmails@gmail.com \n",
      "After  - You can access the website here at and if any doubts please reach me out on gmail at\n"
     ]
    }
   ],
   "source": [
    "def remove_urls(sentence):\n",
    "    doc = nlp(sentence)\n",
    "    out_sentence = []\n",
    "    for token in doc:\n",
    "        if token.like_url or token.like_email:\n",
    "            continue\n",
    "        out_sentence.append(token.text)\n",
    "    return \" \".join(out_sentence)\n",
    "\n",
    "\n",
    "sentence = \"You can access the website here at http://urlremove.com and if any doubts please reach me out on gmail at removedmails@gmail.com \"\n",
    "print(f'Before - {sentence}')\n",
    "print(f'After  - {remove_urls(sentence)}')"
   ]
  },
  {
   "cell_type": "code",
   "execution_count": 15,
   "id": "93f7d41c",
   "metadata": {
    "papermill": {
     "duration": 40.615957,
     "end_time": "2022-05-14T21:56:33.539382",
     "exception": false,
     "start_time": "2022-05-14T21:55:52.923425",
     "status": "completed"
    },
    "tags": []
   },
   "outputs": [],
   "source": [
    "data['v2'] = data['v2'].apply(lambda x : remove_urls(x))"
   ]
  },
  {
   "cell_type": "code",
   "execution_count": null,
   "id": "8a044ddf-2206-4ad0-998b-86795b9790e4",
   "metadata": {},
   "outputs": [],
   "source": []
  }
 ],
 "metadata": {
  "kernelspec": {
   "display_name": "Python 3",
   "language": "python",
   "name": "python3"
  },
  "language_info": {
   "codemirror_mode": {
    "name": "ipython",
    "version": 3
   },
   "file_extension": ".py",
   "mimetype": "text/x-python",
   "name": "python",
   "nbconvert_exporter": "python",
   "pygments_lexer": "ipython3",
   "version": "3.8.5"
  },
  "papermill": {
   "default_parameters": {},
   "duration": 217.84642,
   "end_time": "2022-05-14T21:56:36.870878",
   "environment_variables": {},
   "exception": null,
   "input_path": "__notebook__.ipynb",
   "output_path": "__notebook__.ipynb",
   "parameters": {},
   "start_time": "2022-05-14T21:52:59.024458",
   "version": "2.3.4"
  }
 },
 "nbformat": 4,
 "nbformat_minor": 5
}
