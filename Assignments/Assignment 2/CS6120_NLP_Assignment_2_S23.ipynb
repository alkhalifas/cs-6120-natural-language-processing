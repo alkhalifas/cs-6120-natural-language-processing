{
 "cells": [
  {
   "cell_type": "markdown",
   "metadata": {
    "id": "ni4T_dwEHFVa"
   },
   "source": [
    "## CS 6120: Natural Language Processing - Prof. Ahmad Uzair\n",
    "\n",
    "### Assignment 2: Text Classification and Neural Network\n",
    "### Total Points: 100 points"
   ]
  },
  {
   "cell_type": "markdown",
   "metadata": {
    "id": "loQ22M-bCubq"
   },
   "source": [
    "In Assignment 2, you will be dealing with text classification using Multinomial Naive Bayes and Neural Networks. You will also be dealing with vector visualization. In the previous assingment you implemented Bag of Words as the feature selection method. However, in this assignment you will be using TF-IDF Vectorization instead of Bag of Words. We recommend starting with this assignment a little early as the datasets are quite large and several parts of the assignment might take long duration to execute. "
   ]
  },
  {
   "cell_type": "markdown",
   "metadata": {
    "id": "Q3brglC1C0mZ"
   },
   "source": [
    "## Question 1 Text Classification"
   ]
  },
  {
   "cell_type": "markdown",
   "metadata": {
    "id": "IZ1y75IoC3rE"
   },
   "source": [
    "In the first question you will be dealing with AG News Dataset. You are required to implement TF-IDF vectorization from scratch and perform Multinomial Naive Bayes Classification on dataset.\n",
    "You may use appropriate packages or modules for fitting the Multinomial Naive Bayes Model, however, the implementation of the TF-IDF Vectorization should be from the scratch."
   ]
  },
  {
   "cell_type": "code",
   "execution_count": 2,
   "metadata": {
    "id": "CmFf2INNDJRb"
   },
   "outputs": [
    {
     "name": "stderr",
     "output_type": "stream",
     "text": [
      "C:\\Users\\Saleh Alkhalifa\\anaconda3\\lib\\site-packages\\sklearn\\feature_extraction\\text.py:17: DeprecationWarning: Using or importing the ABCs from 'collections' instead of from 'collections.abc' is deprecated since Python 3.3, and in 3.9 it will stop working\n",
      "  from collections import Mapping, defaultdict\n",
      "C:\\Users\\Saleh Alkhalifa\\anaconda3\\lib\\site-packages\\sklearn\\utils\\multiclass.py:13: DeprecationWarning: Please use `spmatrix` from the `scipy.sparse` namespace, the `scipy.sparse.base` namespace is deprecated.\n",
      "  from scipy.sparse.base import spmatrix\n",
      "C:\\Users\\Saleh Alkhalifa\\anaconda3\\lib\\site-packages\\sklearn\\utils\\optimize.py:18: DeprecationWarning: Please use `line_search_wolfe2` from the `scipy.optimize` namespace, the `scipy.optimize.linesearch` namespace is deprecated.\n",
      "  from scipy.optimize.linesearch import line_search_wolfe2, line_search_wolfe1\n",
      "C:\\Users\\Saleh Alkhalifa\\anaconda3\\lib\\site-packages\\sklearn\\utils\\optimize.py:18: DeprecationWarning: Please use `line_search_wolfe1` from the `scipy.optimize` namespace, the `scipy.optimize.linesearch` namespace is deprecated.\n",
      "  from scipy.optimize.linesearch import line_search_wolfe2, line_search_wolfe1\n"
     ]
    }
   ],
   "source": [
    "#importing the libraries\n",
    "\n",
    "import numpy as np\n",
    "import sklearn\n",
    "from sklearn.feature_extraction.text import TfidfVectorizer\n",
    "from sklearn.datasets import fetch_20newsgroups\n",
    "from pprint import pprint\n",
    "from sklearn.feature_extraction.text import CountVectorizer\n",
    "from sklearn import preprocessing\n",
    "import pandas as pd\n",
    "import re\n",
    "import numpy as np\n",
    "from nltk.tokenize import  word_tokenize \n",
    "import nltk\n",
    "from sklearn.naive_bayes import MultinomialNB\n",
    "from sklearn import metrics\n",
    "import math\n",
    "import string\n",
    "import warnings\n",
    "\n",
    "warnings.filterwarnings(\"ignore\")\n",
    "nltk.download('popular', quiet=True)\n",
    "\n",
    "stopword = nltk.corpus.stopwords.words('english')\n",
    "ps = nltk.PorterStemmer()"
   ]
  },
  {
   "cell_type": "markdown",
   "metadata": {
    "id": "55uKXLxgV8hm"
   },
   "source": [
    "The ag news dataset comprises around 18000 news text in 4 categories."
   ]
  },
  {
   "cell_type": "code",
   "execution_count": 3,
   "metadata": {
    "id": "AEp1SHe5DKCB"
   },
   "outputs": [
    {
     "data": {
      "text/html": [
       "<div>\n",
       "<style scoped>\n",
       "    .dataframe tbody tr th:only-of-type {\n",
       "        vertical-align: middle;\n",
       "    }\n",
       "\n",
       "    .dataframe tbody tr th {\n",
       "        vertical-align: top;\n",
       "    }\n",
       "\n",
       "    .dataframe thead th {\n",
       "        text-align: right;\n",
       "    }\n",
       "</style>\n",
       "<table border=\"1\" class=\"dataframe\">\n",
       "  <thead>\n",
       "    <tr style=\"text-align: right;\">\n",
       "      <th></th>\n",
       "      <th>Unnamed: 0</th>\n",
       "      <th>ClassIndex</th>\n",
       "      <th>Title</th>\n",
       "      <th>Description</th>\n",
       "    </tr>\n",
       "  </thead>\n",
       "  <tbody>\n",
       "    <tr>\n",
       "      <th>0</th>\n",
       "      <td>73346</td>\n",
       "      <td>1</td>\n",
       "      <td>\"Greed and arrogance,\" made Rod Stewart keep c...</td>\n",
       "      <td>AFP - Raspy-voiced British Rock star Rod Stewa...</td>\n",
       "    </tr>\n",
       "    <tr>\n",
       "      <th>1</th>\n",
       "      <td>74277</td>\n",
       "      <td>1</td>\n",
       "      <td>Darfur families face food misery</td>\n",
       "      <td>A World Food Programme survey says almost half...</td>\n",
       "    </tr>\n",
       "    <tr>\n",
       "      <th>2</th>\n",
       "      <td>22299</td>\n",
       "      <td>1</td>\n",
       "      <td>Italy looks for Arab support to free hostages ...</td>\n",
       "      <td>ROME : A top Italian official leaves for the M...</td>\n",
       "    </tr>\n",
       "    <tr>\n",
       "      <th>3</th>\n",
       "      <td>35338</td>\n",
       "      <td>1</td>\n",
       "      <td>Air pollution causes five million deaths each ...</td>\n",
       "      <td>AFP - As many as five million deaths are cause...</td>\n",
       "    </tr>\n",
       "    <tr>\n",
       "      <th>4</th>\n",
       "      <td>68778</td>\n",
       "      <td>2</td>\n",
       "      <td>Fergie: Only A Win Will Do</td>\n",
       "      <td>Sir Alex Ferguson is convinced Manchester Unit...</td>\n",
       "    </tr>\n",
       "  </tbody>\n",
       "</table>\n",
       "</div>"
      ],
      "text/plain": [
       "   Unnamed: 0  ClassIndex                                              Title  \\\n",
       "0       73346           1  \"Greed and arrogance,\" made Rod Stewart keep c...   \n",
       "1       74277           1                   Darfur families face food misery   \n",
       "2       22299           1  Italy looks for Arab support to free hostages ...   \n",
       "3       35338           1  Air pollution causes five million deaths each ...   \n",
       "4       68778           2                         Fergie: Only A Win Will Do   \n",
       "\n",
       "                                         Description  \n",
       "0  AFP - Raspy-voiced British Rock star Rod Stewa...  \n",
       "1  A World Food Programme survey says almost half...  \n",
       "2  ROME : A top Italian official leaves for the M...  \n",
       "3  AFP - As many as five million deaths are cause...  \n",
       "4  Sir Alex Ferguson is convinced Manchester Unit...  "
      ]
     },
     "execution_count": 3,
     "metadata": {},
     "output_type": "execute_result"
    }
   ],
   "source": [
    "# Read the csv file agnews.csv\n",
    "mydata_train = pd.read_csv(\"agnews.csv\")\n",
    "mydata_train.head()"
   ]
  },
  {
   "cell_type": "code",
   "execution_count": 4,
   "metadata": {
    "id": "OscOmcE0DMHa"
   },
   "outputs": [
    {
     "name": "stdout",
     "output_type": "stream",
     "text": [
      "[1, 1, 1, 1, 2, 2, 1, 1, 3, 4]\n"
     ]
    }
   ],
   "source": [
    "# Print the news categories in the dataset\n",
    "print(list(mydata_train.ClassIndex)[:10]) # Limiting to first 10 to avoid flooding the page"
   ]
  },
  {
   "cell_type": "code",
   "execution_count": 5,
   "metadata": {},
   "outputs": [
    {
     "data": {
      "text/plain": [
       "[1, 1, 1, 1, 2, 2, 1, 1, 3, 4]"
      ]
     },
     "execution_count": 5,
     "metadata": {},
     "output_type": "execute_result"
    }
   ],
   "source": [
    "# Preparing the output values y for later use\n",
    "y = list(mydata_train.ClassIndex)\n",
    "y[:10]"
   ]
  },
  {
   "cell_type": "code",
   "execution_count": 6,
   "metadata": {
    "id": "JvQb2r0aDR_J"
   },
   "outputs": [
    {
     "name": "stdout",
     "output_type": "stream",
     "text": [
      "<class 'pandas.core.frame.DataFrame'>\n"
     ]
    }
   ],
   "source": [
    "# What is the type of 'mydata_train'\n",
    "print(type(mydata_train))"
   ]
  },
  {
   "cell_type": "code",
   "execution_count": 7,
   "metadata": {
    "id": "ozzwyREhDaMK"
   },
   "outputs": [
    {
     "name": "stdout",
     "output_type": "stream",
     "text": [
      "18000\n",
      "18000\n"
     ]
    }
   ],
   "source": [
    "# Check the length of the data\n",
    "print(len(mydata_train.ClassIndex))\n",
    "print(len(mydata_train.Description))\n"
   ]
  },
  {
   "cell_type": "markdown",
   "metadata": {
    "id": "BlipMuEpDz-K"
   },
   "source": [
    "### Expected Output: \n",
    "18000\n",
    "\n",
    "18000\n"
   ]
  },
  {
   "cell_type": "markdown",
   "metadata": {
    "id": "55FKOBBuEDI2"
   },
   "source": [
    "## Extracting Features from the Dataset                        (20 Points)"
   ]
  },
  {
   "cell_type": "markdown",
   "metadata": {
    "id": "u4GDENzmEEkG"
   },
   "source": [
    "In order to perform machine learning on text documents, we first need to turn the text content into numerical feature vectors."
   ]
  },
  {
   "cell_type": "markdown",
   "metadata": {
    "id": "OgxfDXmxEHid"
   },
   "source": [
    "### TF-IDF Vectorization"
   ]
  },
  {
   "cell_type": "markdown",
   "metadata": {
    "id": "Q8qNFFYyEKsa"
   },
   "source": [
    "Our model cannot simply read the text data so we convert it into numerical format. In order to convert the data into numerical format we create vectors from text.\n",
    "\n",
    "For this particular purpose we could either employ Bag of Words or TF-IDF Vectorization\n",
    "\n",
    "Bag of Words just creates a set of vectors containing the count of word occurrences in the document (reviews), while the TF-IDF model contains information on the more important words and the less important ones as well.\n",
    "\n",
    "TF-IDF stands for Term Frequency-Inverse Document Frequency, which instead of giving more weight to words that occur more frequently, it gives a higher weight to words that occur less frequently.\n",
    "\n",
    "Ref: 6.5 TF-IDF: Weighing terms in the vector section of Dan Jurafsky book\n",
    "https://web.stanford.edu/~jurafsky/slp3/6.pdf"
   ]
  },
  {
   "cell_type": "markdown",
   "metadata": {
    "id": "dLzgRJRZEP3k"
   },
   "source": [
    "TF-IDF = Term Frequency (TF) * Inverse Document Frequency (IDF)"
   ]
  },
  {
   "cell_type": "markdown",
   "metadata": {
    "id": "xe5lHi3NE1QJ"
   },
   "source": [
    "Term Frequency is the measure of the frequency of words in a document. It is the ratio of the number of times the word appears in a document compared to the total number of words in that document.\n",
    "\n",
    "The words that occur rarely in the corpus have a high IDF score. It is the log of the ratio of the number of documents to the number of documents containing the word."
   ]
  },
  {
   "cell_type": "markdown",
   "metadata": {
    "id": "HXotAER_EQ8T"
   },
   "source": [
    "idf(t) = log(N/(df + 1))"
   ]
  },
  {
   "cell_type": "markdown",
   "metadata": {
    "id": "HZ2AatmvFtE-"
   },
   "source": [
    "## Preprocessing the Corpus"
   ]
  },
  {
   "cell_type": "code",
   "execution_count": 8,
   "metadata": {
    "id": "2vzVI8ylFAEl"
   },
   "outputs": [],
   "source": [
    "text = mydata_train.Description"
   ]
  },
  {
   "cell_type": "code",
   "execution_count": 9,
   "metadata": {},
   "outputs": [],
   "source": [
    "# Clean the text (I am recycling my function from Assignment 1, but modifying it slightly)\n",
    "\n",
    "def clean_text(text):\n",
    "    '''\n",
    "    Input:\n",
    "        review: a string containing a review.\n",
    "    Output:\n",
    "        review_cleaned: a processed review. \n",
    "\n",
    "    '''\n",
    "    #Convert to string\n",
    "    text_cleaned = str(text)\n",
    "    \n",
    "    # Convert lowercase\n",
    "    text_cleaned = text_cleaned.lower()\n",
    "    \n",
    "    # Remove punctuation\n",
    "    text_cleaned  = \"\".join([char for char in text_cleaned if char not in string.punctuation])\n",
    "    \n",
    "    # Remove stopwords\n",
    "    text_cleaned = \" \".join([word for word in re.split('\\W+', text_cleaned) if word not in stopword])\n",
    "        \n",
    "    # Remove multiple spaces\n",
    "    text_cleaned = re.sub(' +', ' ', text_cleaned)\n",
    "    \n",
    "    return text_cleaned\n"
   ]
  },
  {
   "cell_type": "code",
   "execution_count": 10,
   "metadata": {},
   "outputs": [
    {
     "data": {
      "text/plain": [
       "'opec 39s president taken unprecedented step urging united states tap emergency crude reserves bring world oil prices'"
      ]
     },
     "execution_count": 10,
     "metadata": {},
     "output_type": "execute_result"
    }
   ],
   "source": [
    "clean_text(text[123])"
   ]
  },
  {
   "cell_type": "code",
   "execution_count": 11,
   "metadata": {},
   "outputs": [],
   "source": [
    "text_clean = []\n",
    "\n",
    "for line in text:\n",
    "    tmp_text = clean_text(line)\n",
    "    text_clean.append(tmp_text)"
   ]
  },
  {
   "cell_type": "code",
   "execution_count": 12,
   "metadata": {},
   "outputs": [
    {
     "data": {
      "text/plain": [
       "['opec',\n",
       " '39s',\n",
       " 'president',\n",
       " 'taken',\n",
       " 'unprecedented',\n",
       " 'step',\n",
       " 'urging',\n",
       " 'united',\n",
       " 'states',\n",
       " 'tap',\n",
       " 'emergency',\n",
       " 'crude',\n",
       " 'reserves',\n",
       " 'bring',\n",
       " 'world',\n",
       " 'oil',\n",
       " 'prices']"
      ]
     },
     "execution_count": 12,
     "metadata": {},
     "output_type": "execute_result"
    }
   ],
   "source": [
    "# Checking to see an example of what the spit data will look like\n",
    "text_clean[123].split(\" \")"
   ]
  },
  {
   "cell_type": "code",
   "execution_count": 13,
   "metadata": {
    "id": "XyJbe42AFuHp"
   },
   "outputs": [
    {
     "name": "stdout",
     "output_type": "stream",
     "text": [
      "word_list:  36859\n",
      "total_docs:  18000\n",
      "dict_idx:  36859\n"
     ]
    }
   ],
   "source": [
    "# Preprocessing the data\n",
    "\n",
    "text = text_clean\n",
    "\n",
    "lines = [] \n",
    "word_list = [] \n",
    " \n",
    "for line in text:\n",
    "    #tokenize the text documents and update the lists word_list and lines\n",
    "    \n",
    "    # Tokenizing use the split() function\n",
    "    tokenized_text = line.split(\" \")\n",
    "    \n",
    "    # Appending the result to the lines variable\n",
    "    lines.append(tokenized_text)\n",
    "    \n",
    "    # Iterating over the words and adding them to the word list\n",
    "    for word in tokenized_text:\n",
    "        word_list.append(word)\n",
    "    \n",
    "# Make sure the word_list contains unique tokens\n",
    "word_list = list(set(word_list))\n",
    "print(\"word_list: \", len(word_list))\n",
    "\n",
    "# Calculate the total documents present in the corpus\n",
    "total_docs = len(lines)\n",
    "print(\"total_docs: \", total_docs)\n",
    " \n",
    "#Create a dictionary to keep track of index of each word\n",
    "dict_idx = {k: v for v, k in enumerate(word_list)}\n",
    "\n",
    "# Checking the total number of words in the dictionary\n",
    "print(\"dict_idx: \", len(dict_idx))"
   ]
  },
  {
   "cell_type": "code",
   "execution_count": 14,
   "metadata": {},
   "outputs": [
    {
     "data": {
      "text/plain": [
       "15149"
      ]
     },
     "execution_count": 14,
     "metadata": {},
     "output_type": "execute_result"
    }
   ],
   "source": [
    "dict_idx[\"star\"]"
   ]
  },
  {
   "cell_type": "code",
   "execution_count": 15,
   "metadata": {},
   "outputs": [
    {
     "data": {
      "text/plain": [
       "30481"
      ]
     },
     "execution_count": 15,
     "metadata": {},
     "output_type": "execute_result"
    }
   ],
   "source": [
    "# Checking the index of a word\n",
    "dict_idx[\"psychiatrist\"]"
   ]
  },
  {
   "cell_type": "code",
   "execution_count": 16,
   "metadata": {},
   "outputs": [
    {
     "data": {
      "text/plain": [
       "27960"
      ]
     },
     "execution_count": 16,
     "metadata": {},
     "output_type": "execute_result"
    }
   ],
   "source": [
    "# Checking the index of a word\n",
    "dict_idx[\"british\"]"
   ]
  },
  {
   "cell_type": "code",
   "execution_count": 17,
   "metadata": {
    "id": "E6M_CoI9FxYb"
   },
   "outputs": [],
   "source": [
    "# Create a frequency dictionary\n",
    " \n",
    "def frequency_dict(lines):\n",
    "    '''\n",
    "    lines: list containing all the tokens\n",
    "    ---\n",
    "    freq_word: returns a dictionary which keeps the count of the number of documents containing the given word\n",
    "    '''\n",
    "    # Create a dict to save results to\n",
    "    freq_word = {}\n",
    "    \n",
    "    # Iterate over each line\n",
    "    for line in lines:\n",
    "        \n",
    "        # Iterate over each word in each line\n",
    "        for word in line:\n",
    "            \n",
    "            # Check if the word exists, and increment\n",
    "            if word in freq_word:\n",
    "                freq_word[word] += 1\n",
    "            # If does not exist, set to 1\n",
    "            else:\n",
    "                freq_word[word] = 1 \n",
    "                \n",
    "    return freq_word"
   ]
  },
  {
   "cell_type": "code",
   "execution_count": 18,
   "metadata": {
    "id": "qFkt9KBgFz43"
   },
   "outputs": [],
   "source": [
    "# Create a dictionary containing the frequency of words utilizing the 'frequency_dict' function\n",
    "\n",
    "# Expect this chunk to take a comparatively longer time to execute since our dataset is large\n",
    "\n",
    "freq_word = frequency_dict(lines)"
   ]
  },
  {
   "cell_type": "code",
   "execution_count": 19,
   "metadata": {},
   "outputs": [
    {
     "data": {
      "text/plain": [
       "37"
      ]
     },
     "execution_count": 19,
     "metadata": {},
     "output_type": "execute_result"
    }
   ],
   "source": [
    "# Checking some examples\n",
    "freq_word[\"natural\"]"
   ]
  },
  {
   "cell_type": "code",
   "execution_count": 20,
   "metadata": {},
   "outputs": [
    {
     "data": {
      "text/plain": [
       "20"
      ]
     },
     "execution_count": 20,
     "metadata": {},
     "output_type": "execute_result"
    }
   ],
   "source": [
    "# Checking some examples\n",
    "freq_word[\"language\"]"
   ]
  },
  {
   "cell_type": "code",
   "execution_count": 21,
   "metadata": {},
   "outputs": [
    {
     "data": {
      "text/plain": [
       "13"
      ]
     },
     "execution_count": 21,
     "metadata": {},
     "output_type": "execute_result"
    }
   ],
   "source": [
    "# Checking some examples\n",
    "freq_word[\"processing\"]"
   ]
  },
  {
   "cell_type": "code",
   "execution_count": 22,
   "metadata": {
    "id": "vLvPijR_GKHn"
   },
   "outputs": [],
   "source": [
    "# Create a function to calculate the Term Frequency\n",
    "\n",
    "def term_frequency(document, word):\n",
    "    '''\n",
    "    document: list containing the entire corpus\n",
    "    word: word whose term frequency is to be calculated\n",
    "    ---\n",
    "    tf: returns term frequency value\n",
    "    '''    \n",
    "    # Calculate the word occurance in the given document\n",
    "    wof = [i for i in document if i == word]\n",
    "\n",
    "    # Calculate the TF by dividing the occurance by the len of document\n",
    "    tf = len(wof) / len(document)\n",
    "    \n",
    "    return tf"
   ]
  },
  {
   "cell_type": "code",
   "execution_count": 23,
   "metadata": {},
   "outputs": [
    {
     "data": {
      "text/plain": [
       "0.2857142857142857"
      ]
     },
     "execution_count": 23,
     "metadata": {},
     "output_type": "execute_result"
    }
   ],
   "source": [
    "term_frequency([\"cat\", \"dog\", \"pig\", \"spider\", \"dog\", \"jaguar\", \"elephant\"], \"dog\")"
   ]
  },
  {
   "cell_type": "code",
   "execution_count": 24,
   "metadata": {
    "id": "HA99G_yAGLCC"
   },
   "outputs": [],
   "source": [
    "# Create a function to calculate the Inverse Document Frequency\n",
    " \n",
    "def inverse_df(word):\n",
    "    '''\n",
    "    word: word whose inverse document frequency is to be calculated\n",
    "    ---\n",
    "    idf: return inverse document frequency value\n",
    "    '''\n",
    "    # Implement try/except to account for bad words\n",
    "    try:\n",
    "        # Increment by 1\n",
    "        wof = freq_word[word] + 1\n",
    "    except:\n",
    "        # Set as 1\n",
    "        wof = 1\n",
    "    \n",
    "    # calculate the log of total docs / wof\n",
    "    idf = np.log(total_docs/wof)\n",
    "    \n",
    "    return idf"
   ]
  },
  {
   "cell_type": "code",
   "execution_count": 25,
   "metadata": {},
   "outputs": [
    {
     "data": {
      "text/plain": [
       "7.600902459542082"
      ]
     },
     "execution_count": 25,
     "metadata": {},
     "output_type": "execute_result"
    }
   ],
   "source": [
    "# Check some example words\n",
    "inverse_df(\"dog\")"
   ]
  },
  {
   "cell_type": "code",
   "execution_count": 26,
   "metadata": {},
   "outputs": [
    {
     "data": {
      "text/plain": [
       "9.798127036878302"
      ]
     },
     "execution_count": 26,
     "metadata": {},
     "output_type": "execute_result"
    }
   ],
   "source": [
    "# Check some example words\n",
    "inverse_df(\"asdasdasd\")"
   ]
  },
  {
   "cell_type": "code",
   "execution_count": 27,
   "metadata": {},
   "outputs": [
    {
     "data": {
      "text/plain": [
       "9.104979856318357"
      ]
     },
     "execution_count": 27,
     "metadata": {},
     "output_type": "execute_result"
    }
   ],
   "source": [
    "# Check some example words\n",
    "inverse_df(\"saleh\")"
   ]
  },
  {
   "cell_type": "code",
   "execution_count": 28,
   "metadata": {},
   "outputs": [
    {
     "data": {
      "text/plain": [
       "4.382026634673881"
      ]
     },
     "execution_count": 28,
     "metadata": {},
     "output_type": "execute_result"
    }
   ],
   "source": [
    "# Check some example words\n",
    "inverse_df(\"1\")"
   ]
  },
  {
   "cell_type": "code",
   "execution_count": 29,
   "metadata": {
    "id": "F0irgwv2GRfE"
   },
   "outputs": [],
   "source": [
    "#Create a function to combine the term frequencies (TF) and inverse document (IDF) frequencies calculated above to get TF-IDF\n",
    "\n",
    "def tfidf(sentence, dict_idx):\n",
    "    '''\n",
    "    sentence: list containing the entire corpus\n",
    "    dict: dictionary keeping track of index of each word\n",
    "    ---\n",
    "    tf_idf_vec: returns computed tf-idf\n",
    "    '''\n",
    "    \n",
    "    # Generate a list of vectors of zero\n",
    "    tf_idf_vec = [0]*len(word_list)\n",
    "    \n",
    "    # Iterate over each word in the sentence\n",
    "    for word in sentence:\n",
    "        # Calculate the term frequency\n",
    "        tf_calc = term_frequency(sentence, word)\n",
    "        # Calculate the inverse document frequency\n",
    "        idf_calc = inverse_df(word)\n",
    "        \n",
    "        # Calculate tfidf\n",
    "        tfidf = tf_calc*idf_calc\n",
    "        \n",
    "        # Check for negative values\n",
    "        if tfidf < 0:\n",
    "            \n",
    "            # If negative, set to 0\n",
    "            tf_idf_vec[dict_idx[word]] = np.absolute(tfidf)\n",
    "        else:\n",
    "            # Calculate TF*IDF\n",
    "            tf_idf_vec[dict_idx[word]] = tfidf\n",
    "#         tf_idf_vec[dict_idx[word]] = tfidf\n",
    "        \n",
    "    return tf_idf_vec"
   ]
  },
  {
   "cell_type": "code",
   "execution_count": 30,
   "metadata": {
    "id": "_VKJhqatGWpV"
   },
   "outputs": [
    {
     "name": "stdout",
     "output_type": "stream",
     "text": [
      "Wall time: 5.32 s\n"
     ]
    }
   ],
   "source": [
    "%%time\n",
    "\n",
    "#Compute the vectors utilizing the 'tfidf' function created above to obtain a TF-IDF Encoded text corpus\n",
    "\n",
    "# Create a list to save all document vectors\n",
    "doc_vecs = []\n",
    "\n",
    "# Iterate over each line in the lines variable\n",
    "for line in lines:\n",
    "    \n",
    "    # Calculate the TFIDF for that line\n",
    "    tmp_vec = tfidf(line, dict_idx)\n",
    "    \n",
    "    # Append the TFIDF vector to the doc_vecs list\n",
    "    doc_vecs.append(tmp_vec)"
   ]
  },
  {
   "cell_type": "code",
   "execution_count": null,
   "metadata": {},
   "outputs": [],
   "source": [
    "#min(min(x for x in doc_vecs))"
   ]
  },
  {
   "cell_type": "code",
   "execution_count": 31,
   "metadata": {},
   "outputs": [
    {
     "name": "stdout",
     "output_type": "stream",
     "text": [
      "[0.3186097961847109, 0.19920386415078833, 0.41137522530132314, 0.44215028215887364, 0.5675253613989899, 0.46593620021967236, 0.3804544482263847, 0.7016986813816788, 0.31911531606513793, 0.5155447865302919, 0.49012798087400444]\n"
     ]
    }
   ],
   "source": [
    "# Print an example, but limit to non-zero values to not flood the page\n",
    "print([i for i in doc_vecs[234] if i != 0])"
   ]
  },
  {
   "cell_type": "code",
   "execution_count": 32,
   "metadata": {},
   "outputs": [
    {
     "name": "stdout",
     "output_type": "stream",
     "text": [
      "[0.11053250026637006, 0.26241640995238363, 0.23482942427611583, 0.28948686601913765, 0.1779099286302907, 0.2864799389837823, 0.16824850968911984, 0.18263080898342277, 0.3146043490321735, 0.18953829345536513, 0.25047765895821306, 0.24456540995613427, 0.3231782042882095, 0.17232594853001268, 0.3001322821196077, 0.31271680186777995, 0.15850833043285825]\n"
     ]
    }
   ],
   "source": [
    "# Comparing against the sklearn tfidf vectorizer:\n",
    "\n",
    "from sklearn.feature_extraction.text import TfidfVectorizer\n",
    "\n",
    "vectorizer = TfidfVectorizer()\n",
    "X = vectorizer.fit_transform(text)\n",
    "# X.toarray()[123]\n",
    "\n",
    "print([i for i in X.toarray()[123] if i != 0])"
   ]
  },
  {
   "cell_type": "markdown",
   "metadata": {
    "id": "LE0UGUaSGb8I"
   },
   "source": [
    "## Multinomial Naive Bayes (10 Points)"
   ]
  },
  {
   "cell_type": "code",
   "execution_count": 47,
   "metadata": {},
   "outputs": [],
   "source": [
    "from sklearn.model_selection import train_test_split\n",
    "\n",
    "X_train, X_test, y_train, y_test = train_test_split(doc_vecs, y, random_state=30, test_size=0.1)"
   ]
  },
  {
   "cell_type": "code",
   "execution_count": 48,
   "metadata": {},
   "outputs": [
    {
     "name": "stdout",
     "output_type": "stream",
     "text": [
      "X_train:  16200\n",
      "X_test:  1800\n",
      "y_train:  16200\n",
      "y_test:  1800\n"
     ]
    }
   ],
   "source": [
    "print(\"X_train: \", len(X_train))\n",
    "print(\"X_test: \", len(X_test))\n",
    "print(\"y_train: \", len(y_train))\n",
    "print(\"y_test: \", len(y_test))\n"
   ]
  },
  {
   "cell_type": "code",
   "execution_count": 49,
   "metadata": {},
   "outputs": [
    {
     "data": {
      "text/plain": [
       "[0, 0, 0, 0, 0, 0, 0, 0, 0, 0]"
      ]
     },
     "execution_count": 49,
     "metadata": {},
     "output_type": "execute_result"
    }
   ],
   "source": [
    "X_train[123][:10]"
   ]
  },
  {
   "cell_type": "code",
   "execution_count": 50,
   "metadata": {},
   "outputs": [
    {
     "data": {
      "text/plain": [
       "3"
      ]
     },
     "execution_count": 50,
     "metadata": {},
     "output_type": "execute_result"
    }
   ],
   "source": [
    "y_train[123]"
   ]
  },
  {
   "cell_type": "code",
   "execution_count": 51,
   "metadata": {
    "id": "yWYcxrdJGfDC"
   },
   "outputs": [
    {
     "data": {
      "text/plain": [
       "MultinomialNB(alpha=1.0, class_prior=None, fit_prior=True)"
      ]
     },
     "execution_count": 51,
     "metadata": {},
     "output_type": "execute_result"
    }
   ],
   "source": [
    "#Fit a Multinomial Naive Bayes Model on our dataset\n",
    "from sklearn.naive_bayes import MultinomialNB\n",
    "\n",
    "# Prepare a model\n",
    "model = MultinomialNB()\n",
    "model.fit(X_train, y_train)"
   ]
  },
  {
   "cell_type": "code",
   "execution_count": 52,
   "metadata": {
    "id": "G6CiQB4qGfqH"
   },
   "outputs": [],
   "source": [
    "#Perform testing on the train dataset\n",
    "\n",
    "pred = model.predict(X_test)"
   ]
  },
  {
   "cell_type": "code",
   "execution_count": 58,
   "metadata": {
    "id": "yCLagGu6Gh6T"
   },
   "outputs": [
    {
     "name": "stdout",
     "output_type": "stream",
     "text": [
      "F1 Score:  0.8987174520246209\n",
      "Accuracy:  0.8994444444444445\n",
      "Difference in score due to strong preprocessing (cleaning) above\n"
     ]
    }
   ],
   "source": [
    "#Calculate the F1 Score and the Accuracy\n",
    "\n",
    "from sklearn.metrics import f1_score, accuracy_score\n",
    "\n",
    "F1_score = f1_score(y_test, pred, average='macro')\n",
    "Accuracy = accuracy_score(y_test, pred)\n",
    "\n",
    "print(\"F1 Score: \", F1_score)\n",
    "print(\"Accuracy: \", Accuracy)\n",
    "print(\"Difference in score due to strong preprocessing (cleaning) above\")"
   ]
  },
  {
   "cell_type": "markdown",
   "metadata": {
    "id": "bbMRqJv5Gl2F"
   },
   "source": [
    "### Expected Output:\n",
    "F1 Score: 0.9604092771164052\n",
    "\n",
    "Accuracy: 0.9604444444444444\n"
   ]
  },
  {
   "cell_type": "markdown",
   "metadata": {
    "id": "AWRDuUqU-taV"
   },
   "source": [
    "Your accuracy does not have to be exactly the same. This is just to give you an estimate of what could you expect your accuracy to be around."
   ]
  },
  {
   "cell_type": "code",
   "execution_count": 59,
   "metadata": {},
   "outputs": [
    {
     "name": "stdout",
     "output_type": "stream",
     "text": [
      "             precision    recall  f1-score   support\n",
      "\n",
      "          1       0.90      0.90      0.90       448\n",
      "          2       0.94      0.98      0.96       456\n",
      "          3       0.86      0.86      0.86       452\n",
      "          4       0.89      0.85      0.87       444\n",
      "\n",
      "avg / total       0.90      0.90      0.90      1800\n",
      "\n"
     ]
    }
   ],
   "source": [
    "from sklearn.metrics import classification_report\n",
    "\n",
    "print(classification_report(y_test, pred))"
   ]
  },
  {
   "cell_type": "markdown",
   "metadata": {
    "id": "UfMc8cz93Cc0"
   },
   "source": [
    "## Question 2 Vector Visualization"
   ]
  },
  {
   "cell_type": "markdown",
   "metadata": {
    "id": "70iwEeL23F7K"
   },
   "source": [
    "In this unsupervised learning task we are going to cluster wikipedia articles into groups using T-SNE visualization after vectorization."
   ]
  },
  {
   "cell_type": "markdown",
   "metadata": {
    "id": "UHx4YuxW36oM"
   },
   "source": [
    "### Collect articles from Wikipedia (10 points)\n",
    "\n",
    "In this section we will download articles from wikipedia and then vectorize them in the next step. You can select somewhat related topics or fetch the articles randomly. \n",
    "(Use dir() and help() functions or refer wikipedia documentation)\n",
    "You may also pick any other data source of your choice instead of wikipedia."
   ]
  },
  {
   "cell_type": "code",
   "execution_count": 60,
   "metadata": {
    "id": "jA419x6__mjg"
   },
   "outputs": [
    {
     "name": "stderr",
     "output_type": "stream",
     "text": [
      "WARNING: Ignoring invalid distribution -illow (c:\\users\\saleh alkhalifa\\anaconda3\\lib\\site-packages)\n",
      "WARNING: Ignoring invalid distribution -illow (c:\\users\\saleh alkhalifa\\anaconda3\\lib\\site-packages)\n",
      "WARNING: Ignoring invalid distribution -illow (c:\\users\\saleh alkhalifa\\anaconda3\\lib\\site-packages)\n",
      "WARNING: Ignoring invalid distribution -illow (c:\\users\\saleh alkhalifa\\anaconda3\\lib\\site-packages)\n",
      "WARNING: Ignoring invalid distribution -illow (c:\\users\\saleh alkhalifa\\anaconda3\\lib\\site-packages)\n",
      "WARNING: Ignoring invalid distribution -illow (c:\\users\\saleh alkhalifa\\anaconda3\\lib\\site-packages)\n",
      "\n",
      "[notice] A new release of pip available: 22.3.1 -> 23.0\n",
      "[notice] To update, run: python.exe -m pip install --upgrade pip\n"
     ]
    }
   ],
   "source": [
    "# install libraries\n",
    "!pip install wikipedia --quiet"
   ]
  },
  {
   "cell_type": "code",
   "execution_count": 209,
   "metadata": {
    "id": "vLMLk4K84Zbn"
   },
   "outputs": [
    {
     "name": "stdout",
     "output_type": "stream",
     "text": [
      "Found 0 -  Data science\n",
      "Found 1 -  Natural language processing\n",
      "Found 2 -  Deep learning\n",
      "Found 3 -  Bayes' theorem\n",
      "Found 4 -  Statistics\n",
      "Found 5 -  Algebra\n",
      "Found 6 -  Artificial intelligence\n",
      "Found 7 -  Semantic search\n",
      "Found 8 -  Linguistics\n",
      "Found 9 -  Linear regression\n",
      "Found 10 -  Ensemble learning\n",
      "Found 11 -  Keras\n",
      "Found 12 -  Python (programming language)\n",
      "Found 13 -  Supervised learning\n",
      "Found 14 -  Unsupervised learning\n",
      "Found 15 -  Saudi Arabia\n",
      "Found 16 -  Dubai\n",
      "Found 17 -  Oman\n",
      "Found 18 -  Bahrain\n",
      "Found 19 -  Jordan\n",
      "Found 20 -  Afghanistan\n",
      "Found 21 -  Egypt\n",
      "Found 22 -  Pakistan\n",
      "Found 23 -  Iraq\n",
      "Found 24 -  Lebanon\n",
      "Found 25 -  Syria\n",
      "Found 26 -  Iran\n",
      "Found 27 -  Algeria\n",
      "Found 28 -  Morocco\n",
      "Found 29 -  Tunisia\n",
      "Found 30 -  Basketball\n",
      "Found 31 -  Golf\n",
      "Found 32 -  Football\n",
      "Found 33 -  Hockey\n",
      "Found 34 -  Volleyball\n",
      "Found 35 -  Racquetball\n",
      "Found 36 -  Sport\n",
      "Found 37 -  Skating\n",
      "Found 38 -  Running\n",
      "Found 39 -  Skiing\n",
      "Found 40 -  National Football League\n",
      "Found 41 -  Baseball\n",
      "Found 42 -  Association football\n",
      "Found 43 -  Badminton\n",
      "Found 44 -  Dodgeball\n"
     ]
    }
   ],
   "source": [
    "import wikipedia\n",
    "from wikipedia.exceptions import WikipediaException\n",
    "\n",
    "'''\n",
    " Generate a list of wikipedia article to cluster \n",
    " You can maintain a static list of titles or generate them randomly using wikipedia library\n",
    " Some topics include:\n",
    " [\"Northeastern Unversity\", \"Natural language processing\", \"Machine learning\", \"Quantum machine learning\", \"Artificial intelligence\", \"Data science\", \"Master in Data Science\", \n",
    " \"Bank of America\", \"Visa Inc.\", \"European Central Bank\", \"Bank\", \"Financial technology\",\"International Monetary Fund\", \n",
    " \"Basketball\", \"Swimming\", \"Tennis\", \"Football\", \"College Football\", \"Association Football\"]\n",
    "\n",
    " You can add more topics from different categories so that we have a diverse dataset to work with. \n",
    " Ex- About 3+ categories(groups), 3+ topics in each category, 3+ articles in each topic\n",
    "'''\n",
    "\n",
    "# selected topics\n",
    "topics = [\"Data science\", \"Natural Language Processing\", \"Deep Learning\", \"Bayes Theorem\", \"Statistics\", \"Algebra\", \"Artificial Intelligence\", \"Semantic Searching\", \"Lingustics\", \"Linear Regression\", \"Ensemble Learning\", \"Keras\", \"Python Language\", \"Supervised Learning\", \"Unsupervised Learning\",\n",
    "          \"Saudi Arabia\", \"Dubai\", \"Oman\", \"Bahrain\", \"Jordan\", \"Afghanistan\", \"Egypt\", \"Pakistan\", \"Iraq\", \"Lebanon\", \"Syria\", \"Iran\", \"Algeria\", \"Morocco\", \"Tunisia\",\n",
    "          \"Basketball\", \"Golf\", \"Football\", \"Hockey\", \"Volleyball\", \"Racketball\", \"Sports\", \"Skating\", \"Running\", \"Sking\", \"NFL\", \"Baseball\", \"Soccer\", \"Badminton\", \"Dodgeball\"\n",
    "         ]\n",
    "\n",
    "# list of articles to be downloaded\n",
    "articles = []\n",
    "for idx, topic in enumerate(topics):\n",
    "    article = wikipedia.search(topic)[0]\n",
    "    print(f\"Found {idx} - \", article)\n",
    "    articles.append(article)\n",
    "    \n",
    "# articles = [item for sublist in articles for item in sublist]\n",
    "\n",
    "# print(articles)\n",
    "\n",
    "# download and store articles (summaries) in this variable\n",
    "data = []\n",
    "for article in articles:\n",
    "#     print(\"Found: \", article)\n",
    "    data.append(wikipedia.summary(article))\n"
   ]
  },
  {
   "cell_type": "code",
   "execution_count": 231,
   "metadata": {},
   "outputs": [
    {
     "data": {
      "text/plain": [
       "['Data Science',\n",
       " 'Data Science',\n",
       " 'Data Science',\n",
       " 'Data Science',\n",
       " 'Data Science',\n",
       " 'Data Science',\n",
       " 'Data Science',\n",
       " 'Data Science',\n",
       " 'Data Science',\n",
       " 'Data Science',\n",
       " 'Data Science',\n",
       " 'Data Science',\n",
       " 'Data Science',\n",
       " 'Data Science',\n",
       " 'Data Science',\n",
       " 'Countries',\n",
       " 'Countries',\n",
       " 'Countries',\n",
       " 'Countries',\n",
       " 'Countries',\n",
       " 'Countries',\n",
       " 'Countries',\n",
       " 'Countries',\n",
       " 'Countries',\n",
       " 'Countries',\n",
       " 'Countries',\n",
       " 'Countries',\n",
       " 'Countries',\n",
       " 'Countries',\n",
       " 'Countries',\n",
       " 'Sports',\n",
       " 'Sports',\n",
       " 'Sports',\n",
       " 'Sports',\n",
       " 'Sports',\n",
       " 'Sports',\n",
       " 'Sports',\n",
       " 'Sports',\n",
       " 'Sports',\n",
       " 'Sports',\n",
       " 'Sports',\n",
       " 'Sports',\n",
       " 'Sports',\n",
       " 'Sports',\n",
       " 'Sports']"
      ]
     },
     "execution_count": 231,
     "metadata": {},
     "output_type": "execute_result"
    }
   ],
   "source": [
    "y = [\"Data Science\"] * 15 + [\"Countries\"] * 15 + [\"Sports\"] * 15\n",
    "y"
   ]
  },
  {
   "cell_type": "code",
   "execution_count": 213,
   "metadata": {},
   "outputs": [
    {
     "name": "stdout",
     "output_type": "stream",
     "text": [
      "Total Articles:  45\n",
      "Supervised learning (SL) is a machine learning paradigm for problems where the available data consists of labelled examples, meaning that each data point contains features (covariates) and an associated label. The goal of supervised learning algorithms is learning a function that maps feature vectors (inputs) to labels (output), based on example input-output pairs. It infers a function from labeled training data consisting of a set of training examples. In supervised learning, each example is a pair consisting of an input object (typically a vector) and a desired output value (also called the supervisory signal). A supervised learning algorithm analyzes the training data and produces an inferred function, which can be used for mapping new examples. An optimal scenario will allow for the algorithm to correctly determine the class labels for unseen instances. This requires the learning algorithm to generalize from the training data to unseen situations in a \"reasonable\" way (see inductive bias). This statistical quality of an algorithm is measured through the so-called generalization error.\n"
     ]
    }
   ],
   "source": [
    "print(\"Total Articles: \", len(data))\n",
    "print(data[14])"
   ]
  },
  {
   "cell_type": "markdown",
   "metadata": {
    "id": "IgpRv7wQ4Dpm"
   },
   "source": [
    "### Cleaning the Data (5 points)\n",
    "In this step you will decide whether to clean the data or not. If you choose to clean, you may utilize the clean function from assignment 1.\n",
    "\n",
    "**Question:** Why are you (not) choosing to clean the data? Think in terms of whether cleaning data will help in the clustering or not."
   ]
  },
  {
   "cell_type": "markdown",
   "metadata": {
    "id": "PnZpDKcaHTGq"
   },
   "source": [
    "**Answer(1-3 sentences):** "
   ]
  },
  {
   "cell_type": "markdown",
   "metadata": {},
   "source": [
    "- The main idea behind clustering is to group texts together based on similarity, so that texts that have more in common are more likely to be clustered together, and therefore are more similar\n",
    "- We clean the texts to make sure that similarity is calculated using 'important' features, and NOT words like \"and\", or \"the\".\n",
    "- We clean the texts the same way to remain consistent, so that we can obtain the best results possible; below, we will change the case to lower, remove punctuation, remove stop words, and then remove multiple (2 or more) spaces"
   ]
  },
  {
   "cell_type": "code",
   "execution_count": 214,
   "metadata": {
    "id": "lNj53Pxr963N"
   },
   "outputs": [],
   "source": [
    "# You can use Assignment 1's clean message function\n",
    "import re\n",
    "import nltk\n",
    "import string\n",
    "#nltk.download('punkt')\n",
    "#nltk.download('stopwords')\n",
    "\n",
    "def clean_message(message):\n",
    "    '''\n",
    "    Input:\n",
    "        review: a string containing a message.\n",
    "    Output:\n",
    "        review_cleaned: a processed message. \n",
    "\n",
    "    '''\n",
    "    #Convert to string\n",
    "    message = str(message)\n",
    "    \n",
    "    # Convert lowercase\n",
    "    message = message.lower()\n",
    "    \n",
    "    # Remove punctuation\n",
    "    message  = \"\".join([char for char in message if char not in string.punctuation])\n",
    "    \n",
    "    # Remove stopwords\n",
    "    message = \" \".join([word for word in re.split('\\W+', message) if word not in stopword])\n",
    "        \n",
    "    # Remove multiple spaces\n",
    "    message = re.sub(' +', ' ', message)\n",
    "    \n",
    "    return message\n"
   ]
  },
  {
   "cell_type": "code",
   "execution_count": 217,
   "metadata": {},
   "outputs": [
    {
     "data": {
      "text/plain": [
       "'supervised learning sl machine learning paradigm problems available data consists labelled examples meaning data point contains features covariates associated label goal supervised learning algorithms learning function maps feature vectors inputs labels output based example inputoutput pairs infers function labeled training data consisting set training examples supervised learning example pair consisting input object typically vector desired output value also called supervisory signal supervised learning algorithm analyzes training data produces inferred function used mapping new examples optimal scenario allow algorithm correctly determine class labels unseen instances requires learning algorithm generalize training data unseen situations reasonable way see inductive bias statistical quality algorithm measured socalled generalization error'"
      ]
     },
     "execution_count": 217,
     "metadata": {},
     "output_type": "execute_result"
    }
   ],
   "source": [
    "clean_message(data[13])"
   ]
  },
  {
   "cell_type": "markdown",
   "metadata": {
    "id": "bvRZUpmq-DmT"
   },
   "source": [
    "### Vectorize the articles (5 points)\n",
    "\n",
    "In this step, we will vectorize the text data. You can use TfidfVectorizer() or countVectorizer() from sklearn library."
   ]
  },
  {
   "cell_type": "code",
   "execution_count": 218,
   "metadata": {
    "id": "gJk8YY89-OU4"
   },
   "outputs": [],
   "source": [
    "from sklearn.feature_extraction.text import TfidfVectorizer\n",
    "\n",
    "# Calling TfidfVectorizer\n",
    "vectorizer = TfidfVectorizer()\n",
    "\n",
    "#Fitting and transforming the data we collected\n",
    "X = vectorizer.fit_transform(data)"
   ]
  },
  {
   "cell_type": "code",
   "execution_count": 224,
   "metadata": {
    "id": "DAIGlqEuINWA"
   },
   "outputs": [
    {
     "name": "stdout",
     "output_type": "stream",
     "text": [
      "(45, 3753)\n"
     ]
    }
   ],
   "source": [
    "print(X.shape)"
   ]
  },
  {
   "cell_type": "markdown",
   "metadata": {
    "id": "PKLvrKHRQaQq"
   },
   "source": [
    "### Sample Output:\n",
    "(36, 1552)"
   ]
  },
  {
   "cell_type": "markdown",
   "metadata": {
    "id": "M5ZrGrzD_G8d"
   },
   "source": [
    "### Plot Articles (10 points)\n",
    "Now we will try to verify the groups of articles using T-SNE from sklearn library."
   ]
  },
  {
   "cell_type": "code",
   "execution_count": 228,
   "metadata": {
    "id": "SjcuZBOe-oZq"
   },
   "outputs": [
    {
     "name": "stdout",
     "output_type": "stream",
     "text": [
      "(45, 2)\n"
     ]
    }
   ],
   "source": [
    " from sklearn.manifold import TSNE\n",
    "\n",
    "# call TSNE() to fit the data\n",
    "X_embedded = TSNE(n_components=2).fit_transform(X.toarray())\n",
    "\n",
    "# Printing the shape\n",
    "print(X_embedded.shape)"
   ]
  },
  {
   "cell_type": "code",
   "execution_count": 243,
   "metadata": {},
   "outputs": [
    {
     "data": {
      "text/html": [
       "<div>\n",
       "<style scoped>\n",
       "    .dataframe tbody tr th:only-of-type {\n",
       "        vertical-align: middle;\n",
       "    }\n",
       "\n",
       "    .dataframe tbody tr th {\n",
       "        vertical-align: top;\n",
       "    }\n",
       "\n",
       "    .dataframe thead th {\n",
       "        text-align: right;\n",
       "    }\n",
       "</style>\n",
       "<table border=\"1\" class=\"dataframe\">\n",
       "  <thead>\n",
       "    <tr style=\"text-align: right;\">\n",
       "      <th></th>\n",
       "      <th>TSNE1</th>\n",
       "      <th>TSNE2</th>\n",
       "      <th>Category</th>\n",
       "      <th>Label</th>\n",
       "    </tr>\n",
       "  </thead>\n",
       "  <tbody>\n",
       "    <tr>\n",
       "      <th>0</th>\n",
       "      <td>-46.271049</td>\n",
       "      <td>-14.064435</td>\n",
       "      <td>Data Science</td>\n",
       "      <td>Data science</td>\n",
       "    </tr>\n",
       "    <tr>\n",
       "      <th>1</th>\n",
       "      <td>-46.036804</td>\n",
       "      <td>4.877841</td>\n",
       "      <td>Data Science</td>\n",
       "      <td>Natural Language Processing</td>\n",
       "    </tr>\n",
       "    <tr>\n",
       "      <th>2</th>\n",
       "      <td>-54.495945</td>\n",
       "      <td>-32.287373</td>\n",
       "      <td>Data Science</td>\n",
       "      <td>Deep Learning</td>\n",
       "    </tr>\n",
       "    <tr>\n",
       "      <th>3</th>\n",
       "      <td>-26.542200</td>\n",
       "      <td>9.229443</td>\n",
       "      <td>Data Science</td>\n",
       "      <td>Bayes Theorem</td>\n",
       "    </tr>\n",
       "    <tr>\n",
       "      <th>4</th>\n",
       "      <td>34.438175</td>\n",
       "      <td>-9.573137</td>\n",
       "      <td>Data Science</td>\n",
       "      <td>Statistics</td>\n",
       "    </tr>\n",
       "  </tbody>\n",
       "</table>\n",
       "</div>"
      ],
      "text/plain": [
       "       TSNE1      TSNE2      Category                        Label\n",
       "0 -46.271049 -14.064435  Data Science                 Data science\n",
       "1 -46.036804   4.877841  Data Science  Natural Language Processing\n",
       "2 -54.495945 -32.287373  Data Science                Deep Learning\n",
       "3 -26.542200   9.229443  Data Science                Bayes Theorem\n",
       "4  34.438175  -9.573137  Data Science                   Statistics"
      ]
     },
     "execution_count": 243,
     "metadata": {},
     "output_type": "execute_result"
    }
   ],
   "source": [
    "# Converting to Dataframe for easier manipulation\n",
    "articles_df = pd.DataFrame(X_embedded, columns=[\"TSNE1\", \"TSNE2\"])\n",
    "articles_df[\"Category\"] = y\n",
    "articles_df[\"Label\" ] = topics\n",
    "articles_df.head()"
   ]
  },
  {
   "cell_type": "markdown",
   "metadata": {
    "id": "iCY_blxjO1bs"
   },
   "source": [
    "Plot and annotate the points with different markers for different expected groups."
   ]
  },
  {
   "cell_type": "code",
   "execution_count": 261,
   "metadata": {},
   "outputs": [
    {
     "data": {
      "image/png": "[encoded data removed]",
      "text/plain": [
       "<Figure size 720x576 with 1 Axes>"
      ]
     },
     "metadata": {
      "needs_background": "light"
     },
     "output_type": "display_data"
    }
   ],
   "source": [
    "import matplotlib.pyplot as plt\n",
    "import seaborn as sns\n",
    "\n",
    "# get a figure handle\n",
    "fig,ax = plt.subplots(figsize=(10,8))\n",
    "\n",
    "# Setting the two\n",
    "x = articles_df[\"TSNE1\"]\n",
    "y = articles_df[\"TSNE2\"]\n",
    "\n",
    "sns.scatterplot(data=articles_df, x=\"TSNE1\", y=\"TSNE2\", hue=\"Category\")\n",
    "\n",
    "for i, txt in enumerate(articles_df[\"Label\"]):\n",
    "    ax.annotate(txt, (x[i], y[i]))"
   ]
  },
  {
   "cell_type": "code",
   "execution_count": 268,
   "metadata": {},
   "outputs": [
    {
     "data": {
      "text/plain": [
       "<AxesSubplot:title={'center':'Figure Showing the KDE Plot'}, xlabel='TSNE1', ylabel='TSNE2'>"
      ]
     },
     "execution_count": 268,
     "metadata": {},
     "output_type": "execute_result"
    },
    {
     "data": {
      "image/png": "[encoded data removed]",
      "text/plain": [
       "<Figure size 1080x432 with 2 Axes>"
      ]
     },
     "metadata": {
      "needs_background": "light"
     },
     "output_type": "display_data"
    }
   ],
   "source": [
    "# Set the figure\n",
    "fig,ax = plt.subplots(figsize=(15,6))\n",
    "\n",
    "# Set a subplot and plot the scatter plot\n",
    "plt.subplot(1, 2, 1)\n",
    "plt.title(\"Figure Showing the Scatter Plot of Points\")\n",
    "sns.scatterplot(data=articles_df, x=\"TSNE1\", y=\"TSNE2\", hue=\"Category\")\n",
    "\n",
    "# Set a subplot and plot the KDE plot\n",
    "plt.subplot(1, 2, 2)\n",
    "plt.title(\"Figure Showing the KDE Plot\")\n",
    "sns.kdeplot(data=articles_df, x=\"TSNE1\", y=\"TSNE2\", hue=\"Category\", thresh=0.2)\n"
   ]
  },
  {
   "cell_type": "markdown",
   "metadata": {
    "id": "dYcEi1EC_UGO"
   },
   "source": [
    "**Question:** Comment about the categorizion done by T-SNE. Do the articles of related topics cluster together? (5 points)"
   ]
  },
  {
   "cell_type": "markdown",
   "metadata": {
    "id": "tde1Wu5HI6AA"
   },
   "source": [
    "**Answer(1-3 sentences):**  \n",
    "  \n"
   ]
  },
  {
   "cell_type": "markdown",
   "metadata": {},
   "source": [
    "- Overall, the clusters have some decent separation to them for sure since we can see the blue mostly on the left, the orange mostly at the top, and the green mostly on the bottom-right.\n",
    "- There are a few outliers in the data which caused some overlap between the clusters, and this is likely due to similarity in some of the words\n",
    "- Overall the clustering in my opinion looks good, and a next potential step here is to refine the text some more to avoid overlap"
   ]
  },
  {
   "cell_type": "markdown",
   "metadata": {
    "id": "U2xrJddIpSsd"
   },
   "source": [
    "# Question 3. Building Multinomial Naive Bayes and Neural Networks on Countvectors\n",
    "\n",
    "### We are gonna use Disaster Tweets Datasset for this task. We need to Predict which Tweets are about real disasters and which ones are not.\n",
    "\n",
    "### We are providing data.csv file along with this notebook. "
   ]
  },
  {
   "cell_type": "markdown",
   "metadata": {
    "id": "NJYmVbkvphgX"
   },
   "source": [
    "### Library Imports and Utility functions"
   ]
  },
  {
   "cell_type": "code",
   "execution_count": 273,
   "metadata": {
    "id": "BO-HU-7uorVX"
   },
   "outputs": [
    {
     "name": "stderr",
     "output_type": "stream",
     "text": [
      "[nltk_data] Downloading package stopwords to C:\\Users\\Saleh\n",
      "[nltk_data]     Alkhalifa\\AppData\\Roaming\\nltk_data...\n",
      "[nltk_data]   Package stopwords is already up-to-date!\n",
      "[nltk_data] Downloading package wordnet to C:\\Users\\Saleh\n",
      "[nltk_data]     Alkhalifa\\AppData\\Roaming\\nltk_data...\n",
      "[nltk_data]   Package wordnet is already up-to-date!\n",
      "[nltk_data] Downloading package words to C:\\Users\\Saleh\n",
      "[nltk_data]     Alkhalifa\\AppData\\Roaming\\nltk_data...\n",
      "[nltk_data]   Package words is already up-to-date!\n"
     ]
    }
   ],
   "source": [
    "from sklearn.feature_extraction.text import CountVectorizer\n",
    "from sklearn.feature_extraction.text import TfidfVectorizer\n",
    "import nltk\n",
    "from nltk.corpus import stopwords\n",
    "from nltk.stem import PorterStemmer\n",
    "from nltk.tokenize import word_tokenize\n",
    "import string\n",
    "import pandas as pd\n",
    "import re\n",
    "#string.punctuation\n",
    "import nltk\n",
    "nltk.download('stopwords')\n",
    "nltk.download('wordnet')\n",
    "nltk.download('words')\n",
    "\n",
    "stopword = nltk.corpus.stopwords.words('english')\n",
    "wn = nltk.WordNetLemmatizer()\n",
    "ps = nltk.PorterStemmer()\n",
    "words = set(nltk.corpus.words.words())\n",
    "\n",
    "\n",
    "def clean_text(text):\n",
    "  # From the last assignment\n",
    "    text = text.lower()\n",
    "    text = re.sub(r\"http\\S+\", \"\", text)\n",
    "    text = re.sub(r\"www.\\S+\", \"\", text)\n",
    "    text_links_removed = \"\".join([char for char in text if char not in string.punctuation])\n",
    "    text_cleaned = \" \".join([word for word in re.split('\\W+', text_links_removed)\n",
    "        if word not in stopword])\n",
    "    text = \" \".join([wn.lemmatize(word) for word in re.split('\\W+', text_cleaned)])\n",
    "    return text"
   ]
  },
  {
   "cell_type": "markdown",
   "metadata": {
    "id": "B0D5wVjZw7s0"
   },
   "source": [
    "### Q) Importing the datasets and do the necessary cleaning and convert the text into the vectors which are mentioned in the below code blocks. (10 points)"
   ]
  },
  {
   "cell_type": "code",
   "execution_count": 272,
   "metadata": {
    "id": "MOMhmIlGprK9"
   },
   "outputs": [
    {
     "data": {
      "text/plain": [
       "(7613, 2)"
      ]
     },
     "execution_count": 272,
     "metadata": {},
     "output_type": "execute_result"
    }
   ],
   "source": [
    "# Import the data.csv only use 'text' and 'target' columns\n",
    "\n",
    "# data\n",
    "df = pd.read_csv(\"data-1.csv\", usecols = [\"text\", \"target\"])\n",
    "\n",
    "# expected shape of dataset is (7613, 2)\n",
    "df.shape"
   ]
  },
  {
   "cell_type": "code",
   "execution_count": 274,
   "metadata": {
    "id": "PS7K3p7AqAI8"
   },
   "outputs": [],
   "source": [
    "# clean the text in the dataframe using the clean_text function provided above\n",
    "df[\"text_clean\"] = df[\"text\"].apply(clean_text)"
   ]
  },
  {
   "cell_type": "code",
   "execution_count": 275,
   "metadata": {},
   "outputs": [
    {
     "data": {
      "text/html": [
       "<div>\n",
       "<style scoped>\n",
       "    .dataframe tbody tr th:only-of-type {\n",
       "        vertical-align: middle;\n",
       "    }\n",
       "\n",
       "    .dataframe tbody tr th {\n",
       "        vertical-align: top;\n",
       "    }\n",
       "\n",
       "    .dataframe thead th {\n",
       "        text-align: right;\n",
       "    }\n",
       "</style>\n",
       "<table border=\"1\" class=\"dataframe\">\n",
       "  <thead>\n",
       "    <tr style=\"text-align: right;\">\n",
       "      <th></th>\n",
       "      <th>text</th>\n",
       "      <th>target</th>\n",
       "      <th>text_clean</th>\n",
       "    </tr>\n",
       "  </thead>\n",
       "  <tbody>\n",
       "    <tr>\n",
       "      <th>0</th>\n",
       "      <td>Our Deeds are the Reason of this #earthquake M...</td>\n",
       "      <td>1</td>\n",
       "      <td>deed reason earthquake may allah forgive u</td>\n",
       "    </tr>\n",
       "    <tr>\n",
       "      <th>1</th>\n",
       "      <td>Forest fire near La Ronge Sask. Canada</td>\n",
       "      <td>1</td>\n",
       "      <td>forest fire near la ronge sask canada</td>\n",
       "    </tr>\n",
       "    <tr>\n",
       "      <th>2</th>\n",
       "      <td>All residents asked to 'shelter in place' are ...</td>\n",
       "      <td>1</td>\n",
       "      <td>resident asked shelter place notified officer ...</td>\n",
       "    </tr>\n",
       "    <tr>\n",
       "      <th>3</th>\n",
       "      <td>13,000 people receive #wildfires evacuation or...</td>\n",
       "      <td>1</td>\n",
       "      <td>13000 people receive wildfire evacuation order...</td>\n",
       "    </tr>\n",
       "    <tr>\n",
       "      <th>4</th>\n",
       "      <td>Just got sent this photo from Ruby #Alaska as ...</td>\n",
       "      <td>1</td>\n",
       "      <td>got sent photo ruby alaska smoke wildfire pour...</td>\n",
       "    </tr>\n",
       "  </tbody>\n",
       "</table>\n",
       "</div>"
      ],
      "text/plain": [
       "                                                text  target  \\\n",
       "0  Our Deeds are the Reason of this #earthquake M...       1   \n",
       "1             Forest fire near La Ronge Sask. Canada       1   \n",
       "2  All residents asked to 'shelter in place' are ...       1   \n",
       "3  13,000 people receive #wildfires evacuation or...       1   \n",
       "4  Just got sent this photo from Ruby #Alaska as ...       1   \n",
       "\n",
       "                                          text_clean  \n",
       "0         deed reason earthquake may allah forgive u  \n",
       "1              forest fire near la ronge sask canada  \n",
       "2  resident asked shelter place notified officer ...  \n",
       "3  13000 people receive wildfire evacuation order...  \n",
       "4  got sent photo ruby alaska smoke wildfire pour...  "
      ]
     },
     "execution_count": 275,
     "metadata": {},
     "output_type": "execute_result"
    }
   ],
   "source": [
    "df.head()"
   ]
  },
  {
   "cell_type": "code",
   "execution_count": 296,
   "metadata": {
    "id": "GxZC6RIjq3bu"
   },
   "outputs": [],
   "source": [
    "# initialise count vectorizer from sklearn module with default parameter\n",
    "from sklearn.feature_extraction.text import CountVectorizer\n",
    "vectorizer = CountVectorizer()\n",
    "\n",
    "# fit and transform on dataset\n",
    "X = vectorizer.fit_transform(df[\"text_clean\"]).toarray()"
   ]
  },
  {
   "cell_type": "code",
   "execution_count": 297,
   "metadata": {
    "id": "OPLJgROsP0Mj"
   },
   "outputs": [],
   "source": [
    "# get the values of target column\n",
    "\n",
    "y = df[\"target\"].values"
   ]
  },
  {
   "cell_type": "code",
   "execution_count": 298,
   "metadata": {},
   "outputs": [],
   "source": [
    "# and printout the train.shape and validation.shape \n",
    "\n",
    "# X_train, X_test, y_train, y_test = train_test_split(X, y)\n",
    "\n",
    "# print(X_train.shape)\n",
    "# print(X_test.shape)"
   ]
  },
  {
   "cell_type": "markdown",
   "metadata": {
    "id": "xjsiH8YOw-Da"
   },
   "source": [
    "### Q) Build the neural networks using tensorflow keras by following the below instructions. Evaluate the model on different metrics and comment your observations. (15 points)"
   ]
  },
  {
   "cell_type": "code",
   "execution_count": 340,
   "metadata": {
    "id": "AQg14bkTq3KB"
   },
   "outputs": [],
   "source": [
    "import tensorflow as tf\n",
    "\n",
    "tf.random.set_seed(42)\n",
    "\n",
    "\n",
    "# complete this linear model in tensorflow\n",
    "def build_model(X):\n",
    "\n",
    "    # layer 1 : input layer\n",
    "    inp = tf.keras.Input((X.shape[1],))\n",
    "\n",
    "    # layer 2 : add the dense layer with 64 units and relu activation\n",
    "    x = tf.keras.layers.Dense(64, input_dim = X.shape[1] , activation = 'relu')(inp)\n",
    "\n",
    "    # layer 3 : add the dropout layer with dropout rate of 0.5\n",
    "    x = tf.keras.layers.Dropout(0.5)(x)\n",
    "\n",
    "    # layer 4 : add the dense layer with 32 units with tanh activation and with l2 regularization\n",
    "    x = tf.keras.layers.Dense(32, activation='tanh', kernel_regularizer=tf.keras.regularizers.l2(0.01))(x)\n",
    "\n",
    "    # layer 5 : add the dropout layer with dropout rate of 0.5\n",
    "    x = tf.keras.layers.Dropout(0.5)(x)\n",
    "\n",
    "    # layer 6 : add the dense layer with 16 units with tanh activation and with l2 regularization\n",
    "    x = tf.keras.layers.Dense(16, activation='tanh', kernel_regularizer=tf.keras.regularizers.l2(0.01))(x)\n",
    "\n",
    "    # layer 7 : add the dropout layer with dropout rate of 0.5\n",
    "    x = tf.keras.layers.Dropout(0.5)(x)\n",
    "\n",
    "    # layer 8 : output layer with units equal to 1 and activation as sigmoid\n",
    "    out = tf.keras.layers.Dense(1, activation='sigmoid')(x)\n",
    "\n",
    "    # use loss as binary crossentropy, optimizer as rmsprop and evaluate model on auc \n",
    "    model = tf.keras.Model(inputs=inp, outputs=out)\n",
    "    \n",
    "    auc = tf.keras.metrics.AUC(name=\"auc\")\n",
    "    \n",
    "    model.compile(loss='binary_crossentropy', optimizer='rmsprop', metrics=[auc])\n",
    "\n",
    "    return model\n"
   ]
  },
  {
   "cell_type": "code",
   "execution_count": 341,
   "metadata": {
    "id": "Q71CC1pIsx0O"
   },
   "outputs": [
    {
     "name": "stdout",
     "output_type": "stream",
     "text": [
      "############## Fold 1/5 #################\n",
      "Epoch 1/10\n",
      "381/381 [==============================] - 8s 14ms/step - loss: 0.7889 - auc: 0.7122 - val_loss: 0.6499 - val_auc: 0.7284\n",
      "Epoch 2/10\n",
      "381/381 [==============================] - 6s 15ms/step - loss: 0.5025 - auc: 0.8682 - val_loss: 0.6291 - val_auc: 0.7328\n",
      "Epoch 3/10\n",
      "381/381 [==============================] - 6s 15ms/step - loss: 0.4336 - auc: 0.8964 - val_loss: 0.6331 - val_auc: 0.7322\n",
      "Epoch 4/10\n",
      "381/381 [==============================] - 6s 15ms/step - loss: 0.4000 - auc: 0.9105 - val_loss: 0.6260 - val_auc: 0.7331\n",
      "Epoch 5/10\n",
      "381/381 [==============================] - 5s 14ms/step - loss: 0.3843 - auc: 0.9146 - val_loss: 0.6279 - val_auc: 0.7408\n",
      "Epoch 6/10\n",
      "381/381 [==============================] - 5s 14ms/step - loss: 0.3708 - auc: 0.9208 - val_loss: 0.6365 - val_auc: 0.7349\n",
      "Epoch 7/10\n",
      "381/381 [==============================] - 5s 14ms/step - loss: 0.3596 - auc: 0.9229 - val_loss: 0.6407 - val_auc: 0.7337\n",
      "Epoch 8/10\n",
      "381/381 [==============================] - 5s 14ms/step - loss: 0.3506 - auc: 0.9282 - val_loss: 0.6667 - val_auc: 0.7371\n",
      "Epoch 9/10\n",
      "381/381 [==============================] - 5s 14ms/step - loss: 0.3421 - auc: 0.9301 - val_loss: 0.6370 - val_auc: 0.7437\n",
      "Epoch 10/10\n",
      "381/381 [==============================] - 5s 14ms/step - loss: 0.3436 - auc: 0.9296 - val_loss: 0.6465 - val_auc: 0.7425\n"
     ]
    },
    {
     "data": {
      "image/png": "[encoded data removed]",
      "text/plain": [
       "<Figure size 720x216 with 2 Axes>"
      ]
     },
     "metadata": {
      "needs_background": "light"
     },
     "output_type": "display_data"
    },
    {
     "name": "stdout",
     "output_type": "stream",
     "text": [
      "############## Fold 2/5 #################\n",
      "Epoch 1/10\n",
      "381/381 [==============================] - 6s 15ms/step - loss: 0.7774 - auc: 0.7591 - val_loss: 0.6763 - val_auc: 0.7030\n",
      "Epoch 2/10\n",
      "381/381 [==============================] - 5s 14ms/step - loss: 0.4722 - auc: 0.8877 - val_loss: 0.6998 - val_auc: 0.7044\n",
      "Epoch 3/10\n",
      "381/381 [==============================] - 5s 14ms/step - loss: 0.4078 - auc: 0.9102 - val_loss: 0.7135 - val_auc: 0.7064\n",
      "Epoch 4/10\n",
      "381/381 [==============================] - 5s 14ms/step - loss: 0.3798 - auc: 0.9200 - val_loss: 0.7350 - val_auc: 0.7024\n",
      "Epoch 5/10\n",
      "381/381 [==============================] - 5s 14ms/step - loss: 0.3563 - auc: 0.9278 - val_loss: 0.7404 - val_auc: 0.7021\n",
      "Epoch 6/10\n",
      "381/381 [==============================] - 5s 14ms/step - loss: 0.3442 - auc: 0.9320 - val_loss: 0.7283 - val_auc: 0.7016\n",
      "Epoch 7/10\n",
      "381/381 [==============================] - 5s 14ms/step - loss: 0.3338 - auc: 0.9345 - val_loss: 0.7946 - val_auc: 0.7000\n",
      "Epoch 8/10\n",
      "381/381 [==============================] - 5s 14ms/step - loss: 0.3323 - auc: 0.9342 - val_loss: 0.7656 - val_auc: 0.6979\n",
      "Epoch 9/10\n",
      "381/381 [==============================] - 5s 14ms/step - loss: 0.3185 - auc: 0.9405 - val_loss: 0.7327 - val_auc: 0.6989\n",
      "Epoch 10/10\n",
      "381/381 [==============================] - 5s 14ms/step - loss: 0.3196 - auc: 0.9391 - val_loss: 0.8016 - val_auc: 0.6982\n"
     ]
    },
    {
     "data": {
      "image/png": "[encoded data removed]",
      "text/plain": [
       "<Figure size 720x216 with 2 Axes>"
      ]
     },
     "metadata": {
      "needs_background": "light"
     },
     "output_type": "display_data"
    },
    {
     "name": "stdout",
     "output_type": "stream",
     "text": [
      "############## Fold 3/5 #################\n",
      "Epoch 1/10\n",
      "381/381 [==============================] - 6s 15ms/step - loss: 0.7880 - auc: 0.7572 - val_loss: 0.6642 - val_auc: 0.7512\n",
      "Epoch 2/10\n",
      "381/381 [==============================] - 5s 14ms/step - loss: 0.4772 - auc: 0.8817 - val_loss: 0.6586 - val_auc: 0.7562\n",
      "Epoch 3/10\n",
      "381/381 [==============================] - 5s 14ms/step - loss: 0.4105 - auc: 0.9068 - val_loss: 0.6463 - val_auc: 0.7569\n",
      "Epoch 4/10\n",
      "381/381 [==============================] - 5s 14ms/step - loss: 0.3885 - auc: 0.9140 - val_loss: 0.6330 - val_auc: 0.7580\n",
      "Epoch 5/10\n",
      "381/381 [==============================] - 5s 14ms/step - loss: 0.3670 - auc: 0.9212 - val_loss: 0.6597 - val_auc: 0.7570\n",
      "Epoch 6/10\n",
      "381/381 [==============================] - 5s 14ms/step - loss: 0.3540 - auc: 0.9253 - val_loss: 0.6560 - val_auc: 0.7574\n",
      "Epoch 7/10\n",
      "381/381 [==============================] - 5s 14ms/step - loss: 0.3417 - auc: 0.9312 - val_loss: 0.6868 - val_auc: 0.7591\n",
      "Epoch 8/10\n",
      "381/381 [==============================] - 5s 14ms/step - loss: 0.3311 - auc: 0.9331 - val_loss: 0.7496 - val_auc: 0.7594\n",
      "Epoch 9/10\n",
      "381/381 [==============================] - 6s 15ms/step - loss: 0.3249 - auc: 0.9352 - val_loss: 0.7272 - val_auc: 0.7600\n",
      "Epoch 10/10\n",
      "381/381 [==============================] - 6s 15ms/step - loss: 0.3159 - auc: 0.9401 - val_loss: 0.7299 - val_auc: 0.7602\n"
     ]
    },
    {
     "data": {
      "image/png": "[encoded data removed]",
      "text/plain": [
       "<Figure size 720x216 with 2 Axes>"
      ]
     },
     "metadata": {
      "needs_background": "light"
     },
     "output_type": "display_data"
    },
    {
     "name": "stdout",
     "output_type": "stream",
     "text": [
      "############## Fold 4/5 #################\n",
      "Epoch 1/10\n",
      "381/381 [==============================] - 6s 15ms/step - loss: 0.7896 - auc: 0.7263 - val_loss: 0.6729 - val_auc: 0.7169\n",
      "Epoch 2/10\n",
      "381/381 [==============================] - 5s 14ms/step - loss: 0.4809 - auc: 0.8797 - val_loss: 0.6695 - val_auc: 0.7291\n",
      "Epoch 3/10\n",
      "381/381 [==============================] - 5s 14ms/step - loss: 0.4149 - auc: 0.9074 - val_loss: 0.6591 - val_auc: 0.7292\n",
      "Epoch 4/10\n",
      "381/381 [==============================] - 5s 14ms/step - loss: 0.3878 - auc: 0.9175 - val_loss: 0.6547 - val_auc: 0.7295\n",
      "Epoch 5/10\n",
      "381/381 [==============================] - 5s 14ms/step - loss: 0.3651 - auc: 0.9250 - val_loss: 0.6829 - val_auc: 0.7307\n",
      "Epoch 6/10\n",
      "381/381 [==============================] - 5s 14ms/step - loss: 0.3537 - auc: 0.9281 - val_loss: 0.6749 - val_auc: 0.7314\n",
      "Epoch 7/10\n",
      "381/381 [==============================] - 5s 14ms/step - loss: 0.3418 - auc: 0.9316 - val_loss: 0.6833 - val_auc: 0.7313\n",
      "Epoch 8/10\n",
      "381/381 [==============================] - 5s 14ms/step - loss: 0.3336 - auc: 0.9343 - val_loss: 0.7400 - val_auc: 0.7314\n",
      "Epoch 9/10\n",
      "381/381 [==============================] - 5s 14ms/step - loss: 0.3213 - auc: 0.9398 - val_loss: 0.7177 - val_auc: 0.7301\n",
      "Epoch 10/10\n",
      "381/381 [==============================] - 6s 15ms/step - loss: 0.3172 - auc: 0.9401 - val_loss: 0.6999 - val_auc: 0.7321\n"
     ]
    },
    {
     "data": {
      "image/png": "[encoded data removed]",
      "text/plain": [
       "<Figure size 720x216 with 2 Axes>"
      ]
     },
     "metadata": {
      "needs_background": "light"
     },
     "output_type": "display_data"
    },
    {
     "name": "stdout",
     "output_type": "stream",
     "text": [
      "############## Fold 5/5 #################\n",
      "Epoch 1/10\n",
      "381/381 [==============================] - 7s 16ms/step - loss: 0.7889 - auc: 0.7098 - val_loss: 0.5587 - val_auc: 0.8493\n",
      "Epoch 2/10\n",
      "381/381 [==============================] - 5s 14ms/step - loss: 0.5030 - auc: 0.8669 - val_loss: 0.5033 - val_auc: 0.8553\n",
      "Epoch 3/10\n",
      "381/381 [==============================] - 5s 14ms/step - loss: 0.4367 - auc: 0.8970 - val_loss: 0.5054 - val_auc: 0.8557\n",
      "Epoch 4/10\n",
      "381/381 [==============================] - 5s 14ms/step - loss: 0.4078 - auc: 0.9089 - val_loss: 0.4976 - val_auc: 0.8549\n",
      "Epoch 5/10\n",
      "381/381 [==============================] - 5s 14ms/step - loss: 0.3876 - auc: 0.9136 - val_loss: 0.5171 - val_auc: 0.8555\n",
      "Epoch 6/10\n",
      "381/381 [==============================] - 5s 14ms/step - loss: 0.3729 - auc: 0.9209 - val_loss: 0.5008 - val_auc: 0.8528\n",
      "Epoch 7/10\n",
      "381/381 [==============================] - 6s 15ms/step - loss: 0.3636 - auc: 0.9249 - val_loss: 0.4962 - val_auc: 0.8545\n",
      "Epoch 8/10\n",
      "381/381 [==============================] - 5s 14ms/step - loss: 0.3519 - auc: 0.9279 - val_loss: 0.5392 - val_auc: 0.8544\n",
      "Epoch 9/10\n",
      "381/381 [==============================] - 5s 14ms/step - loss: 0.3423 - auc: 0.9330 - val_loss: 0.5138 - val_auc: 0.8536\n",
      "Epoch 10/10\n",
      "381/381 [==============================] - 5s 14ms/step - loss: 0.3405 - auc: 0.9314 - val_loss: 0.5266 - val_auc: 0.8544\n"
     ]
    },
    {
     "data": {
      "image/png": "[encoded data removed]",
      "text/plain": [
       "<Figure size 720x216 with 2 Axes>"
      ]
     },
     "metadata": {
      "needs_background": "light"
     },
     "output_type": "display_data"
    }
   ],
   "source": [
    "# Now we will initialise the stratified K-Fold from sklearn with nsplits as 5\n",
    "from sklearn.model_selection import StratifiedKFold\n",
    "\n",
    "skf = StratifiedKFold(n_splits=5, random_state=42)\n",
    "\n",
    "# Now Split the countvectors and target (y)\n",
    "splits = skf.split(X, y)\n",
    "\n",
    "# Folds History\n",
    "histories = {'auc':[], 'loss':[], 'val_auc':[], 'val_loss':[]}\n",
    "\n",
    "# iterate through the train and valid index in splits for 5 folds\n",
    "for fold, (train_index, valid_index) in enumerate(splits):\n",
    "\n",
    "    print(f\"############## Fold {fold+1}/5 #################\")\n",
    "    \n",
    "    # Get X_train, X_valid, y_train, y_valid using indexes\n",
    "    X_train, X_valid = X[train_index], X[valid_index]\n",
    "    y_train, y_valid = y[train_index], y[valid_index]\n",
    "\n",
    "#     print(X_train)\n",
    "#     print(y_train)\n",
    "\n",
    "    #call the build_model function and initialize the model\n",
    "    model = build_model(X_train)\n",
    "#     print(model.summary())\n",
    "\n",
    "    # train and validate the model on the count vectors of text which we have created initially for 5 epochs, \n",
    "    # adjust batch size according to your computation power (suggestion use : 16)\n",
    "\n",
    "    history = model.fit(X_train, y_train, epochs=10, batch_size=16, validation_data=(X_valid, y_valid))\n",
    "    histories['auc'].append(history.history['auc'])\n",
    "    histories['loss'].append(history.history['loss'])\n",
    "    histories['val_auc'].append(history.history['val_auc'])\n",
    "    histories['val_loss'].append(history.history['val_loss'])\n",
    "    # plot the graph between training auc and validation auc\n",
    "    plt.figure(figsize=(10,3))\n",
    "\n",
    "    plt.subplot(1, 2, 1)\n",
    "    plt.title(\"Fold \"+str(i+1) + \" AUC:\")\n",
    "    plt.plot(history.history['auc'], label = 'Training AUC')\n",
    "    plt.plot(history.history['val_auc'], label = 'Validation AUC')\n",
    "    plt.legend()\n",
    "    plt.xlabel(\"Epochs\")\n",
    "    plt.ylabel(\"AUC\")\n",
    "\n",
    "    plt.subplot(1, 2, 2)\n",
    "    plt.title(\"Fold \"+str(i+1) + \" Loss:\")\n",
    "    plt.plot(history.history['loss'], label = 'Training Loss')\n",
    "    plt.plot(history.history['val_loss'], label = 'Validation Loss')\n",
    "    plt.legend()\n",
    "    plt.xlabel(\"Epochs\")\n",
    "    plt.ylabel(\"Loss\")\n",
    "    plt.show()\n"
   ]
  },
  {
   "cell_type": "code",
   "execution_count": 342,
   "metadata": {},
   "outputs": [],
   "source": [
    "auc = sorted([item for sublist in histories['auc'] for item in sublist])\n",
    "auc_val = sorted([item for sublist in histories['val_auc'] for item in sublist])\n",
    "loss = sorted([item for sublist in histories['loss'] for item in sublist], reverse=True)\n",
    "val_loss = sorted([item for sublist in histories['val_loss'] for item in sublist], reverse=True)"
   ]
  },
  {
   "cell_type": "code",
   "execution_count": 343,
   "metadata": {},
   "outputs": [
    {
     "data": {
      "image/png": "[encoded data removed]",
      "text/plain": [
       "<Figure size 720x216 with 2 Axes>"
      ]
     },
     "metadata": {
      "needs_background": "light"
     },
     "output_type": "display_data"
    }
   ],
   "source": [
    "# Set the figure\n",
    "plt.figure(figsize=(10,3))\n",
    "\n",
    "plt.subplot(1, 2, 1)\n",
    "plt.title(\"AUC\")\n",
    "plt.plot(auc, label = 'Training AUC')\n",
    "plt.plot(auc_val, label = 'Validation AUC')\n",
    "plt.legend()\n",
    "plt.xlabel(\"Epochs\")\n",
    "plt.ylabel(\"AUC\")\n",
    "\n",
    "plt.subplot(1, 2, 2)\n",
    "plt.title(\"Loss\")\n",
    "plt.plot(loss, label = 'Training Loss')\n",
    "plt.plot(val_loss, label = 'Validation LOss')\n",
    "plt.legend()\n",
    "plt.xlabel(\"Epochs\")\n",
    "plt.ylabel(\"Loss\")\n",
    "plt.show()\n"
   ]
  },
  {
   "cell_type": "code",
   "execution_count": 309,
   "metadata": {},
   "outputs": [
    {
     "data": {
      "image/png": "[encoded data removed]",
      "text/plain": [
       "<Figure size 432x288 with 1 Axes>"
      ]
     },
     "metadata": {
      "needs_background": "light"
     },
     "output_type": "display_data"
    }
   ],
   "source": [
    "plt.plot(history.history['auc_9'], label = 'Training AUC')\n",
    "plt.plot(history.history['val_auc_9'], label = 'Validation AUC')\n",
    "plt.legend()\n",
    "plt.title(\"Fold \"+str(i+1))\n",
    "plt.xlabel(\"Epochs\")\n",
    "plt.ylabel(\"AUC\")\n",
    "plt.show()"
   ]
  },
  {
   "cell_type": "markdown",
   "metadata": {
    "id": "7ZZKV7OTVKNG"
   },
   "source": [
    "### Q) Comment on the plots. How did it varied across different folds for neural networks?"
   ]
  },
  {
   "cell_type": "markdown",
   "metadata": {
    "id": "Z9NCC6iWVH3z"
   },
   "source": [
    "# Building Multinomial Navie Bayes on Countvectors"
   ]
  },
  {
   "cell_type": "code",
   "execution_count": 354,
   "metadata": {},
   "outputs": [
    {
     "name": "stdout",
     "output_type": "stream",
     "text": [
      "Name: scikit-learn\n",
      "Version: 0.22\n",
      "Summary: A set of python modules for machine learning and data mining\n",
      "Home-page: http://scikit-learn.org\n",
      "Author: \n",
      "Author-email: \n",
      "License: new BSD\n",
      "Location: c:\\users\\saleh alkhalifa\\anaconda3\\lib\\site-packages\n",
      "Requires: joblib, numpy, scipy\n",
      "Required-by: autokeras, bert-extractive-summarizer, bioinfokit, dash-bio, keras-tuner, lightgbm, pmdarima, pytorch-tabnet, sentence-transformers, shap, sklearn, umap-learn\n"
     ]
    },
    {
     "name": "stderr",
     "output_type": "stream",
     "text": [
      "WARNING: Ignoring invalid distribution -illow (c:\\users\\saleh alkhalifa\\anaconda3\\lib\\site-packages)\n"
     ]
    }
   ],
   "source": [
    "!pip show scikit-learn"
   ]
  },
  {
   "cell_type": "code",
   "execution_count": 357,
   "metadata": {
    "id": "KyAZNgsBsxwo"
   },
   "outputs": [
    {
     "name": "stdout",
     "output_type": "stream",
     "text": [
      "###### Fold 0 #######\n"
     ]
    },
    {
     "data": {
      "image/png": "[encoded data removed]",
      "text/plain": [
       "<Figure size 432x288 with 1 Axes>"
      ]
     },
     "metadata": {
      "needs_background": "light"
     },
     "output_type": "display_data"
    },
    {
     "name": "stdout",
     "output_type": "stream",
     "text": [
      "###### Fold 1 #######\n"
     ]
    },
    {
     "data": {
      "image/png": "[encoded data removed]",
      "text/plain": [
       "<Figure size 432x288 with 1 Axes>"
      ]
     },
     "metadata": {
      "needs_background": "light"
     },
     "output_type": "display_data"
    },
    {
     "name": "stdout",
     "output_type": "stream",
     "text": [
      "###### Fold 2 #######\n"
     ]
    },
    {
     "data": {
      "image/png": "[encoded data removed]",
      "text/plain": [
       "<Figure size 432x288 with 1 Axes>"
      ]
     },
     "metadata": {
      "needs_background": "light"
     },
     "output_type": "display_data"
    },
    {
     "name": "stdout",
     "output_type": "stream",
     "text": [
      "###### Fold 3 #######\n"
     ]
    },
    {
     "data": {
      "image/png": "[encoded data removed]",
      "text/plain": [
       "<Figure size 432x288 with 1 Axes>"
      ]
     },
     "metadata": {
      "needs_background": "light"
     },
     "output_type": "display_data"
    },
    {
     "name": "stdout",
     "output_type": "stream",
     "text": [
      "###### Fold 4 #######\n"
     ]
    },
    {
     "data": {
      "image/png": "[encoded data removed]",
      "text/plain": [
       "<Figure size 432x288 with 1 Axes>"
      ]
     },
     "metadata": {
      "needs_background": "light"
     },
     "output_type": "display_data"
    }
   ],
   "source": [
    "from sklearn import metrics\n",
    "\n",
    "splits = skf.split(X, y)\n",
    "\n",
    "# iterate through the train and valid index in splits for 5 folds. Use the splits created above.\n",
    "for fold, (train_index, valid_index) in enumerate(splits):\n",
    "    \n",
    "    print(f\"###### Fold {fold} #######\")\n",
    "    \n",
    "    # Get X_train, X_valid, y_train, y_valid using indexes\n",
    "    X_train, X_valid = X[train_index], X[valid_index]\n",
    "    y_train, y_valid = y[train_index], y[valid_index]\n",
    "\n",
    "    # intialise multinomial navie bayes with default parameters\n",
    "    model = MultinomialNB()\n",
    "    \n",
    "    # fit the data\n",
    "    model.fit(X_train, y_train)\n",
    "    \n",
    "    # plot AUC-ROC curve for validation data\n",
    "    # predict probabilities of the target variable\n",
    "    probas = model.predict_proba(X_valid)\n",
    "    # get the probabilities of the positive class only\n",
    "    probas_positive = probas[:, 1]\n",
    "\n",
    "    # calculate false positive rate, true positive rate, and probability thresholds\n",
    "    fpr, tpr, thresholds = metrics.roc_curve(y_valid, probas_positive)\n",
    "\n",
    "    # calculate area under the ROC curve\n",
    "    roc_auc = metrics.auc(fpr, tpr)\n",
    "\n",
    "    # plot the ROC curve\n",
    "    plt.plot(fpr, tpr, label='ROC curve (area = %0.2f)' % roc_auc)\n",
    "    plt.plot([0, 1], [0, 1], 'k--')\n",
    "    plt.xlim([0.0, 1.0])\n",
    "    plt.ylim([0.0, 1.05])\n",
    "    plt.xlabel('False Positive Rate')\n",
    "    plt.ylabel('True Positive Rate')\n",
    "    plt.title(f'Fold {fold} : ROC')\n",
    "    plt.legend(loc=\"lower right\")\n",
    "    plt.show()"
   ]
  },
  {
   "cell_type": "markdown",
   "metadata": {
    "id": "2eOdlcXOWRj6"
   },
   "source": [
    "### Q) Comment on the plots. How did it varied across different folds for Multinomial Naive Bayes?"
   ]
  },
  {
   "cell_type": "markdown",
   "metadata": {
    "id": "4adDDQWeQyGb"
   },
   "source": [
    "## Question 4 Theory Question  \n",
    "\n",
    "What is the difference between Count Vectorizer, TFIDF, Word2Vec and Glove? (5 points)"
   ]
  },
  {
   "cell_type": "markdown",
   "metadata": {
    "id": "cXTRkF6KRB_D"
   },
   "source": [
    "**Answer:**"
   ]
  },
  {
   "cell_type": "markdown",
   "metadata": {
    "id": "yQQsqcto79zE"
   },
   "source": [
    "What is the significant difference between the Niave Bayes Implementation using Bag of Words and TF-IDF? (5 points)"
   ]
  },
  {
   "cell_type": "markdown",
   "metadata": {
    "id": "JtiPCTZM8Aua"
   },
   "source": [
    "**Answer:**"
   ]
  },
  {
   "cell_type": "code",
   "execution_count": null,
   "metadata": {
    "id": "OaXBo1Bw8C1K"
   },
   "outputs": [],
   "source": []
  }
 ],
 "metadata": {
  "colab": {
   "collapsed_sections": [],
   "provenance": []
  },
  "kernelspec": {
   "display_name": "Python 3",
   "language": "python",
   "name": "python3"
  },
  "language_info": {
   "codemirror_mode": {
    "name": "ipython",
    "version": 3
   },
   "file_extension": ".py",
   "mimetype": "text/x-python",
   "name": "python",
   "nbconvert_exporter": "python",
   "pygments_lexer": "ipython3",
   "version": "3.8.5"
  }
 },
 "nbformat": 4,
 "nbformat_minor": 4
}
