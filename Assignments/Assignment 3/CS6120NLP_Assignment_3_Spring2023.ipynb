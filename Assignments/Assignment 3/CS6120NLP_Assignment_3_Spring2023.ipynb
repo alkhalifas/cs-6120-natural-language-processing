{
 "cells": [
  {
   "cell_type": "markdown",
   "metadata": {
    "id": "CNMrNlx_plWE"
   },
   "source": [
    "# **CS 6120: Natural Language Processing - Prof. Ahmad Uzair** \n",
    "\n",
    "### **Assignment 3: n-gram Language Models, Word Sense disambiguation(LSA using SVD), LSTM**\n",
    "\n",
    "### **Total points: 100**\n"
   ]
  },
  {
   "cell_type": "markdown",
   "metadata": {
    "id": "j2lfntjwAMLl"
   },
   "source": [
    "# Q1. Latent Semantic Analysis (35 Points) \n"
   ]
  },
  {
   "cell_type": "markdown",
   "metadata": {
    "id": "51a5UGlaAMLl"
   },
   "source": [
    " - A. Singular Value Decomposition (SVD) based distributed representation of text and documents. You can use python libraries for matrix decomposition (scipy). To demonstrate your work, use the example dataset (Table 2) of \"R. A. Harshman (1990). Indexing by latent semantic analysis. Journal of the American society for information science\". (10 Points)\n",
    "\n",
    " - B. Visualize (2-D) the documents and terms using library of your choice. (10 Points)\n",
    "\n",
    " - C. Implement a function that converts a query string to distributed representation and retrieves relevent documents. Visualize the the results as shown in Fig 1 of the paper. (10 Points)"
   ]
  },
  {
   "cell_type": "markdown",
   "metadata": {
    "id": "I9BatoveAMLm"
   },
   "source": [
    "## <CENTER>Task-1 (10 Points)"
   ]
  },
  {
   "cell_type": "markdown",
   "metadata": {
    "id": "Aj820sOAAMLm"
   },
   "source": [
    "### Input data"
   ]
  },
  {
   "cell_type": "code",
   "execution_count": 1,
   "metadata": {
    "id": "dJ_MSpFDAMLn"
   },
   "outputs": [],
   "source": [
    "#Dataset\n",
    "c1 = 'Computer vision is a field of artificial intelligence that focuses on enabling computers to interpret and understand visual information from the world.'\n",
    "c2 = 'One of the most prominent applications of computer vision is in autonomous vehicles, where it helps the vehicle \"see\" and make decisions based on its surroundings.'\n",
    "c3 = 'Computer vision is also used in facial recognition technology, which has become controversial due to concerns over privacy and potential misuse.'\n",
    "c4 = 'In the medical field, computer vision is used to assist doctors in diagnosing diseases and analyzing medical images such as x-rays and MRIs.'\n",
    "c5 = 'Computer vision is also used in security and surveillance systems, where it can detect and recognize suspicious activities or individuals.'\n",
    "m1 = 'Cybersecurity refers to the practices and technologies used to protect computer systems, networks, and data from unauthorized access, use, disclosure, disruption, modification, or destruction.'\n",
    "m2 = 'One of the most important applications of cybersecurity is in safeguarding sensitive data and personal information, such as financial data or healthcare records.'\n",
    "m3 = 'Cybersecurity is also essential in protecting critical infrastructure, such as power grids and transportation systems, from cyber attacks that could cause significant disruptions.'\n",
    "m4 = 'In the healthcare industry, cybersecurity is used to protect medical devices and prevent unauthorized access to patient data.'\n",
    "documents = [c1, c2, c3, c4, c5, m1, m2, m3, m4]"
   ]
  },
  {
   "cell_type": "markdown",
   "metadata": {
    "id": "U9-a9HfZAMLo"
   },
   "source": [
    "### Perform preprocessing of documents\n",
    "\n",
    "In the below cell remove punctuations and lowercase the message"
   ]
  },
  {
   "cell_type": "code",
   "execution_count": 2,
   "metadata": {
    "id": "cXUWU0cZAMLo"
   },
   "outputs": [],
   "source": [
    "# TASK CELL\n",
    "import re\n",
    "\n",
    "def preprocess(message):\n",
    "    '''\n",
    "    Input:\n",
    "        message: a string containing a message.\n",
    "    Output:\n",
    "        preprocessed_message_list: a list of words containing the processed message. \n",
    "    '''\n",
    "    \n",
    "    # Remove punctuation\n",
    "    message = re.sub('[^A-Za-z0-9]+', \" \", message)\n",
    "    \n",
    "    # Remove multiple spaces\n",
    "    message = re.sub(' +', \" \", message)\n",
    "    \n",
    "    # Lower Case\n",
    "    message = message.lower()\n",
    "    \n",
    "    # Convert to List\n",
    "    preprocessed_message_list = message.split(\" \")\n",
    "    \n",
    "    # Remove spaces\n",
    "    preprocessed_message_list = list(filter(None, preprocessed_message_list))\n",
    "   \n",
    "    # Return list\n",
    "    return preprocessed_message_list"
   ]
  },
  {
   "cell_type": "code",
   "execution_count": 3,
   "metadata": {},
   "outputs": [
    {
     "data": {
      "text/plain": [
       "['one',\n",
       " 'of',\n",
       " 'the',\n",
       " 'most',\n",
       " 'prominent',\n",
       " 'applications',\n",
       " 'of',\n",
       " 'computer',\n",
       " 'vision',\n",
       " 'is',\n",
       " 'in',\n",
       " 'autonomous',\n",
       " 'vehicles',\n",
       " 'where',\n",
       " 'it',\n",
       " 'helps',\n",
       " 'the',\n",
       " 'vehicle',\n",
       " 'see',\n",
       " 'and',\n",
       " 'make',\n",
       " 'decisions',\n",
       " 'based',\n",
       " 'on',\n",
       " 'its',\n",
       " 'surroundings']"
      ]
     },
     "execution_count": 3,
     "metadata": {},
     "output_type": "execute_result"
    }
   ],
   "source": [
    "preprocess(c2)"
   ]
  },
  {
   "cell_type": "markdown",
   "metadata": {
    "id": "i-oKwALnAMLo"
   },
   "source": [
    "### Verify preprocessed data"
   ]
  },
  {
   "cell_type": "code",
   "execution_count": 4,
   "metadata": {
    "id": "rtHfRaHtAMLo"
   },
   "outputs": [
    {
     "name": "stdout",
     "output_type": "stream",
     "text": [
      "['computer', 'vision', 'is', 'a', 'field', 'of', 'artificial', 'intelligence', 'that', 'focuses', 'on', 'enabling', 'computers', 'to', 'interpret', 'and', 'understand', 'visual', 'information', 'from', 'the', 'world']\n",
      "['one', 'of', 'the', 'most', 'prominent', 'applications', 'of', 'computer', 'vision', 'is', 'in', 'autonomous', 'vehicles', 'where', 'it', 'helps', 'the', 'vehicle', 'see', 'and', 'make', 'decisions', 'based', 'on', 'its', 'surroundings']\n",
      "['computer', 'vision', 'is', 'also', 'used', 'in', 'facial', 'recognition', 'technology', 'which', 'has', 'become', 'controversial', 'due', 'to', 'concerns', 'over', 'privacy', 'and', 'potential', 'misuse']\n",
      "['in', 'the', 'medical', 'field', 'computer', 'vision', 'is', 'used', 'to', 'assist', 'doctors', 'in', 'diagnosing', 'diseases', 'and', 'analyzing', 'medical', 'images', 'such', 'as', 'x', 'rays', 'and', 'mris']\n",
      "['computer', 'vision', 'is', 'also', 'used', 'in', 'security', 'and', 'surveillance', 'systems', 'where', 'it', 'can', 'detect', 'and', 'recognize', 'suspicious', 'activities', 'or', 'individuals']\n",
      "['cybersecurity', 'refers', 'to', 'the', 'practices', 'and', 'technologies', 'used', 'to', 'protect', 'computer', 'systems', 'networks', 'and', 'data', 'from', 'unauthorized', 'access', 'use', 'disclosure', 'disruption', 'modification', 'or', 'destruction']\n",
      "['one', 'of', 'the', 'most', 'important', 'applications', 'of', 'cybersecurity', 'is', 'in', 'safeguarding', 'sensitive', 'data', 'and', 'personal', 'information', 'such', 'as', 'financial', 'data', 'or', 'healthcare', 'records']\n",
      "['cybersecurity', 'is', 'also', 'essential', 'in', 'protecting', 'critical', 'infrastructure', 'such', 'as', 'power', 'grids', 'and', 'transportation', 'systems', 'from', 'cyber', 'attacks', 'that', 'could', 'cause', 'significant', 'disruptions']\n",
      "['in', 'the', 'healthcare', 'industry', 'cybersecurity', 'is', 'used', 'to', 'protect', 'medical', 'devices', 'and', 'prevent', 'unauthorized', 'access', 'to', 'patient', 'data']\n"
     ]
    }
   ],
   "source": [
    "for sent in documents:\n",
    "    print(preprocess(sent))"
   ]
  },
  {
   "cell_type": "markdown",
   "metadata": {
    "id": "6CxjNhwfAMLp"
   },
   "source": [
    "##### Expected Output\n",
    "```CPP\n",
    "['computer', 'vision', 'is', 'a', 'field', 'of', 'artificial', 'intelligence', 'that', 'focuses', 'on', 'enabling', 'computers', 'to', 'interpret', 'and', 'understand', 'visual', 'information', 'from', 'the', 'world']\n",
    "['one', 'of', 'the', 'most', 'prominent', 'applications', 'of', 'computer', 'vision', 'is', 'in', 'autonomous', 'vehicles', 'where', 'it', 'helps', 'the', 'vehicle', '\"see\"', 'and', 'make', 'decisions', 'based', 'on', 'its', 'surroundings']\n",
    "['computer', 'vision', 'is', 'also', 'used', 'in', 'facial', 'recognition', 'technology', 'which', 'has', 'become', 'controversial', 'due', 'to', 'concerns', 'over', 'privacy', 'and', 'potential', 'misuse']\n",
    "['in', 'the', 'medical', 'field', 'computer', 'vision', 'is', 'used', 'to', 'assist', 'doctors', 'in', 'diagnosing', 'diseases', 'and', 'analyzing', 'medical', 'images', 'such', 'as', 'x', 'rays', 'and', 'MRIs']\n",
    "['computer', 'vision', 'is', 'also', 'used', 'in', 'security', 'and', 'surveillance', 'systems', 'where', 'it', 'can', 'detect', 'and', 'recognize', 'suspicious', 'activities', 'or', 'individuals']\n",
    "['Cybersecurity', 'refers', 'to', 'the', 'practices', 'and', 'technologies', 'used', 'to', 'protect', 'computer', 'systems', 'networks', 'and', 'data', 'from', 'unauthorized', 'access', 'use', 'disclosure', 'disruption', 'modification', 'or', 'destruction']\n",
    "['one', 'of', 'the', 'most', 'important', 'applications', 'of', 'cybersecurity', 'is', 'in', 'safeguarding', 'sensitive', 'data', 'and', 'personal', 'information', 'such', 'as', 'financial', 'data', 'or', 'healthcare', 'records']\n",
    "['Cybersecurity', 'is', 'also', 'essential', 'in', 'protecting', 'critical', 'infrastructure', 'such', 'as', 'power', 'grids', 'and', 'transportation', 'systems', 'from', 'cyber', 'attacks', 'that', 'could', 'cause', 'significant', 'disruptions']\n",
    "['in', 'the', 'healthcare', 'industry', 'cybersecurity', 'is', 'used', 'to', 'protect', 'medical', 'devices', 'and', 'prevent', 'unauthorized', 'access', 'to', 'patient', 'data']\n",
    "```"
   ]
  },
  {
   "cell_type": "markdown",
   "metadata": {
    "id": "-WDV3e-4AMLp"
   },
   "source": [
    "### Assign names to document names\n",
    "In the below cell create a list of document names. It will be later used to visualize documents"
   ]
  },
  {
   "cell_type": "code",
   "execution_count": 5,
   "metadata": {
    "id": "SxujZEbrAMLp"
   },
   "outputs": [],
   "source": [
    "def createDocName(documents):\n",
    "    '''\n",
    "    Input:\n",
    "        documents: list of documents.\n",
    "    Output:\n",
    "        doc_names: a list of document names. \n",
    "\n",
    "    '''\n",
    "    doc_names = ['c1', 'c2', 'c3', 'c4', 'c5', 'm1', 'm2', 'm3', 'm4']\n",
    "\n",
    "    return doc_names\n"
   ]
  },
  {
   "cell_type": "code",
   "execution_count": 6,
   "metadata": {
    "id": "ovu9s_XCAMLp"
   },
   "outputs": [
    {
     "name": "stdout",
     "output_type": "stream",
     "text": [
      "['c1', 'c2', 'c3', 'c4', 'c5', 'm1', 'm2', 'm3', 'm4']\n"
     ]
    }
   ],
   "source": [
    "docName = createDocName(documents)\n",
    "print(docName)"
   ]
  },
  {
   "cell_type": "markdown",
   "metadata": {
    "id": "T-hbWnH6AMLp"
   },
   "source": [
    "##### Expected Output\n",
    "``` CPP\n",
    "['c1', 'c2', 'c3', 'c4', 'c5', 'm1', 'm2', 'm3', 'm4']\n",
    "```"
   ]
  },
  {
   "cell_type": "markdown",
   "metadata": {
    "id": "DwDGBYP0AMLq"
   },
   "source": [
    "### Words to Index mapping\n",
    "Retrieve words from documents and create map of word and associate index to it"
   ]
  },
  {
   "cell_type": "code",
   "execution_count": 7,
   "metadata": {},
   "outputs": [
    {
     "data": {
      "text/plain": [
       "['i',\n",
       " 'me',\n",
       " 'my',\n",
       " 'myself',\n",
       " 'we',\n",
       " 'our',\n",
       " 'ours',\n",
       " 'ourselves',\n",
       " 'you',\n",
       " \"you're\",\n",
       " \"you've\",\n",
       " \"you'll\",\n",
       " \"you'd\",\n",
       " 'your',\n",
       " 'yours',\n",
       " 'yourself',\n",
       " 'yourselves',\n",
       " 'he',\n",
       " 'him',\n",
       " 'his',\n",
       " 'himself',\n",
       " 'she',\n",
       " \"she's\",\n",
       " 'her',\n",
       " 'hers',\n",
       " 'herself',\n",
       " 'it',\n",
       " \"it's\",\n",
       " 'its',\n",
       " 'itself',\n",
       " 'they',\n",
       " 'them',\n",
       " 'their',\n",
       " 'theirs',\n",
       " 'themselves',\n",
       " 'what',\n",
       " 'which',\n",
       " 'who',\n",
       " 'whom',\n",
       " 'this',\n",
       " 'that',\n",
       " \"that'll\",\n",
       " 'these',\n",
       " 'those',\n",
       " 'am',\n",
       " 'is',\n",
       " 'are',\n",
       " 'was',\n",
       " 'were',\n",
       " 'be',\n",
       " 'been',\n",
       " 'being',\n",
       " 'have',\n",
       " 'has',\n",
       " 'had',\n",
       " 'having',\n",
       " 'do',\n",
       " 'does',\n",
       " 'did',\n",
       " 'doing',\n",
       " 'a',\n",
       " 'an',\n",
       " 'the',\n",
       " 'and',\n",
       " 'but',\n",
       " 'if',\n",
       " 'or',\n",
       " 'because',\n",
       " 'as',\n",
       " 'until',\n",
       " 'while',\n",
       " 'of',\n",
       " 'at',\n",
       " 'by',\n",
       " 'for',\n",
       " 'with',\n",
       " 'about',\n",
       " 'against',\n",
       " 'between',\n",
       " 'into',\n",
       " 'through',\n",
       " 'during',\n",
       " 'before',\n",
       " 'after',\n",
       " 'above',\n",
       " 'below',\n",
       " 'to',\n",
       " 'from',\n",
       " 'up',\n",
       " 'down',\n",
       " 'in',\n",
       " 'out',\n",
       " 'on',\n",
       " 'off',\n",
       " 'over',\n",
       " 'under',\n",
       " 'again',\n",
       " 'further',\n",
       " 'then',\n",
       " 'once',\n",
       " 'here',\n",
       " 'there',\n",
       " 'when',\n",
       " 'where',\n",
       " 'why',\n",
       " 'how',\n",
       " 'all',\n",
       " 'any',\n",
       " 'both',\n",
       " 'each',\n",
       " 'few',\n",
       " 'more',\n",
       " 'most',\n",
       " 'other',\n",
       " 'some',\n",
       " 'such',\n",
       " 'no',\n",
       " 'nor',\n",
       " 'not',\n",
       " 'only',\n",
       " 'own',\n",
       " 'same',\n",
       " 'so',\n",
       " 'than',\n",
       " 'too',\n",
       " 'very',\n",
       " 's',\n",
       " 't',\n",
       " 'can',\n",
       " 'will',\n",
       " 'just',\n",
       " 'don',\n",
       " \"don't\",\n",
       " 'should',\n",
       " \"should've\",\n",
       " 'now',\n",
       " 'd',\n",
       " 'll',\n",
       " 'm',\n",
       " 'o',\n",
       " 're',\n",
       " 've',\n",
       " 'y',\n",
       " 'ain',\n",
       " 'aren',\n",
       " \"aren't\",\n",
       " 'couldn',\n",
       " \"couldn't\",\n",
       " 'didn',\n",
       " \"didn't\",\n",
       " 'doesn',\n",
       " \"doesn't\",\n",
       " 'hadn',\n",
       " \"hadn't\",\n",
       " 'hasn',\n",
       " \"hasn't\",\n",
       " 'haven',\n",
       " \"haven't\",\n",
       " 'isn',\n",
       " \"isn't\",\n",
       " 'ma',\n",
       " 'mightn',\n",
       " \"mightn't\",\n",
       " 'mustn',\n",
       " \"mustn't\",\n",
       " 'needn',\n",
       " \"needn't\",\n",
       " 'shan',\n",
       " \"shan't\",\n",
       " 'shouldn',\n",
       " \"shouldn't\",\n",
       " 'wasn',\n",
       " \"wasn't\",\n",
       " 'weren',\n",
       " \"weren't\",\n",
       " 'won',\n",
       " \"won't\",\n",
       " 'wouldn',\n",
       " \"wouldn't\"]"
      ]
     },
     "execution_count": 7,
     "metadata": {},
     "output_type": "execute_result"
    }
   ],
   "source": [
    "from nltk.corpus import stopwords\n",
    "stop_words = stopwords.words('english')\n",
    "stop_words"
   ]
  },
  {
   "cell_type": "code",
   "execution_count": 8,
   "metadata": {
    "id": "tPPwoLDRAMLq"
   },
   "outputs": [],
   "source": [
    "def build_word_to_ix(documents, stopwords=None):\n",
    "    '''\n",
    "    Input:\n",
    "        documents: list of documents\n",
    "        stopwords: list of stopwords\n",
    "    Output:\n",
    "        doc_names: map of words and assoicated index. Make sure to remove words which occur in less than 2 documents \n",
    "\n",
    "    '''\n",
    "    \n",
    "    freq = {}\n",
    "    \n",
    "    for idx, sentence in enumerate(documents):\n",
    "        \n",
    "        sentence = preprocess(sentence)\n",
    "        \n",
    "        for word in sentence:\n",
    "            if stopwords and word in stopwords:\n",
    "                continue\n",
    "            if word not in freq:\n",
    "                freq[word] = []\n",
    "            if idx not in freq[word]:\n",
    "                freq[word].append(idx)\n",
    "    freq_idx = {k: v for k, v in freq.items() if len(v) > 1}\n",
    "    \n",
    "    word_to_ix = {}\n",
    "    \n",
    "    for idx, word in enumerate(freq.keys()):\n",
    "        word_to_ix[word] = idx\n",
    "    return word_to_ix\n",
    "            \n",
    "            \n",
    "#     # List comprehension to flatten list of lists, and limit to unique words only\n",
    "#     unique_words = set([word for sentence in documents for word in preprocess(sentence)])\n",
    "    \n",
    "#     # Instantiate \n",
    "#     word_to_ix = {}\n",
    "    \n",
    "#     # Iterate over the words\n",
    "#     for word, idx in enumerate(unique_words):\n",
    "#         word_to_ix[idx] = word\n",
    "    \n",
    "#     return word_to_ix"
   ]
  },
  {
   "cell_type": "code",
   "execution_count": 9,
   "metadata": {},
   "outputs": [],
   "source": [
    "def build_word_to_ix(documents, stopwords=None):\n",
    "    word_to_ix = {}\n",
    "    doc_count = {}\n",
    "    for i, doc in enumerate(documents):\n",
    "        words = preprocess(doc)\n",
    "        unique_words = set(words)\n",
    "        for word in unique_words:\n",
    "            if stopwords and word in stopwords:\n",
    "                continue\n",
    "            if word not in doc_count:\n",
    "                doc_count[word] = set()\n",
    "            doc_count[word].add(i)\n",
    "    # Remove words that occur in less than 2 documents\n",
    "    doc_count = {k: v for k, v in doc_count.items() if len(v) > 1}\n",
    "    for i, word in enumerate(doc_count.keys()):\n",
    "        word_to_ix[word] = i\n",
    "    return word_to_ix"
   ]
  },
  {
   "cell_type": "code",
   "execution_count": 10,
   "metadata": {},
   "outputs": [],
   "source": [
    "# unique_words = set([word for sentence in documents for word in preprocess(sentence)])\n",
    "\n",
    "# myindex = {}\n",
    "# for word, idx in enumerate(unique_words):\n",
    "#     myindex[idx] = word\n",
    "    \n",
    "# myindex['field']"
   ]
  },
  {
   "cell_type": "code",
   "execution_count": 11,
   "metadata": {
    "id": "AJOXHCtPAMLq"
   },
   "outputs": [
    {
     "name": "stdout",
     "output_type": "stream",
     "text": [
      "{'information': 0, 'field': 1, 'vision': 2, 'computer': 3, 'one': 4, 'applications': 5, 'also': 6, 'used': 7, 'medical': 8, 'systems': 9, 'access': 10, 'data': 11, 'unauthorized': 12, 'cybersecurity': 13, 'protect': 14, 'healthcare': 15}\n"
     ]
    }
   ],
   "source": [
    "word_to_ix = build_word_to_ix(documents, stop_words)\n",
    "print(word_to_ix)"
   ]
  },
  {
   "cell_type": "markdown",
   "metadata": {
    "id": "uZlo0SxRAMLq"
   },
   "source": [
    "##### Expected Output\n",
    "Note: the index value for each token could be different in your implementation \n",
    "```CPP\n",
    "{'field': 0, 'vision': 1, 'information': 2, 'computer': 3, 'one': 4, 'applications': 5, 'also': 6, 'used': 7, 'medical': 8, 'systems': 9, 'data': 10, 'unauthorized': 11, 'access': 12, 'cybersecurity': 13, 'protect': 14, 'healthcare': 15}\n",
    "```"
   ]
  },
  {
   "cell_type": "markdown",
   "metadata": {
    "id": "bpNH0AoFAMLq"
   },
   "source": [
    "### Document-Terms count matrix"
   ]
  },
  {
   "cell_type": "code",
   "execution_count": 12,
   "metadata": {
    "id": "pjbiP8koAMLq"
   },
   "outputs": [],
   "source": [
    "import numpy as np\n",
    "\n",
    "def build_td_matrix(documents, word_to_ix):\n",
    "    '''\n",
    "    Input:\n",
    "        documents: list of documents.\n",
    "        word_to_ix: {word, index} map\n",
    "    Output:\n",
    "        td_matrix: matrix of count of words in documents, each row \n",
    "            represent a word and each column represent a document\n",
    "\n",
    "    '''\n",
    "    \n",
    "    td_matrix = np.zeros((len(word_to_ix), len(documents)))\n",
    "\n",
    "    # Iterate over the documents\n",
    "    for idx, sentence in enumerate(documents):\n",
    "    \n",
    "        # Preprocess and split words\n",
    "        sentence = preprocess(sentence)\n",
    "    \n",
    "        # for each word, check if its in word_to_ix\n",
    "        for word in sentence:\n",
    "            if word in word_to_ix:\n",
    "                td_matrix[word_to_ix[word], idx] = td_matrix[word_to_ix[word], idx]+1\n",
    "    \n",
    "    return td_matrix"
   ]
  },
  {
   "cell_type": "code",
   "execution_count": 13,
   "metadata": {
    "id": "Hw12VPjTAMLq"
   },
   "outputs": [
    {
     "name": "stdout",
     "output_type": "stream",
     "text": [
      "[[1. 0. 0. 0. 0. 0. 1. 0. 0.]\n",
      " [1. 0. 0. 1. 0. 0. 0. 0. 0.]\n",
      " [1. 1. 1. 1. 1. 0. 0. 0. 0.]\n",
      " [1. 1. 1. 1. 1. 1. 0. 0. 0.]\n",
      " [0. 1. 0. 0. 0. 0. 1. 0. 0.]\n",
      " [0. 1. 0. 0. 0. 0. 1. 0. 0.]\n",
      " [0. 0. 1. 0. 1. 0. 0. 1. 0.]\n",
      " [0. 0. 1. 1. 1. 1. 0. 0. 1.]\n",
      " [0. 0. 0. 2. 0. 0. 0. 0. 1.]\n",
      " [0. 0. 0. 0. 1. 1. 0. 1. 0.]\n",
      " [0. 0. 0. 0. 0. 1. 0. 0. 1.]\n",
      " [0. 0. 0. 0. 0. 1. 2. 0. 1.]\n",
      " [0. 0. 0. 0. 0. 1. 0. 0. 1.]\n",
      " [0. 0. 0. 0. 0. 1. 1. 1. 1.]\n",
      " [0. 0. 0. 0. 0. 1. 0. 0. 1.]\n",
      " [0. 0. 0. 0. 0. 0. 1. 0. 1.]]\n"
     ]
    }
   ],
   "source": [
    "X = build_td_matrix(documents, word_to_ix)\n",
    "print(X)"
   ]
  },
  {
   "cell_type": "markdown",
   "metadata": {
    "id": "NTdOUAMnAMLq"
   },
   "source": [
    "##### Expected Output\n",
    "Note: the order of rows could be different in your implementation as it is based on the indexing of the tokens done in build_word_to_ix\n",
    "```CPP\n",
    "[[1. 0. 0. 1. 0. 0. 0. 0. 0.]\n",
    " [1. 1. 1. 1. 1. 0. 0. 0. 0.]\n",
    " [1. 0. 0. 0. 0. 0. 1. 0. 0.]\n",
    " [1. 1. 1. 1. 1. 1. 0. 0. 0.]\n",
    " [0. 1. 0. 0. 0. 0. 1. 0. 0.]\n",
    " [0. 1. 0. 0. 0. 0. 1. 0. 0.]\n",
    " [0. 0. 1. 0. 1. 0. 0. 1. 0.]\n",
    " [0. 0. 1. 1. 1. 1. 0. 0. 1.]\n",
    " [0. 0. 0. 2. 0. 0. 0. 0. 1.]\n",
    " [0. 0. 0. 0. 1. 1. 0. 1. 0.]\n",
    " [0. 0. 0. 0. 0. 1. 2. 0. 1.]\n",
    " [0. 0. 0. 0. 0. 1. 0. 0. 1.]\n",
    " [0. 0. 0. 0. 0. 1. 0. 0. 1.]\n",
    " [0. 0. 0. 0. 0. 1. 1. 1. 1.]\n",
    " [0. 0. 0. 0. 0. 1. 0. 0. 1.]\n",
    " [0. 0. 0. 0. 0. 0. 1. 0. 1.]]\n",
    " ```"
   ]
  },
  {
   "cell_type": "markdown",
   "metadata": {
    "id": "xeBW0dr7AMLr"
   },
   "source": [
    "### Singular Value Decomposition\n",
    "Perform singular value decomposition of count matrix into term singular vector matrix, singular value matrix and document singular vector matrix\n",
    "- To perform the singular value decompostion please check tutorial:\n",
    "https://numpy.org/doc/stable/reference/generated/numpy.linalg.svd.html"
   ]
  },
  {
   "cell_type": "code",
   "execution_count": 14,
   "metadata": {
    "id": "FXCpmScoAMLr"
   },
   "outputs": [],
   "source": [
    "def svd(documents, word_to_ix, rank):\n",
    "    '''\n",
    "    Input:\n",
    "        documents: list of documents.\n",
    "        word_to_ix: {word, index} map\n",
    "        rank: number of colums/rows to retain in decomposed matrix\n",
    "    Output:\n",
    "        Uk: term singular vector matrix\n",
    "        Sk: singular value matrix\n",
    "        Vk_t: transpose of document singular vector matrix\n",
    "    '''\n",
    "    X = build_td_matrix(documents, word_to_ix)\n",
    "    \n",
    "    u, s, vh = np.linalg.svd(X)\n",
    "    \n",
    "    Uk, Sk, Vk_t = u[:,:rank], np.diag(s[:rank]), np.dstack((vh[0],vh[1]))[0]\n",
    "#     Uk, Sk, Vk_t = u[:,:rank], np.diag(s[:rank]), vh\n",
    "    \n",
    "    return Uk, Sk, Vk_t"
   ]
  },
  {
   "cell_type": "code",
   "execution_count": 15,
   "metadata": {
    "id": "EBsAlKrTAMLr"
   },
   "outputs": [
    {
     "name": "stdout",
     "output_type": "stream",
     "text": [
      "[[-0.11470385 -0.06974269]\n",
      " [-0.12717294  0.20278638]\n",
      " [-0.30025142  0.45516076]\n",
      " [-0.40776071  0.39028813]\n",
      " [-0.11406442 -0.09695837]\n",
      " [-0.11406442 -0.09695837]\n",
      " [-0.1610913   0.18784146]\n",
      " [-0.41909101  0.14444841]\n",
      " [-0.26503675  0.13251736]\n",
      " [-0.20868502  0.02493571]\n",
      " [-0.20656126 -0.17503165]\n",
      " [-0.34760786 -0.47741341]\n",
      " [-0.20656126 -0.17503165]\n",
      " [-0.3086385  -0.33652293]\n",
      " [-0.20656126 -0.17503165]\n",
      " [-0.16957527 -0.26134991]]\n",
      "[[4.63682644 0.        ]\n",
      " [0.         3.4660758 ]]\n",
      "[[-0.20485755  0.28230559]\n",
      " [-0.2018926   0.18797401]\n",
      " [-0.27781813  0.33979025]\n",
      " [-0.3848213   0.42056737]\n",
      " [-0.32282413  0.34698447]\n",
      " [-0.49850192 -0.22485343]\n",
      " [-0.3270043  -0.52403905]\n",
      " [-0.14631016 -0.03570198]\n",
      " [-0.4592868  -0.38181953]]\n"
     ]
    }
   ],
   "source": [
    "Uk, Sk, Vk_t = svd(documents, word_to_ix, 2)\n",
    "print(Uk)\n",
    "print(Sk)\n",
    "print(Vk_t)"
   ]
  },
  {
   "cell_type": "markdown",
   "metadata": {
    "id": "zCfyqlZEAMLr"
   },
   "source": [
    "##### Expected Output\n",
    "Note: the order of rows could be different in your implementation as it is based on the indexing of the tokens done in build_word_to_ix\n",
    "```CPP \n",
    "[[-0.12717294  0.20278638]\n",
    " [-0.30025142  0.45516076]\n",
    " [-0.11470385 -0.06974269]\n",
    " [-0.40776071  0.39028813]\n",
    " [-0.11406442 -0.09695837]\n",
    " [-0.11406442 -0.09695837]\n",
    " [-0.1610913   0.18784146]\n",
    " [-0.41909101  0.14444841]\n",
    " [-0.26503675  0.13251736]\n",
    " [-0.20868502  0.02493571]\n",
    " [-0.34760786 -0.47741341]\n",
    " [-0.20656126 -0.17503165]\n",
    " [-0.20656126 -0.17503165]\n",
    " [-0.3086385  -0.33652293]\n",
    " [-0.20656126 -0.17503165]\n",
    " [-0.16957527 -0.26134991]]\n",
    "[[4.63682644 0.        ]\n",
    " [0.         3.4660758 ]]\n",
    "[[-0.20485755  0.28230559]\n",
    " [-0.2018926   0.18797401]\n",
    " [-0.27781813  0.33979025]\n",
    " [-0.3848213   0.42056737]\n",
    " [-0.32282413  0.34698447]\n",
    " [-0.49850192 -0.22485343]\n",
    " [-0.3270043  -0.52403905]\n",
    " [-0.14631016 -0.03570198]\n",
    " [-0.4592868  -0.38181953]]\n",
    " ```"
   ]
  },
  {
   "cell_type": "markdown",
   "metadata": {
    "id": "QLJju9ExAMLr"
   },
   "source": [
    "## <CENTER>Task-2 (10 Points)"
   ]
  },
  {
   "cell_type": "markdown",
   "metadata": {
    "id": "rouQxivbAMLr"
   },
   "source": [
    "### Visualize documents in 2D space"
   ]
  },
  {
   "cell_type": "code",
   "execution_count": 16,
   "metadata": {
    "id": "rNlxasp3AMLr"
   },
   "outputs": [],
   "source": [
    "#Visualize documents and print coordinates"
   ]
  },
  {
   "cell_type": "code",
   "execution_count": 17,
   "metadata": {},
   "outputs": [
    {
     "name": "stdout",
     "output_type": "stream",
     "text": [
      "[ 0.28230559  0.18797401  0.33979025  0.42056737  0.34698447 -0.22485343\n",
      " -0.52403905 -0.03570198 -0.38181953]\n"
     ]
    }
   ],
   "source": [
    "print(Vk_t[:,1])"
   ]
  },
  {
   "cell_type": "code",
   "execution_count": 18,
   "metadata": {},
   "outputs": [
    {
     "name": "stdout",
     "output_type": "stream",
     "text": [
      "[0.28230558965446667, 0.18797400625114624, 0.3397902468946739, 0.4205673734903684, 0.3469844657609788, -0.22485343260914306, -0.5240390546984041, -0.03570197931027015, -0.3818195276344493]\n"
     ]
    }
   ],
   "source": [
    "print(list(Vk_t[:,1]))"
   ]
  },
  {
   "cell_type": "code",
   "execution_count": 19,
   "metadata": {},
   "outputs": [
    {
     "data": {
      "text/plain": [
       "[-0.20485755174016063,\n",
       " -0.20189260174249063,\n",
       " -0.27781812630383523,\n",
       " -0.3848212962674653,\n",
       " -0.32282412783777603,\n",
       " -0.498501919402562,\n",
       " -0.3270042985725177,\n",
       " -0.14631016162914717,\n",
       " -0.45928679890632557]"
      ]
     },
     "execution_count": 19,
     "metadata": {},
     "output_type": "execute_result"
    }
   ],
   "source": [
    "list(Vk_t[:,0])"
   ]
  },
  {
   "cell_type": "code",
   "execution_count": 20,
   "metadata": {},
   "outputs": [
    {
     "data": {
      "image/png": "[encoded data removed]",
      "text/plain": [
       "<Figure size 432x288 with 1 Axes>"
      ]
     },
     "metadata": {
      "needs_background": "light"
     },
     "output_type": "display_data"
    }
   ],
   "source": [
    "import matplotlib.pyplot as plt\n",
    "import seaborn as sns\n",
    "\n",
    "plt.figure()\n",
    "plt.gca().invert_xaxis()\n",
    "\n",
    "\n",
    "for i in range (0, len(Vk_t)):\n",
    "    x = Vk_t[i][0]\n",
    "    y = Vk_t[i][1]\n",
    "    plt.plot(x, y, 'o')\n",
    "    plt.text(x * 1.01, y*1.02, docName[i], fontsize=12)\n",
    "\n"
   ]
  },
  {
   "cell_type": "code",
   "execution_count": 21,
   "metadata": {},
   "outputs": [
    {
     "data": {
      "text/plain": [
       "array([[-0.20485755,  0.28230559],\n",
       "       [-0.2018926 ,  0.18797401],\n",
       "       [-0.27781813,  0.33979025],\n",
       "       [-0.3848213 ,  0.42056737],\n",
       "       [-0.32282413,  0.34698447],\n",
       "       [-0.49850192, -0.22485343],\n",
       "       [-0.3270043 , -0.52403905],\n",
       "       [-0.14631016, -0.03570198],\n",
       "       [-0.4592868 , -0.38181953]])"
      ]
     },
     "execution_count": 21,
     "metadata": {},
     "output_type": "execute_result"
    }
   ],
   "source": [
    "Vk_t"
   ]
  },
  {
   "cell_type": "markdown",
   "metadata": {
    "id": "h8qOoeIfJzDt"
   },
   "source": [
    "##### Expected\n",
    "```CPP\n",
    "[[-0.94988891  0.97849257]\n",
    " [-0.93614095  0.65153215]\n",
    " [-1.28819443  1.17773875]\n",
    " [-1.78434956  1.4577184 ]\n",
    " [-1.49687945  1.20267446]\n",
    " [-2.31146688 -0.77935904]\n",
    " [-1.51626218 -1.81635909]\n",
    " [-0.67841483 -0.12374577]\n",
    " [-2.12963317 -1.32341543]]\n",
    "```\n",
    "![images/image.png](attachment:9df44069-ca33-481c-856c-0ca163d59c10.png)"
   ]
  },
  {
   "cell_type": "markdown",
   "metadata": {
    "id": "7Ca2xzRoJzDt"
   },
   "source": [
    "![images/image.png](images/image.png)"
   ]
  },
  {
   "cell_type": "markdown",
   "metadata": {
    "id": "e8tJC6EdAMLr"
   },
   "source": [
    "### Visualize terms in 2D space"
   ]
  },
  {
   "cell_type": "code",
   "execution_count": 22,
   "metadata": {
    "id": "vF1c71HSAMLr"
   },
   "outputs": [],
   "source": [
    "#Visualize terms and print coordinates"
   ]
  },
  {
   "cell_type": "code",
   "execution_count": 23,
   "metadata": {},
   "outputs": [
    {
     "data": {
      "text/plain": [
       "{'information': 0,\n",
       " 'field': 1,\n",
       " 'vision': 2,\n",
       " 'computer': 3,\n",
       " 'one': 4,\n",
       " 'applications': 5,\n",
       " 'also': 6,\n",
       " 'used': 7,\n",
       " 'medical': 8,\n",
       " 'systems': 9,\n",
       " 'access': 10,\n",
       " 'data': 11,\n",
       " 'unauthorized': 12,\n",
       " 'cybersecurity': 13,\n",
       " 'protect': 14,\n",
       " 'healthcare': 15}"
      ]
     },
     "execution_count": 23,
     "metadata": {},
     "output_type": "execute_result"
    }
   ],
   "source": [
    "word_to_ix"
   ]
  },
  {
   "cell_type": "code",
   "execution_count": 24,
   "metadata": {},
   "outputs": [
    {
     "data": {
      "image/png": "[encoded data removed]",
      "text/plain": [
       "<Figure size 1080x576 with 1 Axes>"
      ]
     },
     "metadata": {
      "needs_background": "light"
     },
     "output_type": "display_data"
    }
   ],
   "source": [
    "import matplotlib.pyplot as plt\n",
    "import seaborn as sns\n",
    "\n",
    "plt.figure(figsize=(15,8))\n",
    "plt.gca().invert_xaxis()\n",
    "\n",
    "for i in range (0, len(Uk)):\n",
    "    x = Uk[i][0]\n",
    "    y = Uk[i][1]\n",
    "    label = [key for key, value in word_to_ix.items() if value == i]\n",
    "    plt.plot(x, y, 'o')\n",
    "    plt.text(x * 1.01, y*1.02, f'{label[0]} ({i})', fontsize=12)\n"
   ]
  },
  {
   "cell_type": "code",
   "execution_count": null,
   "metadata": {},
   "outputs": [],
   "source": []
  },
  {
   "cell_type": "code",
   "execution_count": null,
   "metadata": {},
   "outputs": [],
   "source": []
  },
  {
   "cell_type": "markdown",
   "metadata": {
    "id": "ygvNW2d_JzDw"
   },
   "source": [
    "##### Expected\n",
    "Note: the order of rows could be different in your implementation as it is based on the indexing of the tokens done in build_word_to_ix\n",
    "```CPP\n",
    "[[-0.58967885  0.70287296]\n",
    " [-1.3922137   1.57762168]\n",
    " [-0.53186185 -0.24173347]\n",
    " [-1.89071562  1.35276825]\n",
    " [-0.5288969  -0.33606505]\n",
    " [-0.5288969  -0.33606505]\n",
    " [-0.74695242  0.65107273]\n",
    " [-1.94325227  0.50066913]\n",
    " [-1.22892939  0.45931522]\n",
    " [-0.96763621  0.08642905]\n",
    " [-1.61179732 -1.65475107]\n",
    " [-0.95778872 -0.60667296]\n",
    " [-0.95778872 -0.60667296]\n",
    " [-1.43110318 -1.16641399]\n",
    " [-0.95778872 -0.60667296]\n",
    " [-0.7862911  -0.90585858]]\n",
    "```\n",
    "![term.png](attachment:bdb847ce-c276-45a9-a7fe-a89787bbedfa.png)"
   ]
  },
  {
   "cell_type": "markdown",
   "metadata": {},
   "source": [
    "![images/term.png](images/term.png)"
   ]
  },
  {
   "cell_type": "markdown",
   "metadata": {
    "id": "WLfzNNlKAMLr"
   },
   "source": [
    "## <CENTER>Task-3 (10 Points)"
   ]
  },
  {
   "cell_type": "markdown",
   "metadata": {
    "id": "bCGdw5FKAMLr"
   },
   "source": [
    "### Find matching documents for given document"
   ]
  },
  {
   "cell_type": "code",
   "execution_count": 28,
   "metadata": {
    "id": "3WGgJK4TAMLr"
   },
   "outputs": [],
   "source": [
    "# Hint create query vector for input document. Calculate its cosine distance from other documents\n",
    "\n",
    "\n",
    "def query(s, Uk, Sk, Vk_t, word_to_ix, documents, min_score=0.9):\n",
    "    '''\n",
    "    Input:\n",
    "        s:query document.\n",
    "        Uk:Term matrix\n",
    "        Sk:singular value matrix\n",
    "        Vk_t:Document matrix\n",
    "        word_to_ix: {word, index} map\n",
    "        documents:list of document\n",
    "        min_score:min score beyond which documents are considerd matching\n",
    "    Output:\n",
    "        q_hat: coordinates of query vector\n",
    "        matches: list of tuples containing matching document and its score\n",
    "    '''\n",
    "    # Add space for the matches found\n",
    "    matches = []\n",
    "    \n",
    "    # tokenize the input document using processing script\n",
    "    query_words = preprocess(s)\n",
    "    \n",
    "    # instantiate zeros matrix\n",
    "    query_mtx = np.zeros(len(word_to_ix))\n",
    "    \n",
    "    # iterate over the query's words\n",
    "    for word in query_words:\n",
    "        \n",
    "        # add word if found, increment\n",
    "        if word in word_to_ix:\n",
    "            query_mtx[word_to_ix[word]] += 1\n",
    "\n",
    "    # Vector for the query s\n",
    "    q_hat = np.matmul(query_mtx, Uk[:, :2])\n",
    "    \n",
    "    # Iterate over the documents\n",
    "    for idx, document in enumerate(documents):\n",
    "        \n",
    "        # Check Current Document:\n",
    "#         print(f\"({idx})-{document}\")\n",
    "        \n",
    "        # Preprocess each document\n",
    "        d_tokens = preprocess(document)\n",
    "        \n",
    "        # Create zeros array\n",
    "        doc_mtx = np.zeros(len(word_to_ix))\n",
    "        \n",
    "        # Iterate over the words\n",
    "        for word in d_tokens:\n",
    "            \n",
    "            # If matches, increment\n",
    "            if word in word_to_ix:\n",
    "                doc_mtx[word_to_ix[word]] += 1\n",
    "        doc_vec = np.matmul(doc_mtx, Uk[:, :2])\n",
    "        \n",
    "        # Calcualte cosine as dot prod\n",
    "        cos_sim = np.dot(q_hat, doc_vec) / (np.linalg.norm(q_hat) * np.linalg.norm(doc_vec))\n",
    "        \n",
    "        # If greater than score, add to list\n",
    "        if cos_sim >= min_score:\n",
    "            matches.append((document, cos_sim))\n",
    "    \n",
    "    return q_hat, matches\n",
    "\n",
    "q_hat, matches = query('E-commerce companies use cybersecurity to protect online transactions and prevent fraud.', Uk, Sk, Vk_t, word_to_ix, documents, 0.9)\n"
   ]
  },
  {
   "cell_type": "code",
   "execution_count": 30,
   "metadata": {
    "id": "SRqCh5PsAMLs"
   },
   "outputs": [
    {
     "name": "stdout",
     "output_type": "stream",
     "text": [
      "[-0.51519977 -0.51155458]\n",
      "[('One of the most important applications of cybersecurity is in safeguarding sensitive data and personal information, such as financial data or healthcare records.', 0.9956454663736864), ('In the healthcare industry, cybersecurity is used to protect medical devices and prevent unauthorized access to patient data.', 0.9746106473873951)]\n"
     ]
    }
   ],
   "source": [
    "q_hat, matches = query('E-commerce companies use cybersecurity to protect online transactions and prevent fraud.', Uk, Sk, Vk_t, word_to_ix, documents, 0.9)\n",
    "print(q_hat)\n",
    "if matches is not None:\n",
    "    print(matches)\n",
    "else:\n",
    "    print(\"No matches found\")"
   ]
  },
  {
   "cell_type": "markdown",
   "metadata": {
    "id": "f44WDNKPAMLs"
   },
   "source": [
    "##### Expected\n",
    "```CPP\n",
    "[-0.51519977 -0.51155458]\n",
    "[('One of the most important applications of cybersecurity is in safeguarding sensitive data and personal information, such as financial data or healthcare records.', 0.9956454663736864), ('In the healthcare industry, cybersecurity is used to protect medical devices and prevent unauthorized access to patient data.', 0.9746106473873951)]\n",
    "```"
   ]
  },
  {
   "cell_type": "markdown",
   "metadata": {
    "id": "-_n9ayNLAMLs"
   },
   "source": [
    "### Visual representation of query/document"
   ]
  },
  {
   "cell_type": "code",
   "execution_count": 31,
   "metadata": {
    "id": "oFlw3alvAMLs"
   },
   "outputs": [],
   "source": [
    "# Plot terms, documents and query documents along with lines representing its cosine angle "
   ]
  },
  {
   "cell_type": "code",
   "execution_count": null,
   "metadata": {},
   "outputs": [],
   "source": []
  },
  {
   "cell_type": "code",
   "execution_count": null,
   "metadata": {},
   "outputs": [],
   "source": []
  },
  {
   "cell_type": "code",
   "execution_count": 36,
   "metadata": {},
   "outputs": [
    {
     "data": {
      "image/png": "[encoded data removed]",
      "text/plain": [
       "<Figure size 432x288 with 1 Axes>"
      ]
     },
     "metadata": {
      "needs_background": "light"
     },
     "output_type": "display_data"
    }
   ],
   "source": [
    "import matplotlib.pyplot as plt\n",
    "\n",
    "# get the query vector and matches\n",
    "q_hat, matches = query(\"E-commerce companies use cybersecurity to protect online transactions and prevent fraud.\", Uk, Sk, Vk_t, word_to_ix, documents, 0.9)\n",
    "\n",
    "# plot the term vectors\n",
    "for i, term in enumerate(word_to_ix):\n",
    "    plt.arrow(0, 0, Uk[i, 0], Uk[i, 1], color='r', alpha=0.5)\n",
    "    plt.text(Uk[i, 0], Uk[i, 1], term, fontsize=10)\n",
    "\n",
    "# # plot the document vectors\n",
    "# for i, doc in enumerate(documents):\n",
    "#     plt.arrow(0, 0, Vk_t[0, i], Vk_t[1, i], color='g', alpha=0.5)\n",
    "#     plt.text(Vk_t[0, i], Vk_t[1, i], f\"doc {i}\", fontsize=10)\n",
    "\n",
    "# # plot the query vector\n",
    "# plt.arrow(0, 0, q_hat[0], q_hat[1], color='b', alpha=0.5, linewidth=2)\n",
    "# plt.text(q_hat[0], q_hat[1], \"query\", fontsize=10)\n",
    "\n",
    "# # plot lines representing cosine angles\n",
    "# for doc, score in matches:\n",
    "#     doc_index = documents.index(doc)\n",
    "#     doc_vec = Vk_t[:, doc_index]\n",
    "#     cos_angle = score\n",
    "#     plt.plot([0, cos_angle * doc_vec[0]], [0, cos_angle * doc_vec[1]], 'k--', alpha=0.5)\n",
    "\n",
    "# # set plot limits and labels\n",
    "# plt.xlim([-1, 1])\n",
    "# plt.ylim([-1, 1])\n",
    "# plt.xlabel(\"Dimension 1\")\n",
    "# plt.ylabel(\"Dimension 2\")\n",
    "\n",
    "# show the plot\n",
    "plt.show()"
   ]
  },
  {
   "cell_type": "markdown",
   "metadata": {
    "id": "iMIYt7IWJzD0"
   },
   "source": [
    "##### Expected\n",
    "![Cosine angle.png](attachment:6f3fc59f-73c5-48ff-930f-9d53a78a5dd5.png)"
   ]
  },
  {
   "cell_type": "markdown",
   "metadata": {},
   "source": [
    "![images/Cosineangle.png](images/Cosineangle.png)"
   ]
  },
  {
   "cell_type": "markdown",
   "metadata": {
    "id": "bsDfmhqUn5MS"
   },
   "source": [
    "## **Theory questions: (5 points)**\n",
    "- A) Give short description of Left-eigen vectors, right-eigen vectors and eigen-values matrix retured by Singular Value Decompostion of document-terms count matrix.\n",
    "- B) Visually represent the document \"Graph and tree generation\" in 2D space along with words and documents as given in previous question."
   ]
  },
  {
   "cell_type": "markdown",
   "metadata": {
    "id": "mM07ZgklplWG"
   },
   "source": [
    "# Q2. n-Gram Language Models (35 points)\n",
    "\n",
    "Your task is to train n-gram language models. [Ref SLP Chapter 3]\n",
    "\n",
    "- Task 1: You will train unigram, bigram, and trigram models on given training files. Then you will score on given test files for unigram, bigram, and trigram. you will generate sentences from the trained model and compute perplexity.\n",
    "- Task 2: You will create training data for n > 3. and Repeat the above task from training model.\n",
    "<h6>Part-A = (55 Points) </h6>"
   ]
  },
  {
   "cell_type": "code",
   "execution_count": 1,
   "metadata": {
    "id": "qpO0AKC8plWH"
   },
   "outputs": [],
   "source": [
    "'''\n",
    "Your imports go here\n",
    "You are encouraged to implement your own functions and not use from library.\n",
    "'''\n",
    "import sys\n",
    "from collections import Counter\n",
    "import numpy as np"
   ]
  },
  {
   "cell_type": "code",
   "execution_count": 2,
   "metadata": {
    "id": "iS3J6hisvReS"
   },
   "outputs": [],
   "source": [
    "# constants to define pseudo-word tokens\n",
    "# access via UNK, for instance\n",
    "# for this assignemnt we will follow <s> tag for beginning of sentence and\n",
    "# </s> for end of senetence as suggested in SLP Book. Check sample training files for reference.\n",
    "UNK = \"<UNK>\"\n",
    "SENT_BEGIN = \"<s>\"\n",
    "SENT_END = \"</s>\""
   ]
  },
  {
   "cell_type": "markdown",
   "metadata": {
    "id": "zp00BMTJ4f8J"
   },
   "source": [
    "We need to initialise global variables for model"
   ]
  },
  {
   "cell_type": "code",
   "execution_count": 3,
   "metadata": {
    "id": "W_VUIkeUplWI"
   },
   "outputs": [],
   "source": [
    "\n",
    "\"\"\"Initializes Parameters:\n",
    "  n_gram (int): the n-gram order.\n",
    "  is_laplace_smoothing (bool): whether or not to use Laplace smoothing\n",
    "  threshold: words with frequency  below threshold will be converted to token\n",
    "\"\"\"\n",
    "# Initializing different object attributes\n",
    "n_gram = None\n",
    "is_laplace_smoothing = True\n",
    "vocab = [] \n",
    "n_gram_counts = {}\n",
    "n_minus_1_gram_counts = None\n",
    "threshold = 1"
   ]
  },
  {
   "cell_type": "markdown",
   "metadata": {
    "id": "JRYDPhLAplWI"
   },
   "source": [
    "\n",
    "### Implement training function (10 points)"
   ]
  },
  {
   "cell_type": "code",
   "execution_count": 4,
   "metadata": {
    "id": "X4L2wHUjvciI"
   },
   "outputs": [],
   "source": [
    "def make_ngrams(tokens: list, n: int) -> list:\n",
    "    \"\"\"Creates n-grams for the given token sequence.\n",
    "    Args:\n",
    "    tokens (list): a list of tokens as strings\n",
    "    n (int): the length of n-grams to create\n",
    "\n",
    "    Returns:\n",
    "    list: list of tuples of strings, each tuple being one of the individual n-grams\n",
    "    \"\"\"\n",
    "    n_grams = []\n",
    "    for i in range(len(tokens) - n + 1):\n",
    "        n_gram = tuple(tokens[i:i+n])\n",
    "        n_grams.append(n_gram)\n",
    "    return n_grams"
   ]
  },
  {
   "cell_type": "code",
   "execution_count": 5,
   "metadata": {},
   "outputs": [
    {
     "data": {
      "text/plain": [
       "[('this', 'is'),\n",
       " ('is', 'a'),\n",
       " ('a', 'great'),\n",
       " ('great', 'language'),\n",
       " ('language', 'model'),\n",
       " ('model', 'that'),\n",
       " ('that', 'saleh'),\n",
       " ('saleh', 'likes'),\n",
       " ('likes', 'to'),\n",
       " ('to', 'use')]"
      ]
     },
     "execution_count": 5,
     "metadata": {},
     "output_type": "execute_result"
    }
   ],
   "source": [
    "make_ngrams([\"this\", \"is\", \"a\", \"great\", \"language\", \"model\", \"that\", \"saleh\", \"likes\", \"to\", \"use\"], 2)"
   ]
  },
  {
   "cell_type": "code",
   "execution_count": 6,
   "metadata": {},
   "outputs": [
    {
     "data": {
      "text/plain": [
       "[('this', 'is', 'a'),\n",
       " ('is', 'a', 'great'),\n",
       " ('a', 'great', 'language'),\n",
       " ('great', 'language', 'model'),\n",
       " ('language', 'model', 'that'),\n",
       " ('model', 'that', 'saleh'),\n",
       " ('that', 'saleh', 'likes'),\n",
       " ('saleh', 'likes', 'to'),\n",
       " ('likes', 'to', 'use')]"
      ]
     },
     "execution_count": 6,
     "metadata": {},
     "output_type": "execute_result"
    }
   ],
   "source": [
    "make_ngrams([\"this\", \"is\", \"a\", \"great\", \"language\", \"model\", \"that\", \"saleh\", \"likes\", \"to\", \"use\"], 3)"
   ]
  },
  {
   "cell_type": "code",
   "execution_count": 7,
   "metadata": {
    "id": "LHOwrc2Uvgtm"
   },
   "outputs": [],
   "source": [
    "def train(training_file_path):\n",
    "    \"\"\"Trains the language model on the given data. Input file that\n",
    "    has tokens that are white-space separated, has one sentence per line, and\n",
    "    that the sentences begin with <s> and end with </s>\n",
    "    Parameters:\n",
    "      training_file_path (str): the location of the training data to read\n",
    "\n",
    "    Returns:\n",
    "    N Gram Counts, Vocab, N Minus 1 Gram Counts\n",
    "    \"\"\"\n",
    "    with open(training_file_path, 'r') as fh:\n",
    "        content = fh.read().split() # Read and split data to get list of words\n",
    "    \n",
    "    # Get the count of each word\n",
    "    \n",
    "    # Replace the words with <UNK> if count is < threshold(=1)\n",
    "    # make use of make_n_grams function\n",
    "    # Get the training data vocabulary\n",
    "    # For n>1 grams compute n-1 gram counts to compute probability\n",
    "    return n_gram_counts, vocab, n_minus_1_gram_counts"
   ]
  },
  {
   "cell_type": "code",
   "execution_count": 8,
   "metadata": {},
   "outputs": [],
   "source": [
    "def train(training_file_path, n, threshold=1):\n",
    "    \"\"\"Trains the language model on the given data. Input file that\n",
    "    has tokens that are white-space separated, has one sentence per line, and\n",
    "    that the sentences begin with <s> and end with </s>\n",
    "\n",
    "    Args:\n",
    "      training_file_path (str): the location of the training data to read\n",
    "      n (int): the length of n-grams to use for the language model (default=2)\n",
    "      threshold (int): the minimum count required for a word to not be replaced by <UNK> (default=1)\n",
    "\n",
    "    Returns:\n",
    "    n_gram_counts (dict): dictionary of n-gram counts, where the keys are n-grams (tuples of strings) and the values are their counts\n",
    "    vocab (set): set of all unique words in the training data\n",
    "    n_minus_1_gram_counts (dict): dictionary of n-1 gram counts, where the keys are (n-1)-grams (tuples of strings) and the values are their counts\n",
    "    \"\"\"\n",
    "    with open(training_file_path, 'r') as fh:\n",
    "        content = fh.read().split() # Read and split data to get list of words\n",
    "\n",
    "    # Get the count of each word\n",
    "    word_counts = {}\n",
    "    for word in content:\n",
    "        word_counts[word] = word_counts.get(word, 0) + 1\n",
    "\n",
    "    # Replace words with <UNK> if count is less than or equal to threshold\n",
    "    unk_token = '<UNK>'\n",
    "    for i in range(len(content)):\n",
    "        if word_counts[content[i]] <= threshold:\n",
    "            content[i] = unk_token\n",
    "\n",
    "    # Generate n-grams using make_ngrams function\n",
    "    n_grams = make_ngrams(content, n)\n",
    "\n",
    "    # Get vocabulary\n",
    "    vocab = set(word_counts.keys())\n",
    "    vocab.add(unk_token)\n",
    "\n",
    "    # Compute n-1 gram counts\n",
    "    n_minus_1_gram_counts = {}\n",
    "    for n_gram in n_grams:\n",
    "        n_minus_1_gram = n_gram[:-1]\n",
    "        n_minus_1_gram_counts[n_minus_1_gram] = n_minus_1_gram_counts.get(n_minus_1_gram, 0) + 1\n",
    "\n",
    "    # Compute n-gram counts\n",
    "    n_gram_counts = {}\n",
    "    for n_gram in n_grams:\n",
    "        n_gram_counts[n_gram] = n_gram_counts.get(n_gram, 0) + 1\n",
    "\n",
    "    return n_gram_counts, vocab, n_minus_1_gram_counts\n"
   ]
  },
  {
   "cell_type": "markdown",
   "metadata": {
    "id": "4ucWPcHIJly_"
   },
   "source": [
    "Output your Trained Data Parameters:"
   ]
  },
  {
   "cell_type": "code",
   "execution_count": 23,
   "metadata": {},
   "outputs": [],
   "source": [
    "# import itertools\n"
   ]
  },
  {
   "cell_type": "code",
   "execution_count": 24,
   "metadata": {
    "colab": {
     "base_uri": "https://localhost:8080/"
    },
    "id": "P7j8ct0BwocM",
    "outputId": "d9e230c4-63e9-4d9c-ab3a-85907b012701",
    "tags": []
   },
   "outputs": [],
   "source": [
    "# uni_gram_counts, uni_vocab, uni_minus_1_gram_counts = train(\"./train_data/berp-training_uni.txt\", 1)\n",
    "\n",
    "# # Printing a few examples to avoid flooding the page\n",
    "# print(\"Examples of n_gram_counts\")\n",
    "# print(dict(itertools.islice(uni_gram_counts.items(), 5)))\n",
    "\n",
    "# print(\"Examples of n_gram_counts\")\n",
    "# print(set(itertools.islice(uni_vocab, 5)))"
   ]
  },
  {
   "cell_type": "code",
   "execution_count": 25,
   "metadata": {},
   "outputs": [],
   "source": [
    "# bi_gram_counts, bi_vocab, bi_minus_1_gram_counts = train(\"./train_data/berp-training_bi.txt\", 2)\n",
    "\n",
    "# print(\"Examples of n_gram_counts\")\n",
    "# print(dict(itertools.islice(bi_gram_counts.items(), 5)))\n",
    "\n",
    "# print(\"Examples of n_gram_counts\")\n",
    "# print(set(itertools.islice(bi_vocab, 5)))"
   ]
  },
  {
   "cell_type": "code",
   "execution_count": 26,
   "metadata": {},
   "outputs": [],
   "source": [
    "# tri_gram_counts, tri_vocab, tri_minus_1_gram_counts = train(\"./train_data/berp-training-tri.txt\", 3)\n",
    "\n",
    "# print(\"Examples of n_gram_counts\")\n",
    "# print(dict(itertools.islice(tri_gram_counts.items(), 5)))\n",
    "\n",
    "# print(\"Examples of n_gram_counts\")\n",
    "# print(set(itertools.islice(tri_vocab, 5)))"
   ]
  },
  {
   "cell_type": "code",
   "execution_count": 41,
   "metadata": {},
   "outputs": [
    {
     "name": "stdout",
     "output_type": "stream",
     "text": [
      "{('<s>',): 6756, (\"let's\",): 236, ('start',): 438, ('over',): 414, ('</s>',): 6756}\n",
      "{'waffles', 'brazil', 'relatively', 'serving', 'vasiliki'}\n"
     ]
    }
   ],
   "source": [
    "n_gram_counts, vocab, n_minus_1_gram_counts = train(\"./train_data/berp-training_uni.txt\", 1)\n",
    "\n",
    "# print(\"Examples of n_gram_counts\")\n",
    "print(dict(itertools.islice(n_gram_counts.items(), 5)))\n",
    "\n",
    "# print(\"Examples of n_gram_counts\")\n",
    "print(set(itertools.islice(vocab, 5)))\n"
   ]
  },
  {
   "cell_type": "markdown",
   "metadata": {
    "id": "54hLufsd5lVZ"
   },
   "source": [
    "### Scoring function (points 5):\n",
    "Implement Score function that will take input sentence and output probability of given string representing a single sentence."
   ]
  },
  {
   "cell_type": "code",
   "execution_count": 42,
   "metadata": {
    "id": "qqJ05JFSvxIr"
   },
   "outputs": [],
   "source": [
    "# def score(sentence):\n",
    "#     \"\"\"Calculates the probability score for a given string representing a single sentence.\n",
    "#     Parameters:\n",
    "#       sentence (str): a sentence with tokens separated by whitespace to calculate the score of\n",
    "      \n",
    "#     Returns:\n",
    "#       float: the probability value of the given string for this model\n",
    "#     \"\"\"\n",
    "#     # Split the input sentence and replace out of vocabulary tokens with <UNK>     \n",
    "#     # Calculate probability for each word and multiply(or take log and sum) them to get the sentence probability\n",
    "#     return probablity"
   ]
  },
  {
   "cell_type": "code",
   "execution_count": 54,
   "metadata": {},
   "outputs": [],
   "source": [
    "def score(sentence, n):\n",
    "    \"\"\"Calculates the probability score for a given string representing a single sentence.\n",
    "    Parameters:\n",
    "      sentence (str): a sentence with tokens separated by whitespace to calculate the score of\n",
    "      \n",
    "    Returns:\n",
    "      float: the probability value of the given string for this model\n",
    "    \"\"\"\n",
    "    # Split the input sentence and replace out of vocabulary tokens with <UNK>     \n",
    "    tokens = sentence.strip().split()\n",
    "    tokens = [t if t in vocab else '<UNK>' for t in tokens]\n",
    "    print(tokens)\n",
    "\n",
    "    # Calculate probability for each word and multiply them to get the sentence probability\n",
    "    prob = 1.0\n",
    "    for i in range(n-1, len(tokens)):\n",
    "        n_gram = tuple(tokens[i-n+1:i+1])\n",
    "        n_minus_1_gram = n_gram[:-1]\n",
    "        if n_gram in n_gram_counts and n_minus_1_gram in n_minus_1_gram_counts:\n",
    "            prob *= (n_gram_counts[n_gram] / n_minus_1_gram_counts[n_minus_1_gram])\n",
    "        else:\n",
    "            prob *= (n_gram_counts[('<UNK>',) * n] / n_minus_1_gram_counts[('<UNK>',) * (n-1)])\n",
    "    \n",
    "    return prob"
   ]
  },
  {
   "cell_type": "code",
   "execution_count": 55,
   "metadata": {},
   "outputs": [
    {
     "name": "stdout",
     "output_type": "stream",
     "text": [
      "['the', '<UNK>', 'in', 'the', '<UNK>']\n"
     ]
    },
    {
     "data": {
      "text/plain": [
       "1.0683842332092872e-10"
      ]
     },
     "execution_count": 55,
     "metadata": {},
     "output_type": "execute_result"
    }
   ],
   "source": [
    "score(\"the cat in the hat\", 1)"
   ]
  },
  {
   "cell_type": "code",
   "execution_count": 56,
   "metadata": {},
   "outputs": [
    {
     "name": "stdout",
     "output_type": "stream",
     "text": [
      "['<UNK>', '<UNK>', 'at', '<UNK>']\n"
     ]
    },
    {
     "data": {
      "text/plain": [
       "1.9237356745916702e-09"
      ]
     },
     "execution_count": 56,
     "metadata": {},
     "output_type": "execute_result"
    }
   ],
   "source": [
    "score(\"saleh works at amgen\", 1)"
   ]
  },
  {
   "cell_type": "code",
   "execution_count": 57,
   "metadata": {},
   "outputs": [
    {
     "name": "stdout",
     "output_type": "stream",
     "text": [
      "['<UNK>', 'am', 'going', 'to', 'work']\n"
     ]
    },
    {
     "data": {
      "text/plain": [
       "1.4756695428493274e-15"
      ]
     },
     "execution_count": 57,
     "metadata": {},
     "output_type": "execute_result"
    }
   ],
   "source": [
    "score(\"I am going to work\", 1)"
   ]
  },
  {
   "cell_type": "code",
   "execution_count": 60,
   "metadata": {},
   "outputs": [
    {
     "name": "stdout",
     "output_type": "stream",
     "text": [
      "['<UNK>', 'will', 'go', 'to', 'work']\n"
     ]
    },
    {
     "ename": "KeyError",
     "evalue": "('<UNK>', '<UNK>', '<UNK>', '<UNK>')",
     "output_type": "error",
     "traceback": [
      "\u001b[1;31m---------------------------------------------------------------------------\u001b[0m",
      "\u001b[1;31mKeyError\u001b[0m                                  Traceback (most recent call last)",
      "\u001b[1;32m<ipython-input-60-44c70b14d407>\u001b[0m in \u001b[0;36m<module>\u001b[1;34m\u001b[0m\n\u001b[1;32m----> 1\u001b[1;33m \u001b[0mscore\u001b[0m\u001b[1;33m(\u001b[0m\u001b[1;34m\"saleh will go to work\"\u001b[0m\u001b[1;33m,\u001b[0m \u001b[1;36m4\u001b[0m\u001b[1;33m)\u001b[0m\u001b[1;33m\u001b[0m\u001b[1;33m\u001b[0m\u001b[0m\n\u001b[0m",
      "\u001b[1;32m<ipython-input-54-ca60e7191e98>\u001b[0m in \u001b[0;36mscore\u001b[1;34m(sentence, n)\u001b[0m\n\u001b[0;32m     20\u001b[0m             \u001b[0mprob\u001b[0m \u001b[1;33m*=\u001b[0m \u001b[1;33m(\u001b[0m\u001b[0mn_gram_counts\u001b[0m\u001b[1;33m[\u001b[0m\u001b[0mn_gram\u001b[0m\u001b[1;33m]\u001b[0m \u001b[1;33m/\u001b[0m \u001b[0mn_minus_1_gram_counts\u001b[0m\u001b[1;33m[\u001b[0m\u001b[0mn_minus_1_gram\u001b[0m\u001b[1;33m]\u001b[0m\u001b[1;33m)\u001b[0m\u001b[1;33m\u001b[0m\u001b[1;33m\u001b[0m\u001b[0m\n\u001b[0;32m     21\u001b[0m         \u001b[1;32melse\u001b[0m\u001b[1;33m:\u001b[0m\u001b[1;33m\u001b[0m\u001b[1;33m\u001b[0m\u001b[0m\n\u001b[1;32m---> 22\u001b[1;33m             \u001b[0mprob\u001b[0m \u001b[1;33m*=\u001b[0m \u001b[1;33m(\u001b[0m\u001b[0mn_gram_counts\u001b[0m\u001b[1;33m[\u001b[0m\u001b[1;33m(\u001b[0m\u001b[1;34m'<UNK>'\u001b[0m\u001b[1;33m,\u001b[0m\u001b[1;33m)\u001b[0m \u001b[1;33m*\u001b[0m \u001b[0mn\u001b[0m\u001b[1;33m]\u001b[0m \u001b[1;33m/\u001b[0m \u001b[0mn_minus_1_gram_counts\u001b[0m\u001b[1;33m[\u001b[0m\u001b[1;33m(\u001b[0m\u001b[1;34m'<UNK>'\u001b[0m\u001b[1;33m,\u001b[0m\u001b[1;33m)\u001b[0m \u001b[1;33m*\u001b[0m \u001b[1;33m(\u001b[0m\u001b[0mn\u001b[0m\u001b[1;33m-\u001b[0m\u001b[1;36m1\u001b[0m\u001b[1;33m)\u001b[0m\u001b[1;33m]\u001b[0m\u001b[1;33m)\u001b[0m\u001b[1;33m\u001b[0m\u001b[1;33m\u001b[0m\u001b[0m\n\u001b[0m\u001b[0;32m     23\u001b[0m \u001b[1;33m\u001b[0m\u001b[0m\n\u001b[0;32m     24\u001b[0m     \u001b[1;32mreturn\u001b[0m \u001b[0mprob\u001b[0m\u001b[1;33m\u001b[0m\u001b[1;33m\u001b[0m\u001b[0m\n",
      "\u001b[1;31mKeyError\u001b[0m: ('<UNK>', '<UNK>', '<UNK>', '<UNK>')"
     ]
    }
   ],
   "source": [
    "score(\"saleh will go to work\", 4)"
   ]
  },
  {
   "cell_type": "code",
   "execution_count": null,
   "metadata": {
    "id": "QaayxCgOzUUb"
   },
   "outputs": [],
   "source": [
    "with open(\"path_to_test_file\", 'r') as fh:\n",
    "    test_content = fh.read().split(\"\\n\")\n",
    "num_sentences_1 = len(test_content)\n",
    "ten_sentences_1 = test_content[:10]\n",
    "print(\"# of test sentences: \", num_sentences_1)\n",
    "probablities = []"
   ]
  },
  {
   "cell_type": "code",
   "execution_count": null,
   "metadata": {
    "id": "ei2Zrd61zeKq"
   },
   "outputs": [],
   "source": [
    "# print probabilities/score of sentences in test content\n",
    "for sentence in test_content:\n",
    "    probablities.append(score(sentence))\n",
    "probablities = np.array(probablities)\n",
    "mean = np.mean(probablities)\n",
    "std_dev = np.std(probablities)"
   ]
  },
  {
   "cell_type": "markdown",
   "metadata": {
    "id": "awEQeJtIzTrC"
   },
   "source": [
    "### Sentence generation (10 points)\n",
    "Generate sentence from the above trained model\n",
    "- To generate next word from a set of probable n-grams and their probabilities check below tutorial:\n",
    "https://numpy.org/doc/stable/reference/random/generated/numpy.random.choice.html"
   ]
  },
  {
   "cell_type": "code",
   "execution_count": null,
   "metadata": {
    "id": "SpTKpxDMv2-4"
   },
   "outputs": [],
   "source": [
    "def generate_sentence():\n",
    "    \"\"\"Generates a single sentence from a trained language model using the Shannon technique.\n",
    "      \n",
    "    Returns:\n",
    "      str: the generated sentence\n",
    "    \"\"\"\n",
    "    # Start with <s> and randomly generate words until we encounter sentence end\n",
    "    # Append sentence begin markers for n>2\n",
    "    # Keep track of previous word for stop condition\n",
    "    if n > 1:\n",
    "        while prev_word != \"</s>\":\n",
    "        # Construct the (n-1) gram so far\n",
    "        # Get the counts of all available choices based on n-1 gram\n",
    "        # Convert the counts into probability for random.choice() function\n",
    "        # If <s> is generated, ignore and generate another word\n",
    "    else:\n",
    "      # In case of unigram model, n-1 gram is just the previous word and possible choice is whole vocabulary\n",
    "        while prev_word != \"</s>\":\n",
    "        # Convert the counts into probability for random.choice() function\n",
    "        # If <s> is generated, ignore and generate another word\n",
    "\n",
    "    # Append sentence end markers for n>2\n",
    "    \n",
    "    return sentence"
   ]
  },
  {
   "cell_type": "code",
   "execution_count": null,
   "metadata": {
    "id": "aeQKR_UHv462"
   },
   "outputs": [],
   "source": [
    "def generate(n):\n",
    "    \"\"\"Generates n sentences from a trained language model using the Shannon technique.\n",
    "    Parameters:\n",
    "      n (int): the number of sentences to generate\n",
    "      \n",
    "    Returns:\n",
    "      list: a list containing strings, one per generated sentence\n",
    "    \"\"\"\n",
    "    # Generate sentences one by one and store\n",
    "    return sentences"
   ]
  },
  {
   "cell_type": "code",
   "execution_count": null,
   "metadata": {
    "id": "2UMoLPcvBKpn"
   },
   "outputs": [],
   "source": [
    "sentences = generate(50)\n",
    "print(\"Sentences:\")\n",
    "for sentence in sentences:\n",
    "  print(sentence)"
   ]
  },
  {
   "cell_type": "markdown",
   "metadata": {
    "id": "I-ok3UZEKmFi"
   },
   "source": [
    "### Evaluate model perplexity (5 points)\n",
    "Measures the perplexity for the test sequence with your trained model. \n",
    "you may assume that this sequence may consist of many sentences \"glued together\"\n",
    "\n",
    "The perplexity of the given sequence is the inverse probability of the test set, normalized by the number of words.\n"
   ]
  },
  {
   "cell_type": "code",
   "execution_count": null,
   "metadata": {
    "id": "G8mjYygFv7Gq"
   },
   "outputs": [],
   "source": [
    "# Since this sequence will cross many sentence boundaries, we need to include \n",
    "# the begin- and end-sentence markers <s> and </s> in the probability computation. \n",
    "# We also need to include the end-of-sentence marker </s> \n",
    "# but not the beginning-of-sentence marker <s>) in the total count of word tokens N\n",
    "\n",
    "def perplexity(test_sequence):\n",
    "    \"\"\".\n",
    "    Parameters:\n",
    "      test_sequence (string): a sequence of space-separated tokens to measure the perplexity of\n",
    "\n",
    "    Returns:\n",
    "      float: the perplexity of the given sequence\n",
    "    \"\"\" \n",
    "\n",
    "    # Replace out of vocab words with <UNK>, already done in score function\n",
    "    # test_sequence = [token if token in vocab else UNK for token in test_sequence.split()]\n",
    "\n",
    "\n",
    "    # Remove sentence begin markers from data for computing N\n",
    "    # Get the probability for the sequence\n",
    "    \n",
    "    return perplexity"
   ]
  },
  {
   "cell_type": "code",
   "execution_count": null,
   "metadata": {
    "colab": {
     "base_uri": "https://localhost:8080/"
    },
    "id": "tsldHtvIBlTV",
    "outputId": "981b0b5c-ff77-4777-c98b-12ffe0f9d529"
   },
   "outputs": [
    {
     "name": "stdout",
     "output_type": "stream",
     "text": [
      "78.4934782125397\n"
     ]
    }
   ],
   "source": [
    "print(perplexity(\" \".join(sentences[0:10])))"
   ]
  },
  {
   "cell_type": "markdown",
   "metadata": {
    "id": "UfbHtUCW66Qk"
   },
   "source": [
    "### **Explore and explain: (5 points)**\n",
    "* Experiment n_gram model for n = [1,2,3..7] of your choice. Explain the best choice of n that generates more meaninful sentences.\n"
   ]
  },
  {
   "cell_type": "markdown",
   "metadata": {
    "id": "llPpoxB4hnAx"
   },
   "source": [
    "# Q3. Classification using LSTM - using Tensorflow (30 Points)\n",
    "In this part, we will be building a bidirectional LSTM network to train and inference sentiment analysis on IMDB dataset.<br>\n",
    "\n",
    "If you need a refresher or have never worked with Neural Networks before, here are a few resources:\n",
    "- https://web.stanford.edu/~jurafsky/slp3/7.pdf\n",
    "- https://web.stanford.edu/~jurafsky/slp3/9.pdf\n",
    "- https://colah.github.io/posts/2015-08-Understanding-LSTMs/\n",
    "\n",
    "\n",
    "Training a neural network model will take time. \n",
    "- You can use Google Colab / Kaggle notebooks. You get a free GPU for a limited time to tweak your hyperparameters.\n",
    "- Without a GPU, You might have to wait longer to experiment."
   ]
  },
  {
   "cell_type": "markdown",
   "metadata": {
    "id": "t40hndZFhp1S"
   },
   "source": [
    "### Library Imports"
   ]
  },
  {
   "cell_type": "code",
   "execution_count": 1,
   "metadata": {
    "id": "zS0zc2NMc3tU"
   },
   "outputs": [
    {
     "name": "stderr",
     "output_type": "stream",
     "text": [
      "C:\\Users\\Saleh Alkhalifa\\anaconda3\\lib\\site-packages\\numpy\\_distributor_init.py:30: UserWarning: loaded more than 1 DLL from .libs:\n",
      "C:\\Users\\Saleh Alkhalifa\\anaconda3\\lib\\site-packages\\numpy\\.libs\\libopenblas.GK7GX5KEQ4F6UYO3P26ULGBQYHGQO7J4.gfortran-win_amd64.dll\n",
      "C:\\Users\\Saleh Alkhalifa\\anaconda3\\lib\\site-packages\\numpy\\.libs\\libopenblas.PYQHXLVVQ7VESDPUVUADXEVJOBGHJPAY.gfortran-win_amd64.dll\n",
      "  warnings.warn(\"loaded more than 1 DLL from .libs:\"\n"
     ]
    }
   ],
   "source": [
    "import tensorflow as tf\n",
    "import pandas as pd\n",
    "import numpy as np\n",
    "from sklearn.preprocessing import LabelEncoder\n",
    "from sklearn.model_selection import train_test_split\n",
    "import matplotlib.pyplot as plt\n",
    "import seaborn as sns\n",
    "# import tensorflow_datasets as tfds\n",
    "\n",
    "# from tensorflow.keras.preprocessing.sequence import pad_sequences\n",
    "# from tensorflow.keras.preprocessing.text import Tokenizer\n",
    "\n"
   ]
  },
  {
   "cell_type": "code",
   "execution_count": 27,
   "metadata": {},
   "outputs": [
    {
     "name": "stdout",
     "output_type": "stream",
     "text": [
      "Name: tensorflow\n",
      "Version: 2.10.0\n",
      "Summary: TensorFlow is an open source machine learning framework for everyone.\n",
      "Home-page: https://www.tensorflow.org/\n",
      "Author: Google Inc.\n",
      "Author-email: packages@tensorflow.org\n",
      "License: Apache 2.0\n",
      "Location: c:\\users\\saleh alkhalifa\\appdata\\roaming\\python\\python38\\site-packages\n",
      "Requires: absl-py, astunparse, flatbuffers, gast, google-pasta, grpcio, h5py, keras, keras-preprocessing, libclang, numpy, opt-einsum, packaging, protobuf, setuptools, six, tensorboard, tensorflow-estimator, tensorflow-io-gcs-filesystem, termcolor, typing-extensions, wrapt\n",
      "Required-by: autokeras\n"
     ]
    },
    {
     "name": "stderr",
     "output_type": "stream",
     "text": [
      "WARNING: Ignoring invalid distribution -rotobuf (c:\\users\\saleh alkhalifa\\anaconda3\\lib\\site-packages)\n",
      "WARNING: Ignoring invalid distribution -illow (c:\\users\\saleh alkhalifa\\anaconda3\\lib\\site-packages)\n"
     ]
    }
   ],
   "source": [
    "!pip show tensorflow"
   ]
  },
  {
   "cell_type": "markdown",
   "metadata": {
    "id": "1AqE0CRtYZEy"
   },
   "source": [
    "### Visualizing data distribution (1 Point)\n"
   ]
  },
  {
   "cell_type": "code",
   "execution_count": 201,
   "metadata": {
    "id": "BDnlJxRtkMz1"
   },
   "outputs": [],
   "source": [
    "## Reading the data and removing columns that are not important. \n",
    "dataset = pd.read_csv(\"data/movie_reviews-2.csv\", sep = ',', encoding = 'latin-1', usecols = lambda col: col not in [\"Unnamed: 2\", \"Unnamed: 3\", \"Unnamed: 4\"])"
   ]
  },
  {
   "cell_type": "code",
   "execution_count": 202,
   "metadata": {
    "id": "tpXhxuORkUi4"
   },
   "outputs": [
    {
     "data": {
      "text/html": [
       "<div>\n",
       "<style scoped>\n",
       "    .dataframe tbody tr th:only-of-type {\n",
       "        vertical-align: middle;\n",
       "    }\n",
       "\n",
       "    .dataframe tbody tr th {\n",
       "        vertical-align: top;\n",
       "    }\n",
       "\n",
       "    .dataframe thead th {\n",
       "        text-align: right;\n",
       "    }\n",
       "</style>\n",
       "<table border=\"1\" class=\"dataframe\">\n",
       "  <thead>\n",
       "    <tr style=\"text-align: right;\">\n",
       "      <th></th>\n",
       "      <th>review</th>\n",
       "      <th>sentiment</th>\n",
       "    </tr>\n",
       "  </thead>\n",
       "  <tbody>\n",
       "    <tr>\n",
       "      <th>0</th>\n",
       "      <td>One of the other reviewers has mentioned that ...</td>\n",
       "      <td>positive</td>\n",
       "    </tr>\n",
       "    <tr>\n",
       "      <th>1</th>\n",
       "      <td>A wonderful little production. &lt;br /&gt;&lt;br /&gt;The...</td>\n",
       "      <td>positive</td>\n",
       "    </tr>\n",
       "    <tr>\n",
       "      <th>2</th>\n",
       "      <td>I thought this was a wonderful way to spend ti...</td>\n",
       "      <td>positive</td>\n",
       "    </tr>\n",
       "    <tr>\n",
       "      <th>3</th>\n",
       "      <td>Petter Mattei's \"Love in the Time of Money\" is...</td>\n",
       "      <td>positive</td>\n",
       "    </tr>\n",
       "    <tr>\n",
       "      <th>4</th>\n",
       "      <td>Probably my all-time favorite movie, a story o...</td>\n",
       "      <td>positive</td>\n",
       "    </tr>\n",
       "  </tbody>\n",
       "</table>\n",
       "</div>"
      ],
      "text/plain": [
       "                                              review sentiment\n",
       "0  One of the other reviewers has mentioned that ...  positive\n",
       "1  A wonderful little production. <br /><br />The...  positive\n",
       "2  I thought this was a wonderful way to spend ti...  positive\n",
       "3  Petter Mattei's \"Love in the Time of Money\" is...  positive\n",
       "4  Probably my all-time favorite movie, a story o...  positive"
      ]
     },
     "execution_count": 202,
     "metadata": {},
     "output_type": "execute_result"
    }
   ],
   "source": [
    "#######################################################   \n",
    "# print head of data frame with help of head function # \n",
    "#######################################################\n",
    "\n",
    "dataset.head()"
   ]
  },
  {
   "cell_type": "code",
   "execution_count": 203,
   "metadata": {
    "id": "Bvj6ORXPlA5j"
   },
   "outputs": [
    {
     "name": "stderr",
     "output_type": "stream",
     "text": [
      "C:\\Users\\Saleh Alkhalifa\\anaconda3\\lib\\site-packages\\seaborn\\_decorators.py:36: FutureWarning: Pass the following variable as a keyword arg: x. From version 0.12, the only valid positional argument will be `data`, and passing other arguments without an explicit keyword will result in an error or misinterpretation.\n",
      "  warnings.warn(\n"
     ]
    },
    {
     "data": {
      "image/png": "[encoded data removed]",
      "text/plain": [
       "<Figure size 432x288 with 1 Axes>"
      ]
     },
     "metadata": {
      "needs_background": "light"
     },
     "output_type": "display_data"
    }
   ],
   "source": [
    "####################################################### \n",
    "# plot Positive Vs. Negative reviews count            # \n",
    "#######################################################\n",
    "\n",
    "sns.countplot(dataset[\"sentiment\"].values)\n",
    "\n",
    "plt.title(\"Positive Vs. Negative reviews count\", fontsize = 15)\n",
    "plt.show()\n",
    "\n"
   ]
  },
  {
   "cell_type": "markdown",
   "metadata": {
    "id": "45dT7_ld3aAg"
   },
   "source": [
    "### Cleaning the Reviews (2 Points)"
   ]
  },
  {
   "cell_type": "code",
   "execution_count": 204,
   "metadata": {
    "id": "HEHFIPM83Zbz"
   },
   "outputs": [
    {
     "name": "stderr",
     "output_type": "stream",
     "text": [
      "[nltk_data] Downloading package omw-1.4 to C:\\Users\\Saleh\n",
      "[nltk_data]     Alkhalifa\\AppData\\Roaming\\nltk_data...\n",
      "[nltk_data]   Package omw-1.4 is already up-to-date!\n",
      "[nltk_data] Downloading package stopwords to C:\\Users\\Saleh\n",
      "[nltk_data]     Alkhalifa\\AppData\\Roaming\\nltk_data...\n",
      "[nltk_data]   Package stopwords is already up-to-date!\n",
      "[nltk_data] Downloading package wordnet to C:\\Users\\Saleh\n",
      "[nltk_data]     Alkhalifa\\AppData\\Roaming\\nltk_data...\n",
      "[nltk_data]   Package wordnet is already up-to-date!\n",
      "[nltk_data] Downloading package words to C:\\Users\\Saleh\n",
      "[nltk_data]     Alkhalifa\\AppData\\Roaming\\nltk_data...\n",
      "[nltk_data]   Package words is already up-to-date!\n"
     ]
    }
   ],
   "source": [
    "import nltk\n",
    "from nltk.corpus import stopwords\n",
    "from nltk.stem import PorterStemmer\n",
    "from nltk.tokenize import word_tokenize\n",
    "import string\n",
    "import pandas as pd\n",
    "import re\n",
    "import nltk\n",
    "nltk.download('omw-1.4')\n",
    "nltk.download('stopwords')\n",
    "nltk.download('wordnet')\n",
    "nltk.download('words')\n",
    "\n",
    "stopword = nltk.corpus.stopwords.words('english')\n",
    "wn = nltk.WordNetLemmatizer()\n",
    "ps = nltk.PorterStemmer()\n",
    "words = set(nltk.corpus.words.words())\n",
    "\n",
    "# From the first assignment\n",
    "def clean_text(text):\n",
    "    text = text.lower()\n",
    "    text = re.sub(r\"http\\S+\", \"\", text)\n",
    "    text = re.sub(r\"www.\\S+\", \"\", text)\n",
    "    text_links_removed = \"\".join([char for char in text if char not in string.punctuation])\n",
    "    text_cleaned = \" \".join([word for word in re.split('\\W+', text_links_removed)\n",
    "        if word not in stopword])\n",
    "    text = \" \".join([wn.lemmatize(word) for word in re.split('\\W+', text_cleaned)])\n",
    "    return text"
   ]
  },
  {
   "cell_type": "code",
   "execution_count": 205,
   "metadata": {
    "id": "io8EvrJJ3eGu"
   },
   "outputs": [],
   "source": [
    "#############################################################################################  \n",
    "# Clean all the reviews in the dataset using the clean_text function provided above         # \n",
    "############################################################################################# \n",
    "\n",
    "dataset[\"cleaned_review\"] = dataset[\"review\"].apply(clean_text)\n"
   ]
  },
  {
   "cell_type": "code",
   "execution_count": 206,
   "metadata": {
    "id": "4i0C715m3DwZ"
   },
   "outputs": [
    {
     "data": {
      "text/html": [
       "<div>\n",
       "<style scoped>\n",
       "    .dataframe tbody tr th:only-of-type {\n",
       "        vertical-align: middle;\n",
       "    }\n",
       "\n",
       "    .dataframe tbody tr th {\n",
       "        vertical-align: top;\n",
       "    }\n",
       "\n",
       "    .dataframe thead th {\n",
       "        text-align: right;\n",
       "    }\n",
       "</style>\n",
       "<table border=\"1\" class=\"dataframe\">\n",
       "  <thead>\n",
       "    <tr style=\"text-align: right;\">\n",
       "      <th></th>\n",
       "      <th>review</th>\n",
       "      <th>sentiment</th>\n",
       "      <th>cleaned_review</th>\n",
       "    </tr>\n",
       "  </thead>\n",
       "  <tbody>\n",
       "    <tr>\n",
       "      <th>0</th>\n",
       "      <td>One of the other reviewers has mentioned that ...</td>\n",
       "      <td>positive</td>\n",
       "      <td>one reviewer mentioned watching 1 oz episode y...</td>\n",
       "    </tr>\n",
       "    <tr>\n",
       "      <th>1</th>\n",
       "      <td>A wonderful little production. &lt;br /&gt;&lt;br /&gt;The...</td>\n",
       "      <td>positive</td>\n",
       "      <td>wonderful little production br br filming tech...</td>\n",
       "    </tr>\n",
       "    <tr>\n",
       "      <th>2</th>\n",
       "      <td>I thought this was a wonderful way to spend ti...</td>\n",
       "      <td>positive</td>\n",
       "      <td>thought wonderful way spend time hot summer we...</td>\n",
       "    </tr>\n",
       "    <tr>\n",
       "      <th>3</th>\n",
       "      <td>Petter Mattei's \"Love in the Time of Money\" is...</td>\n",
       "      <td>positive</td>\n",
       "      <td>petter matteis love time money visually stunni...</td>\n",
       "    </tr>\n",
       "    <tr>\n",
       "      <th>4</th>\n",
       "      <td>Probably my all-time favorite movie, a story o...</td>\n",
       "      <td>positive</td>\n",
       "      <td>probably alltime favorite movie story selfless...</td>\n",
       "    </tr>\n",
       "  </tbody>\n",
       "</table>\n",
       "</div>"
      ],
      "text/plain": [
       "                                              review sentiment  \\\n",
       "0  One of the other reviewers has mentioned that ...  positive   \n",
       "1  A wonderful little production. <br /><br />The...  positive   \n",
       "2  I thought this was a wonderful way to spend ti...  positive   \n",
       "3  Petter Mattei's \"Love in the Time of Money\" is...  positive   \n",
       "4  Probably my all-time favorite movie, a story o...  positive   \n",
       "\n",
       "                                      cleaned_review  \n",
       "0  one reviewer mentioned watching 1 oz episode y...  \n",
       "1  wonderful little production br br filming tech...  \n",
       "2  thought wonderful way spend time hot summer we...  \n",
       "3  petter matteis love time money visually stunni...  \n",
       "4  probably alltime favorite movie story selfless...  "
      ]
     },
     "execution_count": 206,
     "metadata": {},
     "output_type": "execute_result"
    }
   ],
   "source": [
    "#####################################################################\n",
    "# print head of the \"CLEANED\" data frame with help of head function # \n",
    "#####################################################################\n",
    " \n",
    "dataset.head()"
   ]
  },
  {
   "cell_type": "markdown",
   "metadata": {
    "id": "-TmC4Ebo0Znv"
   },
   "source": [
    "### Splitting the dataset and Encoding Labels (2 Points)\n",
    "\n",
    "Spliting data: <br> \n",
    "80% for the training and the remaining 20% for validation.\n",
    "\n",
    "Encoding Labels: <br>\n",
    "Encode labels as negative and positive as 0 and 1 respectively\n"
   ]
  },
  {
   "cell_type": "code",
   "execution_count": 207,
   "metadata": {},
   "outputs": [
    {
     "data": {
      "text/plain": [
       "(24699, 3)"
      ]
     },
     "execution_count": 207,
     "metadata": {},
     "output_type": "execute_result"
    }
   ],
   "source": [
    "dataset.shape"
   ]
  },
  {
   "cell_type": "code",
   "execution_count": 208,
   "metadata": {},
   "outputs": [],
   "source": [
    "dataset = dataset.sample(5000)"
   ]
  },
  {
   "cell_type": "code",
   "execution_count": 209,
   "metadata": {
    "id": "-n-xz8BMYZE7"
   },
   "outputs": [
    {
     "name": "stdout",
     "output_type": "stream",
     "text": [
      "(4000,)\n",
      "(1000,)\n"
     ]
    }
   ],
   "source": [
    "#################################################################################\n",
    "# Split the data using the sklearn module                                       #\n",
    "# 80% for the training and the remaining 20% for validation                     #\n",
    "#################################################################################\n",
    "from sklearn.model_selection import train_test_split\n",
    "\n",
    "X = dataset[\"cleaned_review\"].values\n",
    "y = dataset[\"sentiment\"]\n",
    "\n",
    "X_train, X_test, y_train, y_test = train_test_split(X, y, test_size=0.20)\n",
    "\n",
    "print(X_train.shape)\n",
    "print(X_test.shape)"
   ]
  },
  {
   "cell_type": "code",
   "execution_count": 210,
   "metadata": {
    "id": "A6y-74sT-9s1"
   },
   "outputs": [
    {
     "name": "stdout",
     "output_type": "stream",
     "text": [
      "2022     positive\n",
      "9330     positive\n",
      "13863    negative\n",
      "4614     negative\n",
      "23977    negative\n",
      "Name: sentiment, dtype: object\n",
      "[1 1 0 0 0]\n"
     ]
    }
   ],
   "source": [
    "#################################################################################\n",
    "# Initialize label encoder from sklearn module                                  #\n",
    "# fit on train labels and transform both train and validation labels            #\n",
    "#################################################################################\n",
    "from sklearn.preprocessing import LabelEncoder\n",
    "\n",
    "encoder = LabelEncoder()\n",
    "encoder.fit(y_train)\n",
    "y_train = encoder.transform(y_train)\n",
    "\n",
    "print(y_test[:5])\n",
    "y_test = encoder.transform(y_test)\n",
    "\n",
    "print(y_test[:5])"
   ]
  },
  {
   "cell_type": "markdown",
   "metadata": {
    "id": "xePIfNU8YZFA"
   },
   "source": [
    "### Pre-Processing The Text (5 Points)\n",
    " "
   ]
  },
  {
   "cell_type": "code",
   "execution_count": 211,
   "metadata": {
    "id": "TvpwLHnRYZFC",
    "tags": []
   },
   "outputs": [
    {
     "name": "stdout",
     "output_type": "stream",
     "text": [
      "Vocabulary : 41487\n"
     ]
    }
   ],
   "source": [
    "# You can use the modules given below\n",
    "from tensorflow.keras.preprocessing.sequence import pad_sequences\n",
    "from tensorflow.keras.preprocessing.text import Tokenizer\n",
    "\n",
    "###############################################################################  \n",
    "# Fit your tokenizer on the training reviews                                  #\n",
    "###############################################################################\n",
    "\n",
    "num_words = 10000\n",
    "tokenizer = Tokenizer(num_words=num_words)\n",
    "\n",
    "tokenizer.fit_on_texts(X_train) \n",
    "# train_sequences = tokenizer.texts_to_sequences(X_train)\n",
    "# val_sequences = tokenizer.texts_to_sequences(X_test)\n",
    "\n",
    "#################################################################################################\n",
    "# The word_index dictionary assigns a unique index to each unique word present in the training  #\n",
    "# reviews.                                                                                      #\n",
    "#                                                                                               #\n",
    "# Create the word_index dictionary using the tokenizer                                          #\n",
    "# Find the vocabulary of your training reviews                                                  #\n",
    "#################################################################################################\n",
    "\n",
    "# word_index = {}\n",
    "word_index = tokenizer.word_index\n",
    "\n",
    "word_counts = dict(tokenizer.word_counts)\n",
    "vocabulary = set(word_counts.keys())\n",
    "\n",
    "\n",
    "#################################################################################################\n",
    "# Convert the reviews in the dataset to their index form by using a function available          #\n",
    "# with the tokenizer                                                                            #\n",
    "# HINT : convert training and validation reviews into sequences                                 #\n",
    "#################################################################################################\n",
    "\n",
    "train_sequences = tokenizer.texts_to_sequences(X_train)\n",
    "val_sequences = tokenizer.texts_to_sequences(X_test)\n",
    "\n",
    "#################################################################################################\n",
    "# Pad the the training and validation sequences so all of them have the same length             # \n",
    "# set maxlen = 200                                                                              #\n",
    "#################################################################################################\n",
    "\n",
    "# maxlen which is the maximum length of one review we will use for our training\n",
    "\n",
    "maxlen = 200\n",
    "\n",
    "train_sequences = pad_sequences(train_sequences, maxlen=maxlen)\n",
    "val_sequences = pad_sequences(val_sequences, maxlen=maxlen)\n",
    "\n",
    "\n",
    "print('Vocabulary : {}'.format(len(vocabulary))) #Using len() instead to avoid flooding the page"
   ]
  },
  {
   "cell_type": "markdown",
   "metadata": {
    "id": "5-yGOMB7YZFJ"
   },
   "source": [
    "### Using glove vectors for embedding (5 Points)\n",
    "\n",
    "GloVe vectors capture both global statistics and local statistics of a corpus. We use GloVe to convert words to embeddings in the vector space based on their semantics. \n",
    "\n",
    "We will be using the 200-dimensional GloVe vectors for the task at hand.\n",
    "\n",
    "To learn more about GloVe please read the following resource:\n",
    "- https://nlp.stanford.edu/pubs/glove.pdf"
   ]
  },
  {
   "cell_type": "code",
   "execution_count": 212,
   "metadata": {
    "id": "1wjY4_mOYZFP"
   },
   "outputs": [],
   "source": [
    "glove_dictionary = {}\n",
    "with open('glove.6B.200d.txt', encoding=\"utf8\") as file:\n",
    "    for each_line in file:\n",
    "        words_in_line, coeff_cients = each_line.split(maxsplit=1)\n",
    "        coeff_cients = np.array(coeff_cients.split(),dtype = float)\n",
    "        glove_dictionary[words_in_line] = coeff_cients"
   ]
  },
  {
   "cell_type": "code",
   "execution_count": 213,
   "metadata": {
    "id": "pDYNi0CsYZFR"
   },
   "outputs": [],
   "source": [
    " # All the words which are not in the GloVe dictionary will be assigned a zero vector.\n",
    "\n",
    "# embedding_matrix = np.zeros((vocabulary, 200))\n",
    "\n",
    "######################################################################\n",
    "# The glove_dictionary contains words vs their respective embeddings #\n",
    "#                                                                    #\n",
    "# Create the embedding matrix using the glove_dictionary             #\n",
    "######################################################################\n",
    "\n",
    "embedding_matrix = np.zeros((num_words, 200))\n",
    "\n",
    "for word, i in word_index.items():\n",
    "    if i >= num_words:\n",
    "        continue\n",
    "    embedding_vector = glove_dictionary.get(word)\n",
    "    if embedding_vector is not None:\n",
    "        # words not found in embedding index will be all-zeros.\n",
    "        embedding_matrix[i] = embedding_vector\n",
    "    else:\n",
    "        embedding_matrix[i] = np.random.randn(200)"
   ]
  },
  {
   "cell_type": "code",
   "execution_count": 214,
   "metadata": {
    "id": "aXXvMdZ6gJpI"
   },
   "outputs": [
    {
     "data": {
      "text/plain": [
       "(10000, 200)"
      ]
     },
     "execution_count": 214,
     "metadata": {},
     "output_type": "execute_result"
    }
   ],
   "source": [
    "embedding_matrix.shape"
   ]
  },
  {
   "cell_type": "markdown",
   "metadata": {
    "id": "u6d-frq1QxJW"
   },
   "source": [
    "Sample output : (99987, 200)"
   ]
  },
  {
   "cell_type": "markdown",
   "metadata": {
    "id": "t9Fxf0zuYZFZ"
   },
   "source": [
    "### Creating The Model (10)\n",
    "\n",
    "If you need a refresher or have never worked with Neural Networks before, here are a few resources:\n",
    "- https://web.stanford.edu/~jurafsky/slp3/7.pdf\n",
    "- https://web.stanford.edu/~jurafsky/slp3/9.pdf\n",
    "- https://colah.github.io/posts/2015-08-Understanding-LSTMs/\n",
    "\n",
    "\n",
    "Training a neural network model will take time. \n",
    "- You can use Google Colab / Kaggle notebooks. You get a free GPU for a limited time.\n",
    "- Without a GPU, You might have to wait longer to experiment.\n",
    "\n",
    "\n",
    "Useful resources : <br>\n",
    "https://www.tensorflow.org/api_docs/python/tf/keras/Sequential <br>\n",
    "https://www.tensorflow.org/api_docs/python/tf/keras/layers/Dense <br>\n",
    "https://www.tensorflow.org/api_docs/python/tf/keras/layers/Dropout <br>\n",
    "\n",
    "\n",
    "\n"
   ]
  },
  {
   "cell_type": "code",
   "execution_count": 218,
   "metadata": {
    "id": "Y8CXAEvwIHHT"
   },
   "outputs": [],
   "source": [
    "import tensorflow as tf\n",
    "\n",
    "tf.random.set_seed(42)\n",
    "\n",
    "######################################################\n",
    "# Complete this linear model in tensorflow           #\n",
    "######################################################\n",
    "\n",
    "def build_model(embedding_matrix):\n",
    "\n",
    "    ''' \n",
    "    Arguments:\n",
    "    embedding_matrix : a matrix with the corresponding embeddings\n",
    "    of all words.\n",
    "\n",
    "    Returns:\n",
    "    The LSTM model that you created.\n",
    "    '''\n",
    "\n",
    "    model = tf.keras.Sequential()\n",
    "\n",
    "    # TO DO: layer 1 : add embedding layer\n",
    "    # The embedding layer maps the words to their embedding vectors from the embedding matrix\n",
    "    model.add(tf.keras.layers.Embedding(input_dim=embedding_matrix.shape[0],\n",
    "                                        output_dim=embedding_matrix.shape[1],\n",
    "                                        weights=[embedding_matrix],\n",
    "                                        trainable=False))\n",
    "\n",
    "    # TO DO: layer 2 : add Bidirectional LSTM Layer \n",
    "    model.add(tf.keras.layers.Bidirectional(tf.keras.layers.LSTM(units=128)))\n",
    "\n",
    "\n",
    "    # TO DO Add more layers : you can add more dense layers and dropout\n",
    "    # NOTE : You should be able to achieve an validation accuracy greater than 85%\n",
    "    #        within 10 epochs\n",
    "    model.add(tf.keras.layers.Dropout(0.2))\n",
    "    model.add(tf.keras.layers.Dense(units=64, activation='relu'))\n",
    "    model.add(tf.keras.layers.Dropout(0.2))\n",
    "\n",
    "\n",
    "    # TO DO Final layer : add output layer and activation \n",
    "    model.add(tf.keras.layers.Dense(units=1, activation='sigmoid'))\n",
    "\n",
    "    # TO DO : use a loss function, optimizer as adam to compile \n",
    "    # and evaluate model on auc,precision,recall,accuracy\n",
    "    # HINT : choose your loss function based on the task (binary classification)\n",
    "    model.compile(loss='binary_crossentropy', optimizer='adam',\n",
    "                  metrics=[tf.keras.metrics.AUC(name=\"auc\"), tf.keras.metrics.Precision(name=\"precision\"),\n",
    "                           tf.keras.metrics.Recall(name=\"recall\"), 'accuracy'])\n",
    "  \n",
    "    return model"
   ]
  },
  {
   "cell_type": "code",
   "execution_count": 219,
   "metadata": {},
   "outputs": [],
   "source": [
    "# y_train = y_train.reshape((-1,1))\n",
    "# y_test = y_test.reshape((-1,1))"
   ]
  },
  {
   "cell_type": "code",
   "execution_count": 221,
   "metadata": {
    "id": "Dxl8HDkHYZFc"
   },
   "outputs": [
    {
     "name": "stdout",
     "output_type": "stream",
     "text": [
      "Model: \"sequential_22\"\n",
      "_________________________________________________________________\n",
      " Layer (type)                Output Shape              Param #   \n",
      "=================================================================\n",
      " embedding_22 (Embedding)    (None, None, 200)         2000000   \n",
      "                                                                 \n",
      " bidirectional_22 (Bidirecti  (None, 256)              336896    \n",
      " onal)                                                           \n",
      "                                                                 \n",
      " dropout_44 (Dropout)        (None, 256)               0         \n",
      "                                                                 \n",
      " dense_44 (Dense)            (None, 64)                16448     \n",
      "                                                                 \n",
      " dropout_45 (Dropout)        (None, 64)                0         \n",
      "                                                                 \n",
      " dense_45 (Dense)            (None, 1)                 65        \n",
      "                                                                 \n",
      "=================================================================\n",
      "Total params: 2,353,409\n",
      "Trainable params: 353,409\n",
      "Non-trainable params: 2,000,000\n",
      "_________________________________________________________________\n",
      "Epoch 1/10\n",
      "125/125 [==============================] - 58s 453ms/step - loss: 0.5637 - auc: 0.7804 - precision: 0.7093 - recall: 0.7159 - accuracy: 0.7057 - val_loss: 0.4858 - val_auc: 0.8683 - val_precision: 0.7209 - val_recall: 0.8960 - val_accuracy: 0.7660\n",
      "Epoch 2/10\n",
      "125/125 [==============================] - 55s 442ms/step - loss: 0.4804 - auc: 0.8514 - precision: 0.7771 - recall: 0.7885 - accuracy: 0.7770 - val_loss: 0.4300 - val_auc: 0.8863 - val_precision: 0.7828 - val_recall: 0.8748 - val_accuracy: 0.8090\n",
      "Epoch 3/10\n",
      "125/125 [==============================] - 55s 444ms/step - loss: 0.4264 - auc: 0.8844 - precision: 0.8056 - recall: 0.8278 - accuracy: 0.8105 - val_loss: 0.4810 - val_auc: 0.8756 - val_precision: 0.7199 - val_recall: 0.9210 - val_accuracy: 0.7730\n",
      "Epoch 4/10\n",
      "125/125 [==============================] - 56s 448ms/step - loss: 0.3739 - auc: 0.9129 - precision: 0.8346 - recall: 0.8518 - accuracy: 0.8385 - val_loss: 0.4178 - val_auc: 0.8939 - val_precision: 0.7953 - val_recall: 0.8536 - val_accuracy: 0.8100\n",
      "Epoch 5/10\n",
      "125/125 [==============================] - 56s 446ms/step - loss: 0.3578 - auc: 0.9208 - precision: 0.8340 - recall: 0.8631 - accuracy: 0.8428 - val_loss: 0.5207 - val_auc: 0.8322 - val_precision: 0.8032 - val_recall: 0.6686 - val_accuracy: 0.7430\n",
      "Epoch 6/10\n",
      "125/125 [==============================] - 56s 446ms/step - loss: 0.3420 - auc: 0.9275 - precision: 0.8468 - recall: 0.8651 - accuracy: 0.8515 - val_loss: 0.3995 - val_auc: 0.9030 - val_precision: 0.8233 - val_recall: 0.8709 - val_accuracy: 0.8360\n",
      "Epoch 7/10\n",
      "125/125 [==============================] - 56s 446ms/step - loss: 0.2619 - auc: 0.9580 - precision: 0.8902 - recall: 0.9033 - accuracy: 0.8940 - val_loss: 0.4152 - val_auc: 0.9052 - val_precision: 0.8664 - val_recall: 0.8247 - val_accuracy: 0.8430\n",
      "Epoch 8/10\n",
      "125/125 [==============================] - 55s 444ms/step - loss: 0.2109 - auc: 0.9731 - precision: 0.9100 - recall: 0.9225 - accuracy: 0.9140 - val_loss: 0.5151 - val_auc: 0.8941 - val_precision: 0.8063 - val_recall: 0.8825 - val_accuracy: 0.8290\n",
      "Epoch 9/10\n",
      "125/125 [==============================] - 55s 443ms/step - loss: 0.1655 - auc: 0.9829 - precision: 0.9327 - recall: 0.9455 - accuracy: 0.9375 - val_loss: 0.5220 - val_auc: 0.8757 - val_precision: 0.7914 - val_recall: 0.8478 - val_accuracy: 0.8050\n",
      "Epoch 10/10\n",
      "125/125 [==============================] - 55s 440ms/step - loss: 0.1161 - auc: 0.9914 - precision: 0.9502 - recall: 0.9642 - accuracy: 0.9560 - val_loss: 0.5747 - val_auc: 0.8891 - val_precision: 0.8350 - val_recall: 0.8285 - val_accuracy: 0.8260\n"
     ]
    }
   ],
   "source": [
    "# NOTE : You should be able to achieve an validation accuracy greater than 85%\n",
    "#        within 10 epochs\n",
    "\n",
    "#################################################################\n",
    "# Call the build_model function and initialize the model        #\n",
    "#################################################################\n",
    "\n",
    "model = build_model(embedding_matrix)\n",
    "model.summary()\n",
    "\n",
    "#######################################################################################################\n",
    "# train and validate the model on the padded sequences of text which we have created initially        #\n",
    "#######################################################################################################\n",
    "\n",
    "history = model.fit(train_sequences, y_train, epochs=10,\n",
    "                    validation_data=(val_sequences, y_test))\n",
    "# history = model.fit(train_sequences, y_train, epochs=10)"
   ]
  },
  {
   "cell_type": "markdown",
   "metadata": {
    "id": "tyvT7vTmYZFd"
   },
   "source": [
    "### Plotting Accuracy and Losses (5 Points)\n",
    " \n",
    "\n",
    "\n"
   ]
  },
  {
   "cell_type": "code",
   "execution_count": 226,
   "metadata": {
    "id": "uCXJzXMjYZFe"
   },
   "outputs": [
    {
     "data": {
      "image/png": "[encoded data removed]",
      "text/plain": [
       "<Figure size 1440x216 with 5 Axes>"
      ]
     },
     "metadata": {
      "needs_background": "light"
     },
     "output_type": "display_data"
    }
   ],
   "source": [
    "####################################\n",
    "# PLOT :                           #\n",
    "# train loss vs val loss           #\n",
    "# train auc vs val auc             #\n",
    "# train recall vs val recall       #\n",
    "# train precision vs val precision #\n",
    "# train accuracy vs val accuracy   #\n",
    "####################################\n",
    "\n",
    "plt.figure(figsize=(20,3))\n",
    "\n",
    "# Plot subplot 1 with loss\n",
    "plt.subplot(1, 5, 1)\n",
    "plt.title(\"train loss vs val loss\")\n",
    "plt.plot(history.history['loss'], label = 'Training loss')\n",
    "plt.plot(history.history['val_loss'], label = 'Validation loss')\n",
    "plt.legend()\n",
    "plt.xlabel(\"Epochs\")\n",
    "plt.ylabel(\"Loss\")\n",
    "\n",
    "# Plot subplot 2 with auc\n",
    "plt.subplot(1, 5, 2)\n",
    "plt.ylim(0, 1)\n",
    "plt.title(\"train auc vs val auc \")\n",
    "plt.plot(history.history['auc'], label = 'Training AUC')\n",
    "plt.plot(history.history['val_auc'], label = 'Validation AUC')\n",
    "plt.legend()\n",
    "plt.xlabel(\"Epochs\")\n",
    "plt.ylabel(\"AUC\")\n",
    "\n",
    "# Plot subplot 3 with recall\n",
    "plt.subplot(1, 5, 3)\n",
    "plt.ylim(0, 1)\n",
    "plt.title(\"train recall vs val recall \")\n",
    "plt.plot(history.history['recall'], label = 'Training Recall')\n",
    "plt.plot(history.history['val_recall'], label = 'Validation Recall')\n",
    "plt.legend()\n",
    "plt.xlabel(\"Epochs\")\n",
    "plt.ylabel(\"Recall\")\n",
    "\n",
    "# Plot subplot 4 with recall\n",
    "plt.subplot(1, 5, 4)\n",
    "plt.ylim(0, 1)\n",
    "plt.title(\"train precision vs val precision\")\n",
    "plt.plot(history.history['precision'], label = 'Training Precision')\n",
    "plt.plot(history.history['val_precision'], label = 'Validation Precision')\n",
    "plt.legend()\n",
    "plt.xlabel(\"Epochs\")\n",
    "plt.ylabel(\"Precision\")\n",
    "\n",
    "# Plot subplot 5 with recall\n",
    "plt.subplot(1, 5, 5)\n",
    "plt.ylim(0, 1)\n",
    "plt.title(\"train accuracy vs val accuracy\")\n",
    "plt.plot(history.history['accuracy'], label = 'Training Accuracy')\n",
    "plt.plot(history.history['val_accuracy'], label = 'Validation Accuracy')\n",
    "plt.legend()\n",
    "plt.xlabel(\"Epochs\")\n",
    "plt.ylabel(\"Accuracy\")\n",
    "plt.show()"
   ]
  },
  {
   "cell_type": "code",
   "execution_count": 234,
   "metadata": {
    "id": "me9so1i_ecsA"
   },
   "outputs": [],
   "source": [
    "# You will need to include the pickled model along with the other submission files\n",
    "# The saved model will be used to verify your lstm's predictions on hidden reviews\n",
    "\n",
    "##################################################################################\n",
    "# Save your trained model as a pickle file named \"lstm_classifier\"               #\n",
    "# You will be using this saved model to make predictions in the next module      #\n",
    "##################################################################################\n",
    "\n",
    "# import pickle\n",
    "\n",
    "# with open(\"lstm_classifier.pkl\", \"wb\") as f:\n",
    "#     pickle.dump(model, f)\n",
    "\n",
    "path = './lstm_classifier.h5'\n",
    "model.save(path)\n"
   ]
  },
  {
   "cell_type": "markdown",
   "metadata": {
    "id": "J5zTQmf4Xr_O"
   },
   "source": [
    "### Prediction (5 Points)"
   ]
  },
  {
   "cell_type": "code",
   "execution_count": 235,
   "metadata": {
    "id": "PRalffaWeLxN"
   },
   "outputs": [],
   "source": [
    "######################################################################\n",
    "# Load your saved model                                              #\n",
    "# Use the saved model to make predictions                            #\n",
    "######################################################################\n",
    "\n",
    "# with open(\"lstm_classifier.pkl\", \"rb\") as f:\n",
    "#     saved_model = pickle.load(f)\n",
    "\n",
    "saved_model= tf.keras.models.load_model(path)\n"
   ]
  },
  {
   "cell_type": "code",
   "execution_count": 254,
   "metadata": {
    "id": "yM3JAQdPXq-y"
   },
   "outputs": [],
   "source": [
    "# use the saved model to predict the reviews\n",
    "def predict_review(review):\n",
    "    '''\n",
    "    Arguments:\n",
    "    review : A single review for which you want to predict the sentiment for.\n",
    "    example: \"This movie was amazing! I would defenitely watch it again.\"\n",
    "\n",
    "    Returns:\n",
    "    The predicted sentiment for the review : either 1 or 0\n",
    "    '''\n",
    "\n",
    "    ############################################################################# \n",
    "    # Predict the sentiment for the given review using the model                #\n",
    "    # that you trained and return the sentiment                                 #\n",
    "    #                                                                           #\n",
    "    # HINT : Remember that the review needs to be \"preprocessed\" before you use #\n",
    "    # it for prediction                                                         #\n",
    "    #############################################################################\n",
    "\n",
    "    clean_review = clean_text(review)\n",
    "    new_review_sequence = tokenizer.texts_to_sequences([clean_review])\n",
    "    new_review_sequence_padded = pad_sequences(new_review_sequence, maxlen=200)\n",
    "\n",
    "    y_pred = saved_model.predict(new_review_sequence_padded)\n",
    "    \n",
    "#     print(y_pred)\n",
    "\n",
    "    y_pred_labels = int(np.round(y_pred).astype(int))\n",
    "\n",
    "    return y_pred_labels\n"
   ]
  },
  {
   "cell_type": "code",
   "execution_count": 255,
   "metadata": {},
   "outputs": [
    {
     "name": "stdout",
     "output_type": "stream",
     "text": [
      "1/1 [==============================] - 0s 23ms/step\n"
     ]
    },
    {
     "data": {
      "text/plain": [
       "0"
      ]
     },
     "execution_count": 255,
     "metadata": {},
     "output_type": "execute_result"
    }
   ],
   "source": [
    "predict_review(\"If you like original\")"
   ]
  },
  {
   "cell_type": "code",
   "execution_count": 256,
   "metadata": {
    "id": "BM0RnmVOdckJ"
   },
   "outputs": [
    {
     "name": "stdout",
     "output_type": "stream",
     "text": [
      "1/1 [==============================] - 0s 24ms/step\n",
      "If you like original gut wrenching laughter you will like this movie. If you are young or old then y -> 1\n",
      "1/1 [==============================] - 0s 23ms/step\n",
      "What a waste of talent. A very poor, semi-coherent, script cripples this film. Rather unimaginative  -> 0\n",
      "1/1 [==============================] - 0s 22ms/step\n",
      "I have seen this film at least 100 times and I am still excited by it, the acting is perfect and the -> 1\n",
      "1/1 [==============================] - 0s 22ms/step\n",
      "Cheap, amateurish, unimaginative, exploitative... but don't think it'll have redeeming amusement val -> 0\n"
     ]
    }
   ],
   "source": [
    "# Do not edit this cell\n",
    "\n",
    "for review in [\"If you like original gut wrenching laughter you will like this movie. If you are young or old then you will love this movie, hell even my mom liked it.<br /><br />Great Camp!!!\",\n",
    "                \"What a waste of talent. A very poor, semi-coherent, script cripples this film. Rather unimaginative direction, too. Some VERY faint echoes of Fargo here, but it just doesn't come off.\",\n",
    "                \"I have seen this film at least 100 times and I am still excited by it, the acting is perfect and the romance between Joe and Jean keeps me on the edge of my seat, plus I still think Bryan Brown is the tops. Brilliant Film.\",\n",
    "                \"Cheap, amateurish, unimaginative, exploitative... but don't think it'll have redeeming amusement value. About as unentertaining, uninstructive and just plain dull as a film can be.\"]:\n",
    "    p = predict_review(review)\n",
    "    print(f'{review[:100]} -> {p}')\n",
    "    "
   ]
  },
  {
   "cell_type": "markdown",
   "metadata": {
    "id": "e6cxqkVn41Kj"
   },
   "source": [
    "### Expected Output:\n",
    "\n",
    "If you like original gut wrenching laughter you will like this movie. If you are young or old then y -> 1 <br>\n",
    "What a waste of talent. A very poor, semi-coherent, script cripples this film. Rather unimaginative  -> 0 <br>\n",
    "I have seen this film at least 100 times and I am still excited by it, the acting is perfect and the -> 1 <br>\n",
    "Cheap, amateurish, unimaginative, exploitative... but don't think it'll have redeeming amusement val -> 0"
   ]
  }
 ],
 "metadata": {
  "colab": {
   "provenance": [],
   "toc_visible": true
  },
  "kernelspec": {
   "display_name": "Python 3",
   "language": "python",
   "name": "python3"
  },
  "language_info": {
   "codemirror_mode": {
    "name": "ipython",
    "version": 3
   },
   "file_extension": ".py",
   "mimetype": "text/x-python",
   "name": "python",
   "nbconvert_exporter": "python",
   "pygments_lexer": "ipython3",
   "version": "3.8.5"
  }
 },
 "nbformat": 4,
 "nbformat_minor": 4
}
