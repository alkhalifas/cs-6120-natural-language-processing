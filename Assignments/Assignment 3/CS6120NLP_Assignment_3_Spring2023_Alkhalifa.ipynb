{
 "cells": [
  {
   "cell_type": "markdown",
   "metadata": {},
   "source": [
    "#### Saleh Alkhalifa, CS-6120"
   ]
  },
  {
   "cell_type": "markdown",
   "metadata": {
    "id": "CNMrNlx_plWE"
   },
   "source": [
    "# **CS 6120: Natural Language Processing - Prof. Ahmad Uzair** \n",
    "\n",
    "### **Assignment 3: n-gram Language Models, Word Sense disambiguation(LSA using SVD), LSTM**\n",
    "\n",
    "### **Total points: 100**\n"
   ]
  },
  {
   "cell_type": "markdown",
   "metadata": {
    "id": "j2lfntjwAMLl"
   },
   "source": [
    "# Q1. Latent Semantic Analysis (35 Points) \n"
   ]
  },
  {
   "cell_type": "markdown",
   "metadata": {
    "id": "51a5UGlaAMLl"
   },
   "source": [
    " - A. Singular Value Decomposition (SVD) based distributed representation of text and documents. You can use python libraries for matrix decomposition (scipy). To demonstrate your work, use the example dataset (Table 2) of \"R. A. Harshman (1990). Indexing by latent semantic analysis. Journal of the American society for information science\". (10 Points)\n",
    "\n",
    " - B. Visualize (2-D) the documents and terms using library of your choice. (10 Points)\n",
    "\n",
    " - C. Implement a function that converts a query string to distributed representation and retrieves relevent documents. Visualize the the results as shown in Fig 1 of the paper. (10 Points)"
   ]
  },
  {
   "cell_type": "markdown",
   "metadata": {
    "id": "I9BatoveAMLm"
   },
   "source": [
    "## <CENTER>Task-1 (10 Points)"
   ]
  },
  {
   "cell_type": "markdown",
   "metadata": {
    "id": "Aj820sOAAMLm"
   },
   "source": [
    "### Input data"
   ]
  },
  {
   "cell_type": "code",
   "execution_count": 1,
   "metadata": {
    "id": "dJ_MSpFDAMLn"
   },
   "outputs": [],
   "source": [
    "#Dataset\n",
    "c1 = 'Computer vision is a field of artificial intelligence that focuses on enabling computers to interpret and understand visual information from the world.'\n",
    "c2 = 'One of the most prominent applications of computer vision is in autonomous vehicles, where it helps the vehicle \"see\" and make decisions based on its surroundings.'\n",
    "c3 = 'Computer vision is also used in facial recognition technology, which has become controversial due to concerns over privacy and potential misuse.'\n",
    "c4 = 'In the medical field, computer vision is used to assist doctors in diagnosing diseases and analyzing medical images such as x-rays and MRIs.'\n",
    "c5 = 'Computer vision is also used in security and surveillance systems, where it can detect and recognize suspicious activities or individuals.'\n",
    "m1 = 'Cybersecurity refers to the practices and technologies used to protect computer systems, networks, and data from unauthorized access, use, disclosure, disruption, modification, or destruction.'\n",
    "m2 = 'One of the most important applications of cybersecurity is in safeguarding sensitive data and personal information, such as financial data or healthcare records.'\n",
    "m3 = 'Cybersecurity is also essential in protecting critical infrastructure, such as power grids and transportation systems, from cyber attacks that could cause significant disruptions.'\n",
    "m4 = 'In the healthcare industry, cybersecurity is used to protect medical devices and prevent unauthorized access to patient data.'\n",
    "documents = [c1, c2, c3, c4, c5, m1, m2, m3, m4]"
   ]
  },
  {
   "cell_type": "markdown",
   "metadata": {
    "id": "U9-a9HfZAMLo"
   },
   "source": [
    "### Perform preprocessing of documents\n",
    "\n",
    "In the below cell remove punctuations and lowercase the message"
   ]
  },
  {
   "cell_type": "code",
   "execution_count": 2,
   "metadata": {
    "id": "cXUWU0cZAMLo"
   },
   "outputs": [],
   "source": [
    "# TASK CELL\n",
    "import re\n",
    "\n",
    "def preprocess(message):\n",
    "    '''\n",
    "    Input:\n",
    "        message: a string containing a message.\n",
    "    Output:\n",
    "        preprocessed_message_list: a list of words containing the processed message. \n",
    "    '''\n",
    "    \n",
    "    # Remove punctuation\n",
    "    message = re.sub('[^A-Za-z0-9]+', \" \", message)\n",
    "    \n",
    "    # Remove multiple spaces\n",
    "    message = re.sub(' +', \" \", message)\n",
    "    \n",
    "    # Lower Case\n",
    "    message = message.lower()\n",
    "    \n",
    "    # Convert to List\n",
    "    preprocessed_message_list = message.split(\" \")\n",
    "    \n",
    "    # Remove spaces\n",
    "    preprocessed_message_list = list(filter(None, preprocessed_message_list))\n",
    "   \n",
    "    # Return list\n",
    "    return preprocessed_message_list"
   ]
  },
  {
   "cell_type": "code",
   "execution_count": 3,
   "metadata": {},
   "outputs": [
    {
     "data": {
      "text/plain": [
       "['one',\n",
       " 'of',\n",
       " 'the',\n",
       " 'most',\n",
       " 'prominent',\n",
       " 'applications',\n",
       " 'of',\n",
       " 'computer',\n",
       " 'vision',\n",
       " 'is',\n",
       " 'in',\n",
       " 'autonomous',\n",
       " 'vehicles',\n",
       " 'where',\n",
       " 'it',\n",
       " 'helps',\n",
       " 'the',\n",
       " 'vehicle',\n",
       " 'see',\n",
       " 'and',\n",
       " 'make',\n",
       " 'decisions',\n",
       " 'based',\n",
       " 'on',\n",
       " 'its',\n",
       " 'surroundings']"
      ]
     },
     "execution_count": 3,
     "metadata": {},
     "output_type": "execute_result"
    }
   ],
   "source": [
    "preprocess(c2)"
   ]
  },
  {
   "cell_type": "markdown",
   "metadata": {
    "id": "i-oKwALnAMLo"
   },
   "source": [
    "### Verify preprocessed data"
   ]
  },
  {
   "cell_type": "code",
   "execution_count": 4,
   "metadata": {
    "id": "rtHfRaHtAMLo"
   },
   "outputs": [
    {
     "name": "stdout",
     "output_type": "stream",
     "text": [
      "['computer', 'vision', 'is', 'a', 'field', 'of', 'artificial', 'intelligence', 'that', 'focuses', 'on', 'enabling', 'computers', 'to', 'interpret', 'and', 'understand', 'visual', 'information', 'from', 'the', 'world']\n",
      "['one', 'of', 'the', 'most', 'prominent', 'applications', 'of', 'computer', 'vision', 'is', 'in', 'autonomous', 'vehicles', 'where', 'it', 'helps', 'the', 'vehicle', 'see', 'and', 'make', 'decisions', 'based', 'on', 'its', 'surroundings']\n",
      "['computer', 'vision', 'is', 'also', 'used', 'in', 'facial', 'recognition', 'technology', 'which', 'has', 'become', 'controversial', 'due', 'to', 'concerns', 'over', 'privacy', 'and', 'potential', 'misuse']\n",
      "['in', 'the', 'medical', 'field', 'computer', 'vision', 'is', 'used', 'to', 'assist', 'doctors', 'in', 'diagnosing', 'diseases', 'and', 'analyzing', 'medical', 'images', 'such', 'as', 'x', 'rays', 'and', 'mris']\n",
      "['computer', 'vision', 'is', 'also', 'used', 'in', 'security', 'and', 'surveillance', 'systems', 'where', 'it', 'can', 'detect', 'and', 'recognize', 'suspicious', 'activities', 'or', 'individuals']\n",
      "['cybersecurity', 'refers', 'to', 'the', 'practices', 'and', 'technologies', 'used', 'to', 'protect', 'computer', 'systems', 'networks', 'and', 'data', 'from', 'unauthorized', 'access', 'use', 'disclosure', 'disruption', 'modification', 'or', 'destruction']\n",
      "['one', 'of', 'the', 'most', 'important', 'applications', 'of', 'cybersecurity', 'is', 'in', 'safeguarding', 'sensitive', 'data', 'and', 'personal', 'information', 'such', 'as', 'financial', 'data', 'or', 'healthcare', 'records']\n",
      "['cybersecurity', 'is', 'also', 'essential', 'in', 'protecting', 'critical', 'infrastructure', 'such', 'as', 'power', 'grids', 'and', 'transportation', 'systems', 'from', 'cyber', 'attacks', 'that', 'could', 'cause', 'significant', 'disruptions']\n",
      "['in', 'the', 'healthcare', 'industry', 'cybersecurity', 'is', 'used', 'to', 'protect', 'medical', 'devices', 'and', 'prevent', 'unauthorized', 'access', 'to', 'patient', 'data']\n"
     ]
    }
   ],
   "source": [
    "for sent in documents:\n",
    "    print(preprocess(sent))"
   ]
  },
  {
   "cell_type": "markdown",
   "metadata": {
    "id": "6CxjNhwfAMLp"
   },
   "source": [
    "##### Expected Output\n",
    "```CPP\n",
    "['computer', 'vision', 'is', 'a', 'field', 'of', 'artificial', 'intelligence', 'that', 'focuses', 'on', 'enabling', 'computers', 'to', 'interpret', 'and', 'understand', 'visual', 'information', 'from', 'the', 'world']\n",
    "['one', 'of', 'the', 'most', 'prominent', 'applications', 'of', 'computer', 'vision', 'is', 'in', 'autonomous', 'vehicles', 'where', 'it', 'helps', 'the', 'vehicle', '\"see\"', 'and', 'make', 'decisions', 'based', 'on', 'its', 'surroundings']\n",
    "['computer', 'vision', 'is', 'also', 'used', 'in', 'facial', 'recognition', 'technology', 'which', 'has', 'become', 'controversial', 'due', 'to', 'concerns', 'over', 'privacy', 'and', 'potential', 'misuse']\n",
    "['in', 'the', 'medical', 'field', 'computer', 'vision', 'is', 'used', 'to', 'assist', 'doctors', 'in', 'diagnosing', 'diseases', 'and', 'analyzing', 'medical', 'images', 'such', 'as', 'x', 'rays', 'and', 'MRIs']\n",
    "['computer', 'vision', 'is', 'also', 'used', 'in', 'security', 'and', 'surveillance', 'systems', 'where', 'it', 'can', 'detect', 'and', 'recognize', 'suspicious', 'activities', 'or', 'individuals']\n",
    "['Cybersecurity', 'refers', 'to', 'the', 'practices', 'and', 'technologies', 'used', 'to', 'protect', 'computer', 'systems', 'networks', 'and', 'data', 'from', 'unauthorized', 'access', 'use', 'disclosure', 'disruption', 'modification', 'or', 'destruction']\n",
    "['one', 'of', 'the', 'most', 'important', 'applications', 'of', 'cybersecurity', 'is', 'in', 'safeguarding', 'sensitive', 'data', 'and', 'personal', 'information', 'such', 'as', 'financial', 'data', 'or', 'healthcare', 'records']\n",
    "['Cybersecurity', 'is', 'also', 'essential', 'in', 'protecting', 'critical', 'infrastructure', 'such', 'as', 'power', 'grids', 'and', 'transportation', 'systems', 'from', 'cyber', 'attacks', 'that', 'could', 'cause', 'significant', 'disruptions']\n",
    "['in', 'the', 'healthcare', 'industry', 'cybersecurity', 'is', 'used', 'to', 'protect', 'medical', 'devices', 'and', 'prevent', 'unauthorized', 'access', 'to', 'patient', 'data']\n",
    "```"
   ]
  },
  {
   "cell_type": "markdown",
   "metadata": {
    "id": "-WDV3e-4AMLp"
   },
   "source": [
    "### Assign names to document names\n",
    "In the below cell create a list of document names. It will be later used to visualize documents"
   ]
  },
  {
   "cell_type": "code",
   "execution_count": 5,
   "metadata": {
    "id": "SxujZEbrAMLp"
   },
   "outputs": [],
   "source": [
    "def createDocName(documents):\n",
    "    '''\n",
    "    Input:\n",
    "        documents: list of documents.\n",
    "    Output:\n",
    "        doc_names: a list of document names. \n",
    "\n",
    "    '''\n",
    "    doc_names = ['c1', 'c2', 'c3', 'c4', 'c5', 'm1', 'm2', 'm3', 'm4']\n",
    "\n",
    "    return doc_names\n"
   ]
  },
  {
   "cell_type": "code",
   "execution_count": 6,
   "metadata": {
    "id": "ovu9s_XCAMLp"
   },
   "outputs": [
    {
     "name": "stdout",
     "output_type": "stream",
     "text": [
      "['c1', 'c2', 'c3', 'c4', 'c5', 'm1', 'm2', 'm3', 'm4']\n"
     ]
    }
   ],
   "source": [
    "docName = createDocName(documents)\n",
    "print(docName)"
   ]
  },
  {
   "cell_type": "markdown",
   "metadata": {
    "id": "T-hbWnH6AMLp"
   },
   "source": [
    "##### Expected Output\n",
    "``` CPP\n",
    "['c1', 'c2', 'c3', 'c4', 'c5', 'm1', 'm2', 'm3', 'm4']\n",
    "```"
   ]
  },
  {
   "cell_type": "markdown",
   "metadata": {
    "id": "DwDGBYP0AMLq"
   },
   "source": [
    "### Words to Index mapping\n",
    "Retrieve words from documents and create map of word and associate index to it"
   ]
  },
  {
   "cell_type": "code",
   "execution_count": 8,
   "metadata": {},
   "outputs": [],
   "source": [
    "from nltk.corpus import stopwords\n",
    "stop_words = stopwords.words('english')"
   ]
  },
  {
   "cell_type": "code",
   "execution_count": 23,
   "metadata": {},
   "outputs": [],
   "source": [
    "def build_word_to_ix(documents, stopwords=None):\n",
    "    '''\n",
    "    Input:\n",
    "        documents: list of documents\n",
    "        stopwords: list of stopwords\n",
    "    Output:\n",
    "        doc_names: map of words and assoicated index. Make sure to remove words which occur in less than 2 documents \n",
    "\n",
    "    '''\n",
    "    # Instantiate dicts\n",
    "    word_to_ix = {}\n",
    "    doc_count = {}\n",
    "    \n",
    "    # Iterate over documents\n",
    "    for i, doc in enumerate(documents):\n",
    "        \n",
    "        # Preprocess document using previous script\n",
    "        words = preprocess(doc)\n",
    "        \n",
    "        # Get unique words from the list\n",
    "        unique_words = set(words)\n",
    "        \n",
    "        # Iterate over the words\n",
    "        for word in unique_words:\n",
    "            # Stop word conditional\n",
    "            if stopwords and word in stopwords:\n",
    "                continue\n",
    "                \n",
    "            # Conditional to add\n",
    "            if word not in doc_count:\n",
    "                doc_count[word] = set()\n",
    "            doc_count[word].add(i)\n",
    "            \n",
    "    # Remove words that occur in less than 2 documents\n",
    "    doc_count = {k: v for k, v in doc_count.items() if len(v) > 1}\n",
    "    \n",
    "    for i, word in enumerate(doc_count.keys()):\n",
    "        word_to_ix[word] = i\n",
    "        \n",
    "    return word_to_ix"
   ]
  },
  {
   "cell_type": "code",
   "execution_count": 24,
   "metadata": {
    "id": "AJOXHCtPAMLq"
   },
   "outputs": [
    {
     "name": "stdout",
     "output_type": "stream",
     "text": [
      "{'field': 0, 'information': 1, 'computer': 2, 'vision': 3, 'applications': 4, 'one': 5, 'used': 6, 'also': 7, 'medical': 8, 'systems': 9, 'unauthorized': 10, 'access': 11, 'protect': 12, 'cybersecurity': 13, 'data': 14, 'healthcare': 15}\n"
     ]
    }
   ],
   "source": [
    "word_to_ix = build_word_to_ix(documents, stop_words)\n",
    "print(word_to_ix)"
   ]
  },
  {
   "cell_type": "markdown",
   "metadata": {
    "id": "uZlo0SxRAMLq"
   },
   "source": [
    "##### Expected Output\n",
    "Note: the index value for each token could be different in your implementation \n",
    "```CPP\n",
    "{'field': 0, 'vision': 1, 'information': 2, 'computer': 3, 'one': 4, 'applications': 5, 'also': 6, 'used': 7, 'medical': 8, 'systems': 9, 'data': 10, 'unauthorized': 11, 'access': 12, 'cybersecurity': 13, 'protect': 14, 'healthcare': 15}\n",
    "```"
   ]
  },
  {
   "cell_type": "markdown",
   "metadata": {
    "id": "bpNH0AoFAMLq"
   },
   "source": [
    "### Document-Terms count matrix"
   ]
  },
  {
   "cell_type": "code",
   "execution_count": 26,
   "metadata": {
    "id": "pjbiP8koAMLq"
   },
   "outputs": [],
   "source": [
    "import numpy as np\n",
    "\n",
    "def build_td_matrix(documents, word_to_ix):\n",
    "    '''\n",
    "    Input:\n",
    "        documents: list of documents.\n",
    "        word_to_ix: {word, index} map\n",
    "    Output:\n",
    "        td_matrix: matrix of count of words in documents, each row \n",
    "            represent a word and each column represent a document\n",
    "\n",
    "    '''\n",
    "    \n",
    "    # Instantiate zeros matrix\n",
    "    td_matrix = np.zeros((len(word_to_ix), len(documents)))\n",
    "\n",
    "    # Iterate over the documents\n",
    "    for idx, sentence in enumerate(documents):\n",
    "    \n",
    "        # Preprocess and split words\n",
    "        sentence = preprocess(sentence)\n",
    "    \n",
    "        # for each word, check if its in word_to_ix\n",
    "        for word in sentence:\n",
    "            if word in word_to_ix:\n",
    "                # Increment if included\n",
    "                td_matrix[word_to_ix[word], idx] = td_matrix[word_to_ix[word], idx]+1\n",
    "    \n",
    "    return td_matrix"
   ]
  },
  {
   "cell_type": "code",
   "execution_count": 27,
   "metadata": {
    "id": "Hw12VPjTAMLq"
   },
   "outputs": [
    {
     "name": "stdout",
     "output_type": "stream",
     "text": [
      "[[1. 0. 0. 1. 0. 0. 0. 0. 0.]\n",
      " [1. 0. 0. 0. 0. 0. 1. 0. 0.]\n",
      " [1. 1. 1. 1. 1. 1. 0. 0. 0.]\n",
      " [1. 1. 1. 1. 1. 0. 0. 0. 0.]\n",
      " [0. 1. 0. 0. 0. 0. 1. 0. 0.]\n",
      " [0. 1. 0. 0. 0. 0. 1. 0. 0.]\n",
      " [0. 0. 1. 1. 1. 1. 0. 0. 1.]\n",
      " [0. 0. 1. 0. 1. 0. 0. 1. 0.]\n",
      " [0. 0. 0. 2. 0. 0. 0. 0. 1.]\n",
      " [0. 0. 0. 0. 1. 1. 0. 1. 0.]\n",
      " [0. 0. 0. 0. 0. 1. 0. 0. 1.]\n",
      " [0. 0. 0. 0. 0. 1. 0. 0. 1.]\n",
      " [0. 0. 0. 0. 0. 1. 0. 0. 1.]\n",
      " [0. 0. 0. 0. 0. 1. 1. 1. 1.]\n",
      " [0. 0. 0. 0. 0. 1. 2. 0. 1.]\n",
      " [0. 0. 0. 0. 0. 0. 1. 0. 1.]]\n"
     ]
    }
   ],
   "source": [
    "X = build_td_matrix(documents, word_to_ix)\n",
    "print(X)"
   ]
  },
  {
   "cell_type": "markdown",
   "metadata": {
    "id": "NTdOUAMnAMLq"
   },
   "source": [
    "##### Expected Output\n",
    "Note: the order of rows could be different in your implementation as it is based on the indexing of the tokens done in build_word_to_ix\n",
    "```CPP\n",
    "[[1. 0. 0. 1. 0. 0. 0. 0. 0.]\n",
    " [1. 1. 1. 1. 1. 0. 0. 0. 0.]\n",
    " [1. 0. 0. 0. 0. 0. 1. 0. 0.]\n",
    " [1. 1. 1. 1. 1. 1. 0. 0. 0.]\n",
    " [0. 1. 0. 0. 0. 0. 1. 0. 0.]\n",
    " [0. 1. 0. 0. 0. 0. 1. 0. 0.]\n",
    " [0. 0. 1. 0. 1. 0. 0. 1. 0.]\n",
    " [0. 0. 1. 1. 1. 1. 0. 0. 1.]\n",
    " [0. 0. 0. 2. 0. 0. 0. 0. 1.]\n",
    " [0. 0. 0. 0. 1. 1. 0. 1. 0.]\n",
    " [0. 0. 0. 0. 0. 1. 2. 0. 1.]\n",
    " [0. 0. 0. 0. 0. 1. 0. 0. 1.]\n",
    " [0. 0. 0. 0. 0. 1. 0. 0. 1.]\n",
    " [0. 0. 0. 0. 0. 1. 1. 1. 1.]\n",
    " [0. 0. 0. 0. 0. 1. 0. 0. 1.]\n",
    " [0. 0. 0. 0. 0. 0. 1. 0. 1.]]\n",
    " ```"
   ]
  },
  {
   "cell_type": "markdown",
   "metadata": {
    "id": "xeBW0dr7AMLr"
   },
   "source": [
    "### Singular Value Decomposition\n",
    "Perform singular value decomposition of count matrix into term singular vector matrix, singular value matrix and document singular vector matrix\n",
    "- To perform the singular value decompostion please check tutorial:\n",
    "https://numpy.org/doc/stable/reference/generated/numpy.linalg.svd.html"
   ]
  },
  {
   "cell_type": "code",
   "execution_count": 28,
   "metadata": {
    "id": "FXCpmScoAMLr"
   },
   "outputs": [],
   "source": [
    "def svd(documents, word_to_ix, rank):\n",
    "    '''\n",
    "    Input:\n",
    "        documents: list of documents.\n",
    "        word_to_ix: {word, index} map\n",
    "        rank: number of colums/rows to retain in decomposed matrix\n",
    "    Output:\n",
    "        Uk: term singular vector matrix\n",
    "        Sk: singular value matrix\n",
    "        Vk_t: transpose of document singular vector matrix\n",
    "    '''\n",
    "    \n",
    "    # Insantiate Matrix using previous function\n",
    "    X = build_td_matrix(documents, word_to_ix)\n",
    "    \n",
    "    # Apply SVD based on documentation\n",
    "    u, s, vh = np.linalg.svd(X)\n",
    "    \n",
    "    # Reshape outputs to fit required shape\n",
    "    Uk, Sk, Vk_t = u[:,:rank], np.diag(s[:rank]), np.dstack((vh[0],vh[1]))[0]\n",
    "    \n",
    "    return Uk, Sk, Vk_t"
   ]
  },
  {
   "cell_type": "code",
   "execution_count": 29,
   "metadata": {
    "id": "EBsAlKrTAMLr"
   },
   "outputs": [
    {
     "name": "stdout",
     "output_type": "stream",
     "text": [
      "[[-0.12717294  0.20278638]\n",
      " [-0.11470385 -0.06974269]\n",
      " [-0.40776071  0.39028813]\n",
      " [-0.30025142  0.45516076]\n",
      " [-0.11406442 -0.09695837]\n",
      " [-0.11406442 -0.09695837]\n",
      " [-0.41909101  0.14444841]\n",
      " [-0.1610913   0.18784146]\n",
      " [-0.26503675  0.13251736]\n",
      " [-0.20868502  0.02493571]\n",
      " [-0.20656126 -0.17503165]\n",
      " [-0.20656126 -0.17503165]\n",
      " [-0.20656126 -0.17503165]\n",
      " [-0.3086385  -0.33652293]\n",
      " [-0.34760786 -0.47741341]\n",
      " [-0.16957527 -0.26134991]]\n",
      "[[4.63682644 0.        ]\n",
      " [0.         3.4660758 ]]\n",
      "[[-0.20485755  0.28230559]\n",
      " [-0.2018926   0.18797401]\n",
      " [-0.27781813  0.33979025]\n",
      " [-0.3848213   0.42056737]\n",
      " [-0.32282413  0.34698447]\n",
      " [-0.49850192 -0.22485343]\n",
      " [-0.3270043  -0.52403905]\n",
      " [-0.14631016 -0.03570198]\n",
      " [-0.4592868  -0.38181953]]\n"
     ]
    }
   ],
   "source": [
    "Uk, Sk, Vk_t = svd(documents, word_to_ix, 2)\n",
    "print(Uk)\n",
    "print(Sk)\n",
    "print(Vk_t)"
   ]
  },
  {
   "cell_type": "markdown",
   "metadata": {
    "id": "zCfyqlZEAMLr"
   },
   "source": [
    "##### Expected Output\n",
    "Note: the order of rows could be different in your implementation as it is based on the indexing of the tokens done in build_word_to_ix\n",
    "```CPP \n",
    "[[-0.12717294  0.20278638]\n",
    " [-0.30025142  0.45516076]\n",
    " [-0.11470385 -0.06974269]\n",
    " [-0.40776071  0.39028813]\n",
    " [-0.11406442 -0.09695837]\n",
    " [-0.11406442 -0.09695837]\n",
    " [-0.1610913   0.18784146]\n",
    " [-0.41909101  0.14444841]\n",
    " [-0.26503675  0.13251736]\n",
    " [-0.20868502  0.02493571]\n",
    " [-0.34760786 -0.47741341]\n",
    " [-0.20656126 -0.17503165]\n",
    " [-0.20656126 -0.17503165]\n",
    " [-0.3086385  -0.33652293]\n",
    " [-0.20656126 -0.17503165]\n",
    " [-0.16957527 -0.26134991]]\n",
    "[[4.63682644 0.        ]\n",
    " [0.         3.4660758 ]]\n",
    "[[-0.20485755  0.28230559]\n",
    " [-0.2018926   0.18797401]\n",
    " [-0.27781813  0.33979025]\n",
    " [-0.3848213   0.42056737]\n",
    " [-0.32282413  0.34698447]\n",
    " [-0.49850192 -0.22485343]\n",
    " [-0.3270043  -0.52403905]\n",
    " [-0.14631016 -0.03570198]\n",
    " [-0.4592868  -0.38181953]]\n",
    " ```"
   ]
  },
  {
   "cell_type": "markdown",
   "metadata": {
    "id": "QLJju9ExAMLr"
   },
   "source": [
    "## <CENTER>Task-2 (10 Points)"
   ]
  },
  {
   "cell_type": "markdown",
   "metadata": {
    "id": "rouQxivbAMLr"
   },
   "source": [
    "### Visualize documents in 2D space"
   ]
  },
  {
   "cell_type": "code",
   "execution_count": 30,
   "metadata": {
    "id": "rNlxasp3AMLr"
   },
   "outputs": [],
   "source": [
    "#Visualize documents and print coordinates"
   ]
  },
  {
   "cell_type": "code",
   "execution_count": 31,
   "metadata": {},
   "outputs": [
    {
     "name": "stdout",
     "output_type": "stream",
     "text": [
      "[ 0.28230559  0.18797401  0.33979025  0.42056737  0.34698447 -0.22485343\n",
      " -0.52403905 -0.03570198 -0.38181953]\n"
     ]
    }
   ],
   "source": [
    "print(Vk_t[:,1])"
   ]
  },
  {
   "cell_type": "code",
   "execution_count": 32,
   "metadata": {},
   "outputs": [
    {
     "name": "stdout",
     "output_type": "stream",
     "text": [
      "[0.2823055896544668, 0.1879740062511464, 0.3397902468946739, 0.42056737349036843, 0.34698446576097886, -0.22485343260914267, -0.5240390546984037, -0.035701979310270214, -0.38181952763444904]\n"
     ]
    }
   ],
   "source": [
    "print(list(Vk_t[:,1]))"
   ]
  },
  {
   "cell_type": "code",
   "execution_count": 33,
   "metadata": {},
   "outputs": [
    {
     "data": {
      "text/plain": [
       "[-0.20485755174016054,\n",
       " -0.20189260174249035,\n",
       " -0.27781812630383496,\n",
       " -0.384821296267465,\n",
       " -0.3228241278377758,\n",
       " -0.49850191940256217,\n",
       " -0.32700429857251795,\n",
       " -0.14631016162914728,\n",
       " -0.45928679890632584]"
      ]
     },
     "execution_count": 33,
     "metadata": {},
     "output_type": "execute_result"
    }
   ],
   "source": [
    "list(Vk_t[:,0])"
   ]
  },
  {
   "cell_type": "code",
   "execution_count": 45,
   "metadata": {},
   "outputs": [
    {
     "data": {
      "image/png": "[encoded data removed]",
      "text/plain": [
       "<Figure size 648x432 with 1 Axes>"
      ]
     },
     "metadata": {
      "needs_background": "light"
     },
     "output_type": "display_data"
    }
   ],
   "source": [
    "import matplotlib.pyplot as plt\n",
    "import seaborn as sns\n",
    "\n",
    "plt.figure(figsize=(9,6))\n",
    "plt.gca().invert_xaxis()\n",
    "plt.axhline(0)\n",
    "plt.axvline(0)\n",
    "\n",
    "for i in range (0, len(Vk_t)):\n",
    "    x = Vk_t[i][0]\n",
    "    y = Vk_t[i][1]\n",
    "    plt.plot(x, y, 's', color='royalblue')\n",
    "    plt.text(x * 1.01, y*1.02, docName[i], fontsize=12)\n",
    "\n"
   ]
  },
  {
   "cell_type": "code",
   "execution_count": 46,
   "metadata": {},
   "outputs": [
    {
     "data": {
      "text/plain": [
       "array([[-0.20485755,  0.28230559],\n",
       "       [-0.2018926 ,  0.18797401],\n",
       "       [-0.27781813,  0.33979025],\n",
       "       [-0.3848213 ,  0.42056737],\n",
       "       [-0.32282413,  0.34698447],\n",
       "       [-0.49850192, -0.22485343],\n",
       "       [-0.3270043 , -0.52403905],\n",
       "       [-0.14631016, -0.03570198],\n",
       "       [-0.4592868 , -0.38181953]])"
      ]
     },
     "execution_count": 46,
     "metadata": {},
     "output_type": "execute_result"
    }
   ],
   "source": [
    "Vk_t"
   ]
  },
  {
   "cell_type": "markdown",
   "metadata": {
    "id": "h8qOoeIfJzDt"
   },
   "source": [
    "##### Expected\n",
    "```CPP\n",
    "[[-0.94988891  0.97849257]\n",
    " [-0.93614095  0.65153215]\n",
    " [-1.28819443  1.17773875]\n",
    " [-1.78434956  1.4577184 ]\n",
    " [-1.49687945  1.20267446]\n",
    " [-2.31146688 -0.77935904]\n",
    " [-1.51626218 -1.81635909]\n",
    " [-0.67841483 -0.12374577]\n",
    " [-2.12963317 -1.32341543]]\n",
    "```\n",
    "![images/image.png](attachment:9df44069-ca33-481c-856c-0ca163d59c10.png)"
   ]
  },
  {
   "cell_type": "markdown",
   "metadata": {
    "id": "7Ca2xzRoJzDt"
   },
   "source": [
    "![images/image.png](images/image.png)"
   ]
  },
  {
   "cell_type": "markdown",
   "metadata": {
    "id": "e8tJC6EdAMLr"
   },
   "source": [
    "### Visualize terms in 2D space"
   ]
  },
  {
   "cell_type": "code",
   "execution_count": 47,
   "metadata": {
    "id": "vF1c71HSAMLr"
   },
   "outputs": [],
   "source": [
    "#Visualize terms and print coordinates"
   ]
  },
  {
   "cell_type": "code",
   "execution_count": 48,
   "metadata": {},
   "outputs": [
    {
     "data": {
      "text/plain": [
       "{'field': 0,\n",
       " 'information': 1,\n",
       " 'computer': 2,\n",
       " 'vision': 3,\n",
       " 'applications': 4,\n",
       " 'one': 5,\n",
       " 'used': 6,\n",
       " 'also': 7,\n",
       " 'medical': 8,\n",
       " 'systems': 9,\n",
       " 'unauthorized': 10,\n",
       " 'access': 11,\n",
       " 'protect': 12,\n",
       " 'cybersecurity': 13,\n",
       " 'data': 14,\n",
       " 'healthcare': 15}"
      ]
     },
     "execution_count": 48,
     "metadata": {},
     "output_type": "execute_result"
    }
   ],
   "source": [
    "word_to_ix"
   ]
  },
  {
   "cell_type": "code",
   "execution_count": 50,
   "metadata": {},
   "outputs": [
    {
     "data": {
      "image/png": "[encoded data removed]",
      "text/plain": [
       "<Figure size 1080x576 with 1 Axes>"
      ]
     },
     "metadata": {
      "needs_background": "light"
     },
     "output_type": "display_data"
    }
   ],
   "source": [
    "import matplotlib.pyplot as plt\n",
    "import seaborn as sns\n",
    "\n",
    "plt.figure(figsize=(15,8))\n",
    "plt.gca().invert_xaxis()\n",
    "plt.axhline(0)\n",
    "plt.axvline(0)\n",
    "\n",
    "for i in range (0, len(Uk)):\n",
    "    x = Uk[i][0]\n",
    "    y = Uk[i][1]\n",
    "    label = [key for key, value in word_to_ix.items() if value == i]\n",
    "    plt.plot(x, y, 'o')\n",
    "    plt.text(x * 1.01, y*1.02, f'{label[0]} ({i})', fontsize=12)\n"
   ]
  },
  {
   "cell_type": "code",
   "execution_count": 52,
   "metadata": {},
   "outputs": [
    {
     "name": "stdout",
     "output_type": "stream",
     "text": [
      "[[-0.12717294  0.20278638]\n",
      " [-0.11470385 -0.06974269]\n",
      " [-0.40776071  0.39028813]\n",
      " [-0.30025142  0.45516076]\n",
      " [-0.11406442 -0.09695837]\n",
      " [-0.11406442 -0.09695837]\n",
      " [-0.41909101  0.14444841]\n",
      " [-0.1610913   0.18784146]\n",
      " [-0.26503675  0.13251736]\n",
      " [-0.20868502  0.02493571]\n",
      " [-0.20656126 -0.17503165]\n",
      " [-0.20656126 -0.17503165]\n",
      " [-0.20656126 -0.17503165]\n",
      " [-0.3086385  -0.33652293]\n",
      " [-0.34760786 -0.47741341]\n",
      " [-0.16957527 -0.26134991]]\n"
     ]
    }
   ],
   "source": [
    "print(Uk)"
   ]
  },
  {
   "cell_type": "markdown",
   "metadata": {
    "id": "ygvNW2d_JzDw"
   },
   "source": [
    "##### Expected\n",
    "Note: the order of rows could be different in your implementation as it is based on the indexing of the tokens done in build_word_to_ix\n",
    "```CPP\n",
    "[[-0.58967885  0.70287296]\n",
    " [-1.3922137   1.57762168]\n",
    " [-0.53186185 -0.24173347]\n",
    " [-1.89071562  1.35276825]\n",
    " [-0.5288969  -0.33606505]\n",
    " [-0.5288969  -0.33606505]\n",
    " [-0.74695242  0.65107273]\n",
    " [-1.94325227  0.50066913]\n",
    " [-1.22892939  0.45931522]\n",
    " [-0.96763621  0.08642905]\n",
    " [-1.61179732 -1.65475107]\n",
    " [-0.95778872 -0.60667296]\n",
    " [-0.95778872 -0.60667296]\n",
    " [-1.43110318 -1.16641399]\n",
    " [-0.95778872 -0.60667296]\n",
    " [-0.7862911  -0.90585858]]\n",
    "```\n",
    "![term.png](attachment:bdb847ce-c276-45a9-a7fe-a89787bbedfa.png)"
   ]
  },
  {
   "cell_type": "markdown",
   "metadata": {},
   "source": [
    "![images/term.png](images/term.png)"
   ]
  },
  {
   "cell_type": "markdown",
   "metadata": {
    "id": "WLfzNNlKAMLr"
   },
   "source": [
    "## <CENTER>Task-3 (10 Points)"
   ]
  },
  {
   "cell_type": "markdown",
   "metadata": {
    "id": "bCGdw5FKAMLr"
   },
   "source": [
    "### Find matching documents for given document"
   ]
  },
  {
   "cell_type": "code",
   "execution_count": 53,
   "metadata": {
    "id": "3WGgJK4TAMLr"
   },
   "outputs": [],
   "source": [
    "# Hint create query vector for input document. Calculate its cosine distance from other documents\n",
    "\n",
    "def query(s, Uk, Sk, Vk_t, word_to_ix, documents, min_score=0.9):\n",
    "    '''\n",
    "    Input:\n",
    "        s:query document.\n",
    "        Uk:Term matrix\n",
    "        Sk:singular value matrix\n",
    "        Vk_t:Document matrix\n",
    "        word_to_ix: {word, index} map\n",
    "        documents:list of document\n",
    "        min_score:min score beyond which documents are considerd matching\n",
    "    Output:\n",
    "        q_hat: coordinates of query vector\n",
    "        matches: list of tuples containing matching document and its score\n",
    "    '''\n",
    "    # Add space for the matches found\n",
    "    matches = []\n",
    "    \n",
    "    # tokenize the input document using processing script\n",
    "    query_words = preprocess(s)\n",
    "    \n",
    "    # instantiate zeros matrix\n",
    "    query_mtx = np.zeros(len(word_to_ix))\n",
    "    \n",
    "    # iterate over the query's words\n",
    "    for word in query_words:\n",
    "        \n",
    "        # add word if found, increment\n",
    "        if word in word_to_ix:\n",
    "            query_mtx[word_to_ix[word]] += 1\n",
    "\n",
    "    # Vector for the query s\n",
    "    q_hat = np.matmul(query_mtx, Uk[:, :2])\n",
    "    \n",
    "    # Iterate over the documents\n",
    "    for idx, document in enumerate(documents):\n",
    "        \n",
    "        # Check Current Document:\n",
    "#         print(f\"({idx})-{document}\")\n",
    "        \n",
    "        # Preprocess each document\n",
    "        d_tokens = preprocess(document)\n",
    "        \n",
    "        # Create zeros array\n",
    "        doc_mtx = np.zeros(len(word_to_ix))\n",
    "        \n",
    "        # Iterate over the words\n",
    "        for word in d_tokens:\n",
    "            \n",
    "            # If matches, increment\n",
    "            if word in word_to_ix:\n",
    "                doc_mtx[word_to_ix[word]] += 1\n",
    "        doc_vec = np.matmul(doc_mtx, Uk[:, :2])\n",
    "        \n",
    "        # Calcualte cosine as dot prod\n",
    "        cos_sim = np.dot(q_hat, doc_vec) / (np.linalg.norm(q_hat) * np.linalg.norm(doc_vec))\n",
    "        \n",
    "        # If greater than score, add to list\n",
    "        if cos_sim >= min_score:\n",
    "            matches.append((document, cos_sim))\n",
    "    \n",
    "    return q_hat, matches\n",
    "\n",
    "q_hat, matches = query('E-commerce companies use cybersecurity to protect online transactions and prevent fraud.', Uk, Sk, Vk_t, word_to_ix, documents, 0.9)\n"
   ]
  },
  {
   "cell_type": "code",
   "execution_count": 118,
   "metadata": {
    "id": "SRqCh5PsAMLs"
   },
   "outputs": [
    {
     "name": "stdout",
     "output_type": "stream",
     "text": [
      "[-0.51519977 -0.51155458]\n",
      "[('One of the most important applications of cybersecurity is in safeguarding sensitive data and personal information, such as financial data or healthcare records.', 0.9956454663736863), ('In the healthcare industry, cybersecurity is used to protect medical devices and prevent unauthorized access to patient data.', 0.974610647387395)]\n"
     ]
    }
   ],
   "source": [
    "q_hat, matches = query('E-commerce companies use cybersecurity to protect online transactions and prevent fraud.', Uk, Sk, Vk_t, word_to_ix, documents, 0.9)\n",
    "print(q_hat)\n",
    "if matches is not None:\n",
    "    print(matches)\n",
    "else:\n",
    "    print(\"No matches found\")"
   ]
  },
  {
   "cell_type": "markdown",
   "metadata": {
    "id": "f44WDNKPAMLs"
   },
   "source": [
    "##### Expected\n",
    "```CPP\n",
    "[-0.51519977 -0.51155458]\n",
    "[('One of the most important applications of cybersecurity is in safeguarding sensitive data and personal information, such as financial data or healthcare records.', 0.9956454663736864), ('In the healthcare industry, cybersecurity is used to protect medical devices and prevent unauthorized access to patient data.', 0.9746106473873951)]\n",
    "```"
   ]
  },
  {
   "cell_type": "markdown",
   "metadata": {
    "id": "-_n9ayNLAMLs"
   },
   "source": [
    "### Visual representation of query/document"
   ]
  },
  {
   "cell_type": "code",
   "execution_count": 31,
   "metadata": {
    "id": "oFlw3alvAMLs"
   },
   "outputs": [],
   "source": [
    "# Plot terms, documents and query documents along with lines representing its cosine angle "
   ]
  },
  {
   "cell_type": "code",
   "execution_count": 106,
   "metadata": {},
   "outputs": [],
   "source": [
    "px1, px2, py1, py2 = get_cosine_points_pos()"
   ]
  },
  {
   "cell_type": "code",
   "execution_count": 107,
   "metadata": {},
   "outputs": [],
   "source": [
    "nx1, nx2, ny1, ny2 = get_cosine_points_neg()"
   ]
  },
  {
   "cell_type": "code",
   "execution_count": 108,
   "metadata": {},
   "outputs": [],
   "source": [
    "qx, qy = get_query_coords()"
   ]
  },
  {
   "cell_type": "code",
   "execution_count": 111,
   "metadata": {},
   "outputs": [
    {
     "data": {
      "image/png": "[encoded data removed]",
      "text/plain": [
       "<Figure size 1440x720 with 1 Axes>"
      ]
     },
     "metadata": {
      "needs_background": "light"
     },
     "output_type": "display_data"
    }
   ],
   "source": [
    "import matplotlib.pyplot as plt\n",
    "import seaborn as sns\n",
    "\n",
    "plt.figure(figsize=(20,10))\n",
    "plt.gca().invert_xaxis()\n",
    "plt.axhline(0)\n",
    "plt.axvline(0)\n",
    "plt.plot(qx, qy, 'o', color='red')\n",
    "plt.text(qx, qy, 'q', fontsize=12)\n",
    "\n",
    "plt.plot([px1, px2], [py1, py2], 'k-', color='green')\n",
    "plt.plot([nx1, nx2], [ny1, ny2], 'k-', color='orange')\n",
    "\n",
    "for i in range (0, len(Uk)):\n",
    "    x = Uk[i][0]\n",
    "    y = Uk[i][1]\n",
    "    label = [key for key, value in word_to_ix.items() if value == i]\n",
    "    plt.plot(x, y, 'o', color=\"blue\")\n",
    "    plt.text(x * 1.01, y*1.02, f'{label[0]} ({i})', fontsize=12)\n",
    "\n",
    "for i in range (0, len(Vk_t)):\n",
    "    x = Vk_t[i][0]\n",
    "    y = Vk_t[i][1]\n",
    "    plt.plot(x, y, 's', color='royalblue')\n",
    "    plt.text(x * 1.01, y*1.02, docName[i], fontsize=12)"
   ]
  },
  {
   "cell_type": "markdown",
   "metadata": {
    "id": "iMIYt7IWJzD0"
   },
   "source": [
    "##### Expected\n",
    "![Cosine angle.png](attachment:6f3fc59f-73c5-48ff-930f-9d53a78a5dd5.png)"
   ]
  },
  {
   "cell_type": "markdown",
   "metadata": {},
   "source": [
    "![images/Cosineangle.png](images/Cosineangle.png)"
   ]
  },
  {
   "cell_type": "markdown",
   "metadata": {
    "id": "bsDfmhqUn5MS"
   },
   "source": [
    "## **Theory questions: (5 points)**\n",
    "- A) Give short description of Left-eigen vectors, right-eigen vectors and eigen-values matrix retured by Singular Value Decompostion of document-terms count matrix.\n",
    "\n",
    "    - We can define SVD as singular value decomposition as a technique that can be used to decompose a given matrix into three separate matrices which we represent above as Uk, Sk and Vk_t.\n",
    "    - Uk represets the left-singular vectors or left-eigen vectors. These vectors represent a set of orthogonal vectors for the distribution of terms across the set of documents, in the form of a reduced dimensionality.\n",
    "    - Sk represents the singular values, or the eigen values. These are a set of diagonal values that show the variationin the data, account for by the left and right vectors, generally used to determine important dimensions on the document term count.\n",
    "    - Vk represents the right singular vectors, or right eigen vectors. These are orthogonal vectors representing distribution of documents, and are used to identify important temrs in the collection."
   ]
  },
  {
   "cell_type": "markdown",
   "metadata": {},
   "source": [
    "- B) Visually represent the document \"Graph and tree generation\" in 2D space along with words and documents as given in previous question."
   ]
  },
  {
   "cell_type": "code",
   "execution_count": 122,
   "metadata": {},
   "outputs": [
    {
     "name": "stdout",
     "output_type": "stream",
     "text": [
      "[0. 0.]\n",
      "[]\n"
     ]
    },
    {
     "name": "stderr",
     "output_type": "stream",
     "text": [
      "<ipython-input-53-c2bad76552b7>:57: RuntimeWarning: invalid value encountered in double_scalars\n",
      "  cos_sim = np.dot(q_hat, doc_vec) / (np.linalg.norm(q_hat) * np.linalg.norm(doc_vec))\n"
     ]
    }
   ],
   "source": [
    "q_hat, matches = query('Graph and tree generation', Uk, Sk, Vk_t, word_to_ix, documents, 0.9)\n",
    "print(q_hat)\n",
    "if matches is not None:\n",
    "    print(matches)\n",
    "else:\n",
    "    print(\"No matches found\")\n",
    "    print(\"This will not yield any meaningful results since the coordinates are 0,0 and therefore graphing this in the graph above would not be useful\")"
   ]
  },
  {
   "cell_type": "markdown",
   "metadata": {},
   "source": [
    "We could add a few more relevant keywords to the query document, in order to graph it using our corpus above:"
   ]
  },
  {
   "cell_type": "code",
   "execution_count": 125,
   "metadata": {},
   "outputs": [
    {
     "name": "stdout",
     "output_type": "stream",
     "text": [
      "[-0.3086385  -0.33652293]\n",
      "[('One of the most important applications of cybersecurity is in safeguarding sensitive data and personal information, such as financial data or healthcare records.', 0.9989138516575635), ('In the healthcare industry, cybersecurity is used to protect medical devices and prevent unauthorized access to patient data.', 0.9630835650829891)]\n"
     ]
    }
   ],
   "source": [
    "q_hat, matches = query('Graph and tree generation in cybersecurity', Uk, Sk, Vk_t, word_to_ix, documents, 0.9)\n",
    "print(q_hat)\n",
    "if matches is not None:\n",
    "    print(matches)\n",
    "else:\n",
    "    print(\"No matches found\")\n",
    "    print(\"This will not yield any results and therefore graphing this in the graph above would not be useful\")"
   ]
  },
  {
   "cell_type": "code",
   "execution_count": 133,
   "metadata": {},
   "outputs": [],
   "source": [
    "qx, qy = get_query_coords()"
   ]
  },
  {
   "cell_type": "code",
   "execution_count": 134,
   "metadata": {},
   "outputs": [
    {
     "data": {
      "image/png": "[encoded data removed]",
      "text/plain": [
       "<Figure size 1440x720 with 1 Axes>"
      ]
     },
     "metadata": {
      "needs_background": "light"
     },
     "output_type": "display_data"
    }
   ],
   "source": [
    "import matplotlib.pyplot as plt\n",
    "import seaborn as sns\n",
    "\n",
    "plt.figure(figsize=(20,10))\n",
    "plt.gca().invert_xaxis()\n",
    "plt.axhline(0)\n",
    "plt.axvline(0)\n",
    "plt.plot(qx, qy, 'o', color='red')\n",
    "plt.text(qx, qy, 'q', fontsize=12)\n",
    "\n",
    "# plt.plot([px1, px2], [py1, py2], 'k-', color='green')\n",
    "# plt.plot([nx1, nx2], [ny1, ny2], 'k-', color='orange')\n",
    "\n",
    "for i in range (0, len(Uk)):\n",
    "    x = Uk[i][0]\n",
    "    y = Uk[i][1]\n",
    "    label = [key for key, value in word_to_ix.items() if value == i]\n",
    "    plt.plot(x, y, 'o', color=\"blue\")\n",
    "    plt.text(x * 1.01, y*1.02, f'{label[0]} ({i})', fontsize=12)\n",
    "\n",
    "for i in range (0, len(Vk_t)):\n",
    "    x = Vk_t[i][0]\n",
    "    y = Vk_t[i][1]\n",
    "    plt.plot(x, y, 's', color='royalblue')\n",
    "    plt.text(x * 1.01, y*1.02, docName[i], fontsize=12)"
   ]
  },
  {
   "cell_type": "markdown",
   "metadata": {
    "id": "mM07ZgklplWG"
   },
   "source": [
    "# Q2. n-Gram Language Models (35 points)\n",
    "\n",
    "Your task is to train n-gram language models. [Ref SLP Chapter 3]\n",
    "\n",
    "- Task 1: You will train unigram, bigram, and trigram models on given training files. Then you will score on given test files for unigram, bigram, and trigram. you will generate sentences from the trained model and compute perplexity.\n",
    "- Task 2: You will create training data for n > 3. and Repeat the above task from training model.\n",
    "<h6>Part-A = (55 Points) </h6>"
   ]
  },
  {
   "cell_type": "code",
   "execution_count": 136,
   "metadata": {
    "id": "qpO0AKC8plWH"
   },
   "outputs": [],
   "source": [
    "'''\n",
    "Your imports go here\n",
    "You are encouraged to implement your own functions and not use from library.\n",
    "'''\n",
    "import sys\n",
    "from collections import Counter\n",
    "import numpy as np"
   ]
  },
  {
   "cell_type": "code",
   "execution_count": 137,
   "metadata": {
    "id": "iS3J6hisvReS"
   },
   "outputs": [],
   "source": [
    "# constants to define pseudo-word tokens\n",
    "# access via UNK, for instance\n",
    "# for this assignemnt we will follow <s> tag for beginning of sentence and\n",
    "# </s> for end of senetence as suggested in SLP Book. Check sample training files for reference.\n",
    "UNK = \"<UNK>\"\n",
    "SENT_BEGIN = \"<s>\"\n",
    "SENT_END = \"</s>\""
   ]
  },
  {
   "cell_type": "markdown",
   "metadata": {
    "id": "zp00BMTJ4f8J"
   },
   "source": [
    "We need to initialise global variables for model"
   ]
  },
  {
   "cell_type": "code",
   "execution_count": 138,
   "metadata": {
    "id": "W_VUIkeUplWI"
   },
   "outputs": [],
   "source": [
    "\n",
    "\"\"\"Initializes Parameters:\n",
    "  n_gram (int): the n-gram order.\n",
    "  is_laplace_smoothing (bool): whether or not to use Laplace smoothing\n",
    "  threshold: words with frequency  below threshold will be converted to token\n",
    "\"\"\"\n",
    "# Initializing different object attributes\n",
    "n_gram = None\n",
    "is_laplace_smoothing = True\n",
    "vocab = [] \n",
    "n_gram_counts = {}\n",
    "n_minus_1_gram_counts = None\n",
    "threshold = 1"
   ]
  },
  {
   "cell_type": "markdown",
   "metadata": {
    "id": "JRYDPhLAplWI"
   },
   "source": [
    "\n",
    "### Implement training function (10 points)"
   ]
  },
  {
   "cell_type": "code",
   "execution_count": 139,
   "metadata": {},
   "outputs": [],
   "source": [
    "def make_ngrams(tokens: list, n: int) -> list:\n",
    "    \"\"\"Creates n-grams for the given token sequence.\n",
    "    Args:\n",
    "    tokens (list): a list of tokens as strings\n",
    "    n (int): the length of n-grams to create\n",
    "\n",
    "    Returns:\n",
    "    list: list of tuples of strings, each tuple being one of the individual n-grams\n",
    "    \"\"\"\n",
    "    n_grams = []\n",
    "    for i in range(len(tokens)-n+1):\n",
    "        n_gram = tuple(tokens[i:i+n])\n",
    "        n_grams.append(n_gram)\n",
    "    return n_grams"
   ]
  },
  {
   "cell_type": "code",
   "execution_count": 140,
   "metadata": {},
   "outputs": [
    {
     "data": {
      "text/plain": [
       "[('My',),\n",
       " ('name',),\n",
       " ('is',),\n",
       " ('Saleh',),\n",
       " ('and',),\n",
       " ('I',),\n",
       " ('lead',),\n",
       " ('a',),\n",
       " ('data',),\n",
       " ('science',),\n",
       " ('team',)]"
      ]
     },
     "execution_count": 140,
     "metadata": {},
     "output_type": "execute_result"
    }
   ],
   "source": [
    "make_ngrams(\"My name is Saleh and I lead a data science team\".split(\" \"), 1)"
   ]
  },
  {
   "cell_type": "code",
   "execution_count": 141,
   "metadata": {},
   "outputs": [
    {
     "data": {
      "text/plain": [
       "[('My', 'name'),\n",
       " ('name', 'is'),\n",
       " ('is', 'Saleh'),\n",
       " ('Saleh', 'and'),\n",
       " ('and', 'I'),\n",
       " ('I', 'lead'),\n",
       " ('lead', 'a'),\n",
       " ('a', 'data'),\n",
       " ('data', 'science'),\n",
       " ('science', 'team')]"
      ]
     },
     "execution_count": 141,
     "metadata": {},
     "output_type": "execute_result"
    }
   ],
   "source": [
    "make_ngrams(\"My name is Saleh and I lead a data science team\".split(\" \"), 2)"
   ]
  },
  {
   "cell_type": "code",
   "execution_count": 142,
   "metadata": {},
   "outputs": [
    {
     "data": {
      "text/plain": [
       "[('My', 'name', 'is'),\n",
       " ('name', 'is', 'Saleh'),\n",
       " ('is', 'Saleh', 'and'),\n",
       " ('Saleh', 'and', 'I'),\n",
       " ('and', 'I', 'lead'),\n",
       " ('I', 'lead', 'a'),\n",
       " ('lead', 'a', 'data'),\n",
       " ('a', 'data', 'science'),\n",
       " ('data', 'science', 'team')]"
      ]
     },
     "execution_count": 142,
     "metadata": {},
     "output_type": "execute_result"
    }
   ],
   "source": [
    "make_ngrams(\"My name is Saleh and I lead a data science team\".split(\" \"), 3)"
   ]
  },
  {
   "cell_type": "code",
   "execution_count": 156,
   "metadata": {},
   "outputs": [],
   "source": [
    "from collections import Counter\n",
    "\n",
    "def train(training_file_path, n):\n",
    "    \"\"\"Trains the language model on the given data. Input file that\n",
    "    has tokens that are white-space separated, has one sentence per line, and\n",
    "    that the sentences begin with <s> and end with </s>\n",
    "    Parameters:\n",
    "      training_file_path (str): the location of the training data to read\n",
    "\n",
    "    Returns:\n",
    "    N Gram Counts, Vocab, N Minus 1 Gram Counts\n",
    "    \"\"\"\n",
    "    n_gram_counts = Counter()\n",
    "    vocab = set()\n",
    "    n_minus_1_gram_counts = Counter()\n",
    "\n",
    "    # Read in the training file and tokenize\n",
    "    with open(training_file_path, 'r') as f:\n",
    "        for line in f:\n",
    "            # Tokenize the line by splitting on whitespace\n",
    "            tokens = line.strip().split()\n",
    "            # Add <s> and </s> to the beginning and end of the sentence respectively\n",
    "#             tokens = ['<s>'] + tokens + ['</s>']\n",
    "            # Update the vocabulary\n",
    "            vocab.update(tokens)\n",
    "            # Create n-grams for the sentence\n",
    "            n_grams = make_ngrams(tokens, n)\n",
    "            # Update the counts\n",
    "            n_gram_counts.update(n_grams)\n",
    "            n_minus_1_grams = make_ngrams(tokens, n-1)\n",
    "            n_minus_1_gram_counts.update(n_minus_1_grams)\n",
    "    return n_gram_counts, vocab, n_minus_1_gram_counts"
   ]
  },
  {
   "cell_type": "markdown",
   "metadata": {},
   "source": [
    "#### Unigram Training :"
   ]
  },
  {
   "cell_type": "code",
   "execution_count": 145,
   "metadata": {},
   "outputs": [],
   "source": [
    "import itertools"
   ]
  },
  {
   "cell_type": "code",
   "execution_count": 207,
   "metadata": {},
   "outputs": [
    {
     "name": "stdout",
     "output_type": "stream",
     "text": [
      "Examples of n_gram_counts\n",
      "{('<s>',): 6756, (\"let's\",): 236, ('start',): 438, ('over',): 414, ('</s>',): 6756}\n",
      "Examples of n_gram_counts\n",
      "{\"giovanni's\", 'fondue', 'triple', 'wanna', 'portuguese'}\n",
      "Examples of n_minus_1_gram_counts\n",
      "{()}\n"
     ]
    }
   ],
   "source": [
    "n_gram_counts, vocab, n_minus_1_gram_counts = train(\"./train_data/berp-training_uni.txt\", 1)\n",
    "\n",
    "print(\"Examples of n_gram_counts\")\n",
    "print(dict(itertools.islice(n_gram_counts.items(), 5)))\n",
    "\n",
    "print(\"Examples of n_gram_counts\")\n",
    "print(set(itertools.islice(vocab, 5)))\n",
    "\n",
    "print(\"Examples of n_minus_1_gram_counts\")\n",
    "print(set(itertools.islice(n_minus_1_gram_counts, 5))) # Will be empty since its unigram"
   ]
  },
  {
   "cell_type": "markdown",
   "metadata": {},
   "source": [
    "#### Bigram Training:"
   ]
  },
  {
   "cell_type": "markdown",
   "metadata": {
    "id": "4ucWPcHIJly_"
   },
   "source": [
    "Output your Trained Data Parameters:"
   ]
  },
  {
   "cell_type": "code",
   "execution_count": 220,
   "metadata": {},
   "outputs": [
    {
     "name": "stdout",
     "output_type": "stream",
     "text": [
      "Examples of n_gram_counts\n",
      "{('<s>', \"let's\"): 196, (\"let's\", 'start'): 170, ('start', 'over'): 403, ('over', '</s>'): 367, ('<s>', 'my'): 6}\n",
      "Examples of n_gram_counts\n",
      "{\"giovanni's\", 'fondue', 'triple', 'wanna', 'portuguese'}\n",
      "Examples of n_minus_1_gram_counts\n",
      "{('start',), (\"let's\",), ('over',), ('</s>',), ('<s>',)}\n"
     ]
    }
   ],
   "source": [
    "n_gram_counts, vocab, n_minus_1_gram_counts = train(\"./train_data/berp-training_bi.txt\", 2)\n",
    "\n",
    "print(\"Examples of n_gram_counts\")\n",
    "print(dict(itertools.islice(n_gram_counts.items(), 5)))\n",
    "\n",
    "print(\"Examples of n_gram_counts\")\n",
    "print(set(itertools.islice(vocab, 5)))\n",
    "\n",
    "print(\"Examples of n_minus_1_gram_counts\")\n",
    "print(set(itertools.islice(n_minus_1_gram_counts, 5)))"
   ]
  },
  {
   "cell_type": "markdown",
   "metadata": {},
   "source": [
    "#### Trigram Training:"
   ]
  },
  {
   "cell_type": "code",
   "execution_count": 217,
   "metadata": {},
   "outputs": [
    {
     "name": "stdout",
     "output_type": "stream",
     "text": [
      "Examples of n_gram_counts\n",
      "{('<s>', '<s>', \"let's\"): 196, ('<s>', \"let's\", 'start'): 163, (\"let's\", 'start', 'over'): 136, ('start', 'over', '</s>'): 366, ('over', '</s>', '</s>'): 367}\n",
      "Examples of n_gram_counts\n",
      "{\"giovanni's\", 'fondue', 'triple', 'wanna', 'portuguese'}\n",
      "Examples of n_minus_1_gram_counts\n",
      "{('<s>', \"let's\"), ('over', '</s>'), (\"let's\", 'start'), ('<s>', '<s>'), ('start', 'over')}\n"
     ]
    }
   ],
   "source": [
    "n_gram_counts, vocab, n_minus_1_gram_counts = train(\"./train_data/berp-training-tri.txt\", 3)\n",
    "\n",
    "print(\"Examples of n_gram_counts\")\n",
    "print(dict(itertools.islice(n_gram_counts.items(), 5)))\n",
    "\n",
    "print(\"Examples of n_gram_counts\")\n",
    "print(set(itertools.islice(vocab, 5)))\n",
    "\n",
    "print(\"Examples of n_minus_1_gram_counts\")\n",
    "print(set(itertools.islice(n_minus_1_gram_counts, 5)))"
   ]
  },
  {
   "cell_type": "markdown",
   "metadata": {
    "id": "54hLufsd5lVZ"
   },
   "source": [
    "### Scoring function (points 5):\n",
    "Implement Score function that will take input sentence and output probability of given string representing a single sentence."
   ]
  },
  {
   "cell_type": "code",
   "execution_count": 158,
   "metadata": {},
   "outputs": [],
   "source": [
    "def score(sentence, vocab, n, n_gram_counts, n_minus_1_gram_counts, k=0.1, debug=True):\n",
    "    \"\"\"Calculates the probability score for a given string representing a single sentence.\n",
    "    Parameters:\n",
    "      sentence (str): a sentence with tokens separated by whitespace to calculate the score of\n",
    "      \n",
    "    Returns:\n",
    "      float: the probability value of the given string for this model\n",
    "    \"\"\"\n",
    "    tokens = sentence.split()\n",
    "    log_prob = 0\n",
    "    for i in range(n-1, len(tokens)):\n",
    "        n_gram = tuple(tokens[i-n+1:i+1])\n",
    "        n_gram_count = n_gram_counts[n_gram] + k\n",
    "        n_minus_1_gram = tuple(tokens[i-n+1:i])\n",
    "        n_minus_1_gram_count = n_minus_1_gram_counts[n_minus_1_gram] + k\n",
    "        if n_minus_1_gram_count == k:\n",
    "            # If the count of (n-1)-gram is k, it means we have not seen this context before\n",
    "            # In this case, we use the count of the unigram\n",
    "            unigram_count = sum(n_gram_counts[uni] for uni in n_gram_counts if uni[0] == n_gram[-1]) + k*len(vocab)\n",
    "            log_prob += math.log(n_gram_count + 1 / unigram_count + len(vocab))\n",
    "        else:\n",
    "            log_prob += math.log((n_gram_count +1) / (n_minus_1_gram_count + len(vocab)))\n",
    "    return math.exp(log_prob)\n"
   ]
  },
  {
   "cell_type": "code",
   "execution_count": 159,
   "metadata": {},
   "outputs": [],
   "source": [
    "import math"
   ]
  },
  {
   "cell_type": "code",
   "execution_count": 160,
   "metadata": {},
   "outputs": [
    {
     "data": {
      "text/plain": [
       "1.5048726304983363e-09"
      ]
     },
     "execution_count": 160,
     "metadata": {},
     "output_type": "execute_result"
    }
   ],
   "source": [
    "score(\"<s> a vegetarian meal </s>\", vocab, 2, n_gram_counts, n_minus_1_gram_counts, k=0.1, debug=False)"
   ]
  },
  {
   "cell_type": "code",
   "execution_count": 162,
   "metadata": {},
   "outputs": [
    {
     "data": {
      "text/plain": [
       "0.0005579225084999843"
      ]
     },
     "execution_count": 162,
     "metadata": {},
     "output_type": "execute_result"
    }
   ],
   "source": [
    "score(\"Saleh works at Amgen as a data scientist\", vocab, 2, n_gram_counts, n_minus_1_gram_counts, k=0.1, debug=False)"
   ]
  },
  {
   "cell_type": "code",
   "execution_count": 161,
   "metadata": {},
   "outputs": [
    {
     "data": {
      "text/plain": [
       "1.2024373757362843e-06"
      ]
     },
     "execution_count": 161,
     "metadata": {},
     "output_type": "execute_result"
    }
   ],
   "source": [
    "score(\"I am going to work\", vocab, 2, n_gram_counts, n_minus_1_gram_counts, k=0.1, debug=False)"
   ]
  },
  {
   "cell_type": "markdown",
   "metadata": {},
   "source": [
    "#### Unigram Scoring:"
   ]
  },
  {
   "cell_type": "code",
   "execution_count": 208,
   "metadata": {},
   "outputs": [
    {
     "name": "stdout",
     "output_type": "stream",
     "text": [
      "# of test sentences:  100\n"
     ]
    }
   ],
   "source": [
    "with open(\"test_data/hw2-test_uni.txt\", 'r') as fh:\n",
    "    test_content = fh.read().split(\"\\n\")\n",
    "num_sentences_1 = len(test_content)\n",
    "ten_sentences_1 = test_content[:10]\n",
    "print(\"# of test sentences: \", num_sentences_1)\n",
    "probablities = []"
   ]
  },
  {
   "cell_type": "code",
   "execution_count": 209,
   "metadata": {},
   "outputs": [
    {
     "name": "stdout",
     "output_type": "stream",
     "text": [
      "9.970361046407934e-07\n",
      "6.388290374629924e-06\n"
     ]
    }
   ],
   "source": [
    "# print probabilities/score of sentences in test content\n",
    "for sentence in test_content:\n",
    "    probablities.append(score(sentence, vocab, 1, n_gram_counts, n_minus_1_gram_counts, k=0.1, debug=False))\n",
    "probablities = np.array(probablities)\n",
    "mean = np.mean(probablities)\n",
    "std_dev = np.std(probablities)\n",
    "\n",
    "print(mean)\n",
    "print(std_dev)"
   ]
  },
  {
   "cell_type": "code",
   "execution_count": 210,
   "metadata": {},
   "outputs": [
    {
     "data": {
      "text/plain": [
       "array([1.92756193e-10, 1.17531654e-09, 1.71931755e-20, 6.85744227e-18,\n",
       "       2.49898987e-23, 2.07631737e-18, 1.06672468e-15, 5.82554535e-31,\n",
       "       1.58886722e-25, 3.51534421e-07, 5.68125863e-11, 6.08330367e-15,\n",
       "       2.72973073e-18, 4.06727784e-08, 1.23418250e-12, 5.82441550e-08,\n",
       "       1.91000369e-05, 6.54230358e-08, 5.51463293e-21, 1.04753240e-24,\n",
       "       8.86828045e-43, 8.55831996e-44, 9.00210999e-28, 2.44672134e-21,\n",
       "       9.01615173e-23, 1.34598068e-13, 6.18115302e-09, 1.98181931e-11,\n",
       "       2.39476247e-26, 1.80355184e-17, 1.21381855e-15, 3.51659596e-22,\n",
       "       6.36266453e-24, 6.79322278e-16, 4.79485101e-22, 2.90546467e-25,\n",
       "       6.82064764e-15, 2.09514997e-16, 1.95197559e-21, 5.16048698e-14,\n",
       "       7.74621987e-18, 1.15634442e-19, 3.21657439e-18, 3.83727604e-21,\n",
       "       8.81341652e-23, 1.85205664e-23, 3.20002984e-11, 8.27443593e-11,\n",
       "       5.96951757e-23, 9.22037723e-23, 2.93887666e-24, 7.57854165e-21,\n",
       "       5.72254404e-10, 1.72007823e-09, 1.72007823e-09, 4.88346204e-16,\n",
       "       4.62954536e-17, 2.52769988e-06, 3.87377486e-14, 2.85205684e-18,\n",
       "       4.70479482e-07, 5.88196828e-20, 3.70837594e-20, 4.05728844e-14,\n",
       "       5.16437833e-32, 9.14776067e-22, 5.52649144e-08, 8.72140159e-06,\n",
       "       6.04304409e-06, 6.86634027e-28, 1.70350238e-23, 1.77439942e-27,\n",
       "       8.93764357e-17, 8.81691503e-16, 5.00270824e-33, 1.20814597e-13,\n",
       "       3.48669481e-11, 3.50016088e-16, 1.34659129e-12, 1.18551777e-16,\n",
       "       4.01935102e-13, 5.86522455e-08, 1.35591848e-06, 1.99064078e-10,\n",
       "       1.54103595e-35, 4.88954994e-11, 2.67165364e-61, 1.18532754e-23,\n",
       "       6.07819754e-05, 9.46859556e-22, 5.81869844e-15, 1.54813513e-15,\n",
       "       6.12233957e-08, 7.99112114e-16, 1.26923869e-18, 5.52273783e-18,\n",
       "       2.13250372e-13, 3.21958091e-21, 6.06806336e-23, 2.94986918e-13])"
      ]
     },
     "execution_count": 210,
     "metadata": {},
     "output_type": "execute_result"
    }
   ],
   "source": [
    "probablities"
   ]
  },
  {
   "cell_type": "markdown",
   "metadata": {},
   "source": [
    "#### Bigram Scoring:"
   ]
  },
  {
   "cell_type": "code",
   "execution_count": 235,
   "metadata": {
    "id": "QaayxCgOzUUb"
   },
   "outputs": [
    {
     "name": "stdout",
     "output_type": "stream",
     "text": [
      "# of test sentences:  100\n"
     ]
    }
   ],
   "source": [
    "with open(\"test_data/hw2-test_bi.txt\", 'r') as fh:\n",
    "    test_content = fh.read().split(\"\\n\")\n",
    "num_sentences_1 = len(test_content)\n",
    "ten_sentences_1 = test_content[:10]\n",
    "print(\"# of test sentences: \", num_sentences_1)\n",
    "probablities = []"
   ]
  },
  {
   "cell_type": "code",
   "execution_count": 236,
   "metadata": {
    "id": "ei2Zrd61zeKq"
   },
   "outputs": [
    {
     "name": "stdout",
     "output_type": "stream",
     "text": [
      "2.49021841924635e-05\n",
      "0.0001559681357600102\n"
     ]
    }
   ],
   "source": [
    "# print probabilities/score of sentences in test content\n",
    "for sentence in test_content:\n",
    "    probablities.append(score(sentence, vocab, 2, n_gram_counts, n_minus_1_gram_counts, k=0.1, debug=False))\n",
    "probablities = np.array(probablities)\n",
    "mean = np.mean(probablities)\n",
    "std_dev = np.std(probablities)\n",
    "\n",
    "\n",
    "print(mean)\n",
    "print(std_dev)"
   ]
  },
  {
   "cell_type": "code",
   "execution_count": 237,
   "metadata": {},
   "outputs": [
    {
     "data": {
      "text/plain": [
       "array([1.50487263e-09, 3.93725789e-08, 5.33532327e-17, 1.25711631e-14,\n",
       "       6.40215880e-20, 1.35214587e-13, 7.22556292e-13, 1.73514405e-20,\n",
       "       2.28297148e-17, 1.05884818e-07, 1.29361926e-09, 3.30461782e-11,\n",
       "       1.09327845e-14, 1.00880188e-05, 5.99453573e-12, 5.21004683e-06,\n",
       "       1.82246246e-05, 2.89645958e-06, 1.95809477e-13, 1.12147721e-21,\n",
       "       3.25026870e-35, 4.36172012e-24, 4.05058028e-20, 5.27987858e-19,\n",
       "       4.40606311e-17, 2.00582274e-10, 3.57607780e-06, 6.09945013e-10,\n",
       "       1.06133799e-21, 1.29819804e-12, 1.09575220e-09, 4.49262884e-16,\n",
       "       2.01917131e-14, 1.32947220e-11, 4.83304850e-18, 2.12504516e-16,\n",
       "       2.51899329e-08, 1.22468499e-08, 1.74452035e-14, 1.43473659e-10,\n",
       "       8.48823863e-14, 1.11506001e-12, 4.99859244e-12, 1.52418880e-17,\n",
       "       1.65100569e-16, 1.73926721e-16, 4.38072565e-11, 2.23150686e-10,\n",
       "       6.64978942e-18, 3.97439387e-20, 2.96464567e-23, 5.51174569e-15,\n",
       "       3.30486212e-06, 1.12737541e-04, 1.12737541e-04, 4.25966297e-13,\n",
       "       1.02948407e-12, 2.02106187e-06, 1.12393032e-08, 1.21114639e-14,\n",
       "       1.30227038e-03, 3.66845928e-15, 1.88350107e-16, 2.75036443e-12,\n",
       "       5.67281617e-23, 8.80470422e-17, 1.01947293e-06, 2.56866806e-05,\n",
       "       8.09153897e-06, 8.65369803e-20, 6.20474242e-19, 1.03000026e-20,\n",
       "       6.64597706e-11, 9.98974793e-08, 1.79055701e-22, 1.38405319e-12,\n",
       "       4.57216943e-09, 8.92901348e-13, 5.51993134e-11, 1.53068671e-17,\n",
       "       3.00195180e-10, 7.24132931e-08, 5.84675661e-07, 7.30908240e-11,\n",
       "       1.99453665e-21, 3.54925333e-11, 1.88736363e-52, 2.34181176e-20,\n",
       "       8.78668916e-04, 8.25020318e-18, 4.53451109e-08, 8.37781969e-12,\n",
       "       2.67847768e-06, 1.71217999e-14, 1.49443830e-13, 2.09224711e-13,\n",
       "       1.13009111e-10, 3.88192487e-15, 1.26560591e-16, 4.66904442e-11])"
      ]
     },
     "execution_count": 237,
     "metadata": {},
     "output_type": "execute_result"
    }
   ],
   "source": [
    "probablities"
   ]
  },
  {
   "cell_type": "markdown",
   "metadata": {},
   "source": [
    "#### Trigram Scoring"
   ]
  },
  {
   "cell_type": "code",
   "execution_count": 176,
   "metadata": {},
   "outputs": [
    {
     "name": "stdout",
     "output_type": "stream",
     "text": [
      "# of test sentences:  102\n"
     ]
    }
   ],
   "source": [
    "with open(\"test_data/hw2-test-tri.txt\", 'r') as fh:\n",
    "    test_content = fh.read().split(\"\\n\")\n",
    "num_sentences_1 = len(test_content)\n",
    "ten_sentences_1 = test_content[:10]\n",
    "print(\"# of test sentences: \", num_sentences_1)\n",
    "probablities = []"
   ]
  },
  {
   "cell_type": "code",
   "execution_count": 177,
   "metadata": {},
   "outputs": [
    {
     "name": "stdout",
     "output_type": "stream",
     "text": [
      "66.09319253493008\n",
      "618.0515625366791\n"
     ]
    }
   ],
   "source": [
    "# print probabilities/score of sentences in test content\n",
    "for sentence in test_content:\n",
    "    probablities.append(score(sentence, vocab, 3, n_gram_counts, n_minus_1_gram_counts, k=0.1, debug=False))\n",
    "probablities = np.array(probablities)\n",
    "mean = np.mean(probablities)\n",
    "std_dev = np.std(probablities)\n",
    "\n",
    "\n",
    "print(mean)\n",
    "print(std_dev)"
   ]
  },
  {
   "cell_type": "code",
   "execution_count": 178,
   "metadata": {},
   "outputs": [
    {
     "data": {
      "text/plain": [
       "array([8.65415895e-13, 4.35116532e-11, 1.16948477e-15, 4.66094509e-18,\n",
       "       1.66162627e-25, 9.52261497e-17, 4.22341862e-17, 3.15672817e-06,\n",
       "       3.83276905e-16, 2.64382488e+02, 1.81249460e-06, 2.88261459e-08,\n",
       "       1.79006756e-17, 9.42607089e-08, 2.77292625e-16, 2.92079130e-08,\n",
       "       5.57976122e-08, 7.90611241e-09, 1.84113726e-17, 6.83699156e-07,\n",
       "       7.78718314e-13, 5.80627873e-12, 7.64020361e-20, 1.59125701e-05,\n",
       "       5.61251085e-15, 2.83548048e-14, 1.74335155e-08, 2.42533838e-13,\n",
       "       8.84514196e-21, 2.52476513e-17, 7.50697436e-13, 1.82895727e-22,\n",
       "       5.41221432e-18, 1.00480798e-15, 1.64590392e-23, 1.37570389e-21,\n",
       "       7.98962782e-11, 4.22685836e-11, 1.54129195e-11, 6.65154018e-14,\n",
       "       7.41673477e-18, 2.88152224e-16, 2.44306559e-15, 7.76679428e-16,\n",
       "       3.84720127e-14, 1.95866785e-13, 6.12026944e-08, 2.45396653e-14,\n",
       "       4.04967981e-16, 1.97651262e-25, 7.90391834e-15, 2.39418491e-19,\n",
       "       7.86869876e-08, 9.20093513e-06, 9.20093513e-06, 1.46979354e-17,\n",
       "       5.47339710e-17, 3.03780562e-09, 2.24311101e-10, 3.60759134e-20,\n",
       "       1.80065413e-04, 1.32337104e-18, 2.98059360e-10, 5.05571399e-15,\n",
       "       1.69218884e-29, 3.40836423e-21, 8.66137497e-10, 1.49929092e-07,\n",
       "       1.22211994e-08, 6.22902958e-26, 1.20449015e-12, 7.45024499e-26,\n",
       "       5.46942999e-14, 2.05365455e+02, 3.98217580e-03, 6.26867139e+03,\n",
       "       1.59043187e-11, 3.16931209e-17, 1.45343492e-08, 6.26003810e-10,\n",
       "       9.23602456e-14, 3.47353901e-11, 8.19773765e-04, 2.32678078e-01,\n",
       "       3.90456627e-01, 2.97471820e-14, 2.46370573e-17, 4.79722389e-25,\n",
       "       2.75824159e-05, 1.57268222e-23, 6.82828166e-06, 2.06401313e-02,\n",
       "       6.60372092e-09, 9.00265815e-13, 8.31457447e-18, 8.86158019e-12,\n",
       "       4.37471549e-01, 7.58304480e-18, 1.19648507e-22, 1.14367283e-15,\n",
       "       1.00000000e+00, 1.00000000e+00])"
      ]
     },
     "execution_count": 178,
     "metadata": {},
     "output_type": "execute_result"
    }
   ],
   "source": [
    "probablities"
   ]
  },
  {
   "cell_type": "markdown",
   "metadata": {
    "id": "awEQeJtIzTrC"
   },
   "source": [
    "### Sentence generation (10 points)\n",
    "Generate sentence from the above trained model\n",
    "- To generate next word from a set of probable n-grams and their probabilities check below tutorial:\n",
    "https://numpy.org/doc/stable/reference/random/generated/numpy.random.choice.html"
   ]
  },
  {
   "cell_type": "code",
   "execution_count": 200,
   "metadata": {},
   "outputs": [],
   "source": [
    "def generate_sentence(n):\n",
    "    \"\"\"Generates a single sentence from a trained language model using the Shannon technique.\n",
    "      \n",
    "    Returns:\n",
    "      str: the generated sentence\n",
    "    \"\"\"\n",
    "    # Start with <s> and randomly generate words until we encounter sentence end\n",
    "    # Append sentence begin markers for n>2\n",
    "    # Keep track of previous word for stop condition\n",
    "    \n",
    "    sentence = \"\"\n",
    "    prev_word = \"<s>\"\n",
    "    sentence += \"<s> \" * max(n - 1, 1)\n",
    "    \n",
    "    if n > 1:\n",
    "        while prev_word != \"</s>\":\n",
    "            \n",
    "            # Construct the (n-1) gram so far\n",
    "            \n",
    "            gram = sentence.split()[-(n - 1):]\n",
    "#             print(sentence)\n",
    "#             print(gram)\n",
    "            \n",
    "            # Get the counts of all available choices based on n-1 gram\n",
    "            avail_choice = {}\n",
    "            for key in n_gram_counts:\n",
    "#                 print(key[:-1])\n",
    "                if key[:-1] == tuple(gram):\n",
    "#                     print(key)\n",
    "                    \n",
    "                    avail_choice[key[-1]] = n_gram_counts[key]\n",
    "#             print(avail_choice)\n",
    "            \n",
    "            # Convert the counts into probability for random.choice() function\n",
    "            values = np.array(list(avail_choice.values())) / np.sum(np.array(list(avail_choice.values())))\n",
    "#             print(values)\n",
    "#             print(avail_choice.keys())\n",
    "            probs = np.random.choice(list(avail_choice.keys()), p=values)\n",
    "            \n",
    "            \n",
    "        \n",
    "            # If <s> is generated, ignore and generate another word\n",
    "            if probs == \"<s>\":\n",
    "                continue\n",
    "            \n",
    "            sentence += (\" \" + probs)\n",
    "            \n",
    "            prev_word = probs\n",
    "#             print(\"gram\", gram)\n",
    "#             print(\"############################################\")\n",
    "    else:\n",
    "      # In case of unigram model, n-1 gram is just the previous word and possible choice is whole vocabulary\n",
    "        while prev_word != \"</s>\":\n",
    "#             continue\n",
    "            avail_choice = n_gram_counts\n",
    "            values = np.array(list(avail_choice.values())) / np.sum(np.array(list(avail_choice.values())))\n",
    "            \n",
    "            probs = np.random.choice(list(avail_choice.keys()), p=values)\n",
    "            \n",
    "            if probs == \"<s>\":\n",
    "                continue\n",
    "                \n",
    "            sentence += (\" \" + probs)\n",
    "            \n",
    "            prev_word = probs\n",
    "            \n",
    "        # Convert the counts into probability for random.choice() function\n",
    "        # If <s> is generated, ignore and generate another word\n",
    "\n",
    "    # Append sentence end markers for n>2\n",
    "    \n",
    "    sentence += \"</s> \" * max(n - 2, 0)\n",
    "    \n",
    "    return sentence"
   ]
  },
  {
   "cell_type": "code",
   "execution_count": 201,
   "metadata": {
    "tags": []
   },
   "outputs": [],
   "source": [
    "x = generate_sentence(2) "
   ]
  },
  {
   "cell_type": "code",
   "execution_count": 202,
   "metadata": {},
   "outputs": [
    {
     "data": {
      "text/plain": [
       "\"<s>  i'd like to go there a french food </s>\""
      ]
     },
     "execution_count": 202,
     "metadata": {},
     "output_type": "execute_result"
    }
   ],
   "source": [
    "x"
   ]
  },
  {
   "cell_type": "code",
   "execution_count": 203,
   "metadata": {},
   "outputs": [],
   "source": [
    "def generate(n, m):\n",
    "    \"\"\"Generates n sentences from a trained language model using the Shannon technique.\n",
    "    Parameters:\n",
    "      n (int): the number of sentences to generate\n",
    "      m (int): gram of generator\n",
    "      \n",
    "    Returns:\n",
    "      list: a list containing strings, one per generated sentence\n",
    "    \"\"\"\n",
    "    # Generate sentences one by one and store\n",
    "    sentences = []\n",
    "    \n",
    "    for i in range(n):\n",
    "#         temp_sent = generate_sentence(m)\n",
    "        sentences.append(generate_sentence(m))\n",
    "        \n",
    "    return sentences"
   ]
  },
  {
   "cell_type": "code",
   "execution_count": 204,
   "metadata": {},
   "outputs": [],
   "source": [
    "sentence = \"\"\n",
    "sentence += \"<s> \" * max(2 - 1, 1)"
   ]
  },
  {
   "cell_type": "code",
   "execution_count": 205,
   "metadata": {},
   "outputs": [
    {
     "data": {
      "text/plain": [
       "['<s>']"
      ]
     },
     "execution_count": 205,
     "metadata": {},
     "output_type": "execute_result"
    }
   ],
   "source": [
    "sentence.split()"
   ]
  },
  {
   "cell_type": "markdown",
   "metadata": {},
   "source": [
    "#### Unigram Sentence Generation:"
   ]
  },
  {
   "cell_type": "code",
   "execution_count": 215,
   "metadata": {},
   "outputs": [
    {
     "name": "stdout",
     "output_type": "stream",
     "text": [
      "Sentences:\n",
      "<s>  not plearn's </s>\n",
      "<s>  one hour </s>\n",
      "<s>  i see the list </s>\n",
      "<s>  it </s>\n",
      "<s>  okay shows me about taqueria de la-paz </s>\n",
      "<s>  i do you show me a soup kitchen heike </s>\n",
      "<s>  i could you have lunch and i'm looking for </s>\n",
      "<s>  the information about the price range may i would like to go for finding a cheap and the list ethiopian restaurants please </s>\n",
      "<s>  okay three dollars </s>\n",
      "<s>  not cost </s>\n",
      "<s>  i'd like to have to have within a half an american food </s>\n",
      "<s>  what about the list of time </s>\n",
      "<s>  less than fifteen minutes' walk three minutes from icsi </s>\n",
      "<s>  german restaurant is best chinese food </s>\n",
      "<s>  what it's possible </s>\n",
      "<s>  close to travel further than twenty dollars </s>\n",
      "<s>  i would like to have lunch </s>\n",
      "<s>  looking for a pretty close to go for fat apple's </s>\n",
      "<s>  i want to bike </s>\n",
      "<s>  it i'd like to travel any kind of food and i'd like it doesn't matter </s>\n",
      "<s>  this </s>\n",
      "<s>  tell me about cafe located ten minutes </s>\n",
      "<s>  it metropole </s>\n",
      "<s>  she went there a tuesday </s>\n",
      "<s>  i would like to go to have to spend one you give me about kip's like to that serves </s>\n",
      "<s>  well what is the weekend </s>\n",
      "<s>  hunan </s>\n",
      "<s>  do you start over </s>\n",
      "<s>  is about kip's </s>\n",
      "<s>  uh a restaurant called uh between the spanish food </s>\n",
      "<s>  i don't know the meal </s>\n",
      "<s>  i would like to a mile </s>\n",
      "<s>  five blocks of restaurants serving american food </s>\n",
      "<s>  what kinds of course the cheapest cheapest cheapest japanese food </s>\n",
      "<s>  show me something uh actually i'm looking for la tour eiffel </s>\n",
      "<s>  what kind of food this one billion steps </s>\n",
      "<s>  start again </s>\n",
      "<s>  i'm looking for pizza for dinner on saturday night </s>\n",
      "<s>  i will be close to eat today </s>\n",
      "<s>  i'd like to a list again </s>\n",
      "<s>  um within twenty five dollars or seven bucks </s>\n",
      "<s>  i would like to have cambodian restaurants </s>\n",
      "<s>  do you know the restaurant </s>\n",
      "<s>  let's start over </s>\n",
      "<s>  do they also about taiwan restaurant in berkeley thai cuisine </s>\n",
      "<s>  any vegetarian </s>\n",
      "<s>  are there is okay let's say i've got very much money uh ten to have a lunch there any amount of mexican food on telegraph avenue </s>\n",
      "<s>  mediterranean food </s>\n",
      "<s>  what's the other italian food </s>\n",
      "<s>  i want a good </s>\n"
     ]
    }
   ],
   "source": [
    "sentences = generate(50, 1)\n",
    "print(\"Sentences:\")\n",
    "for sentence in sentences:\n",
    "    print(sentence)"
   ]
  },
  {
   "cell_type": "code",
   "execution_count": null,
   "metadata": {},
   "outputs": [],
   "source": []
  },
  {
   "cell_type": "markdown",
   "metadata": {},
   "source": [
    "#### Bigram Sentence Generation:"
   ]
  },
  {
   "cell_type": "code",
   "execution_count": 259,
   "metadata": {
    "id": "2UMoLPcvBKpn"
   },
   "outputs": [
    {
     "name": "stdout",
     "output_type": "stream",
     "text": [
      "Sentences:\n",
      "<s>  okay show italian </s>\n",
      "<s>  is wednesday </s>\n",
      "<s>  uh breakfast today </s>\n",
      "<s>  the great china </s>\n",
      "<s>  tell me back to go to have lunch during the cost doesn't matter </s>\n",
      "<s>  tell me information about guerrero's </s>\n",
      "<s>  i would like food </s>\n",
      "<s>  indian food doesn't matter </s>\n",
      "<s>  do you have indian food at somewhere a nice </s>\n",
      "<s>  what's caffe giovanni </s>\n",
      "<s>  not really matter </s>\n",
      "<s>  i want to go there any of dishes </s>\n",
      "<s>  tell me more than ten dollars there is same case are available </s>\n",
      "<s>  which are they serve </s>\n",
      "<s>  what is the list of distance from icsi </s>\n",
      "<s>  cafe </s>\n",
      "<s>  not chinese restaurant </s>\n",
      "<s>  does chez-panisse </s>\n",
      "<s>  uh icsi </s>\n",
      "<s>  not matter </s>\n",
      "<s>  to spend less expensive restaurant </s>\n",
      "<s>  i don't wanna have chinese food please </s>\n",
      "<s>  sunday </s>\n",
      "<s>  tell me a german restaurants serving bad </s>\n",
      "<s>  tell me about sun-hong-kong serve there any day of a restaurant in the list the price of the united states </s>\n",
      "<s>  i would like some chinese is the first one mile </s>\n",
      "<s>  okay let's start over </s>\n",
      "<s>  the list vegi house </s>\n",
      "<s>  a cheap would like to twenty dollars </s>\n",
      "<s>  six blocks away say ten dollars </s>\n",
      "<s>  uh vegetarian restaurants on the meal ticket </s>\n",
      "<s>  where can i would like to see the stuffed inn </s>\n",
      "<s>  i only about bette's bakeshop </s>\n",
      "<s>  uh can i want to have to spend not french or the indian food </s>\n",
      "<s>  not much money is open during the bart station </s>\n",
      "<s>  tell me la tour eiffel </s>\n",
      "<s>  i like to sizzler </s>\n",
      "<s>  does viva taqueria cancun </s>\n",
      "<s>  i find a hamburger </s>\n",
      "<s>  i'd like to drive so maybe if we should be whether or less than five blocks away </s>\n",
      "<s>  i would like to go there a restaurant </s>\n",
      "<s>  how about mexican food </s>\n",
      "<s>  where i don't care how about five kilometers </s>\n",
      "<s>  cafe vin </s>\n",
      "<s>  it should cost more about mexican restaurant </s>\n",
      "<s>  can i want to eat a full bar and then </s>\n",
      "<s>  does cafe </s>\n",
      "<s>  i want a saturday please start over </s>\n",
      "<s>  it is unimportant </s>\n",
      "<s>  can i want pancakes </s>\n"
     ]
    }
   ],
   "source": [
    "sentences = generate(50, 2)\n",
    "print(\"Sentences:\")\n",
    "for sentence in sentences:\n",
    "    print(sentence)"
   ]
  },
  {
   "cell_type": "markdown",
   "metadata": {},
   "source": [
    "#### Trigram Sentence Generation:"
   ]
  },
  {
   "cell_type": "code",
   "execution_count": 221,
   "metadata": {},
   "outputs": [
    {
     "name": "stdout",
     "output_type": "stream",
     "text": [
      "Sentences:\n",
      "<s>  how about the available in california food </s>\n",
      "<s>  no more information on the area </s>\n",
      "<s>  let's start over </s>\n",
      "<s>  uh start over </s>\n",
      "<s>  and chips zachary's pizza </s>\n",
      "<s>  could be on the type of restaurants now </s>\n",
      "<s>  i prefer is okay as close </s>\n",
      "<s>  i don't know of any area </s>\n",
      "<s>  indonesian restaurants in berkeley </s>\n",
      "<s>  i would like to have lunch </s>\n",
      "<s>  the price </s>\n",
      "<s>  not much for sushi </s>\n",
      "<s>  i am interested in berkeley </s>\n",
      "<s>  i would be not much you've been really don't want to icsi </s>\n",
      "<s>  uh i'd like to go to have dinner </s>\n",
      "<s>  to spend ten dollars </s>\n",
      "<s>  tell me the distance to go to go for dinner not very fast food to spend more information on north african food is the first restaurant </s>\n",
      "<s>  actually it walking distance doesn't matter </s>\n",
      "<s>  tell me more than fifty dollars </s>\n",
      "<s>  i have about the indian restaurants serving a restaurant </s>\n",
      "<s>  i want to eat tuesday </s>\n",
      "<s>  what i have inexpensive </s>\n",
      "<s>  i'd like not matter </s>\n",
      "<s>  i would like </s>\n",
      "<s>  start over </s>\n",
      "<s>  i like to eat indian cuisine or dinner </s>\n",
      "<s>  when is there is jupiter </s>\n",
      "<s>  i'd like to the area </s>\n",
      "<s>  this cafe christopher's cafe claremont seafood coffee </s>\n",
      "<s>  dinner on saturday </s>\n",
      "<s>  i would like to pay ten miles of water water </s>\n",
      "<s>  what's the great wall restaurant </s>\n",
      "<s>  i have a reservation at maximum </s>\n",
      "<s>  great china restaurant could be lunch </s>\n",
      "<s>  i can you have a cake </s>\n",
      "<s>  and i'm looking for a distance to eat today and fifteen miles </s>\n",
      "<s>  are you have breakfast today </s>\n",
      "<s>  can pay thirteen and very little bit more information about caffe giovanni's for lunch near icksee </s>\n",
      "<s>  can you have skates soup kitchen heike </s>\n",
      "<s>  i want to thirty dollars </s>\n",
      "<s>  oh i i'm looking for lunch </s>\n",
      "<s>  i don't want mexican food </s>\n",
      "<s>  polish food </s>\n",
      "<s>  oliveto's </s>\n",
      "<s>  monday </s>\n",
      "<s>  eight a__m </s>\n",
      "<s>  change it has a lot of these restaurants that cost up to um serving ethiopian food </s>\n",
      "<s>  i am willing to the distance doesn't matter but i would like that </s>\n",
      "<s>  let's start over </s>\n",
      "<s>  indian food </s>\n"
     ]
    }
   ],
   "source": [
    "sentences = generate(50, 3)\n",
    "print(\"Sentences:\")\n",
    "for sentence in sentences:\n",
    "    print(sentence)"
   ]
  },
  {
   "cell_type": "code",
   "execution_count": null,
   "metadata": {},
   "outputs": [],
   "source": []
  },
  {
   "cell_type": "markdown",
   "metadata": {
    "id": "I-ok3UZEKmFi"
   },
   "source": [
    "### Evaluate model perplexity (5 points)\n",
    "Measures the perplexity for the test sequence with your trained model. \n",
    "you may assume that this sequence may consist of many sentences \"glued together\"\n",
    "\n",
    "The perplexity of the given sequence is the inverse probability of the test set, normalized by the number of words.\n"
   ]
  },
  {
   "cell_type": "code",
   "execution_count": 232,
   "metadata": {
    "id": "G8mjYygFv7Gq"
   },
   "outputs": [],
   "source": [
    "# Since this sequence will cross many sentence boundaries, we need to include \n",
    "# the begin- and end-sentence markers <s> and </s> in the probability computation. \n",
    "# We also need to include the end-of-sentence marker </s> \n",
    "# but not the beginning-of-sentence marker <s>) in the total count of word tokens N\n",
    "\n",
    "def perplexity(test_sequence, vocab, n, n_gram_counts, n_minus_1_gram_counts, k=0.1, debug=True):\n",
    "    \"\"\".\n",
    "    Parameters:\n",
    "      test_sequence (string): a sequence of space-separated tokens to measure the perplexity of\n",
    "\n",
    "    Returns:\n",
    "      float: the perplexity of the given sequence\n",
    "    \"\"\" \n",
    "\n",
    "    # Replace out of vocab words with <UNK>, already done in score function\n",
    "    # test_sequence = [token if token in vocab else UNK for token in test_sequence.split()]\n",
    "    # Remove sentence begin markers from data for computing N\n",
    "    sentences = test_sequence.strip().split('</s> <s>')\n",
    "    N = sum(len(sentence.split()) - 1 for sentence in sentences)\n",
    "    \n",
    "    # Get the probability for the sequence\n",
    "    log_prob_sum = 0\n",
    "    for sentence in sentences:\n",
    "        sentence = '<s> ' + sentence.strip() + ' </s>'\n",
    "        log_prob_sum += math.log(score(sentence, vocab, n, n_gram_counts, n_minus_1_gram_counts, k, debug))\n",
    "\n",
    "    \n",
    "    perplexity = 2 ** (-1 / N * log_prob_sum)\n",
    "    \n",
    "    return perplexity"
   ]
  },
  {
   "cell_type": "markdown",
   "metadata": {},
   "source": [
    "##### Unigram:"
   ]
  },
  {
   "cell_type": "code",
   "execution_count": 241,
   "metadata": {},
   "outputs": [
    {
     "name": "stdout",
     "output_type": "stream",
     "text": [
      "135.71256259824693\n"
     ]
    }
   ],
   "source": [
    "print(perplexity(\" \".join(sentences[0:10]), vocab, 1, n_gram_counts, n_minus_1_gram_counts, k=0.1, debug=True))"
   ]
  },
  {
   "cell_type": "markdown",
   "metadata": {},
   "source": [
    "##### Bigram:"
   ]
  },
  {
   "cell_type": "code",
   "execution_count": 260,
   "metadata": {},
   "outputs": [
    {
     "name": "stdout",
     "output_type": "stream",
     "text": [
      "87.96717929361927\n"
     ]
    }
   ],
   "source": [
    "print(perplexity(\" \".join(sentences[0:10]), vocab, 2, n_gram_counts, n_minus_1_gram_counts, k=0.1, debug=True))"
   ]
  },
  {
   "cell_type": "markdown",
   "metadata": {},
   "source": [
    "##### Trigram:"
   ]
  },
  {
   "cell_type": "code",
   "execution_count": 253,
   "metadata": {},
   "outputs": [
    {
     "name": "stdout",
     "output_type": "stream",
     "text": [
      "76.76909551297624\n"
     ]
    }
   ],
   "source": [
    "print(perplexity(\" \".join(sentences[0:10]), vocab, 3, n_gram_counts, n_minus_1_gram_counts, k=0.1, debug=True))"
   ]
  },
  {
   "cell_type": "code",
   "execution_count": 240,
   "metadata": {
    "colab": {
     "base_uri": "https://localhost:8080/"
    },
    "id": "tsldHtvIBlTV",
    "outputId": "981b0b5c-ff77-4777-c98b-12ffe0f9d529"
   },
   "outputs": [],
   "source": [
    "#print(perplexity(\" \".join(sentences[0:10])))"
   ]
  },
  {
   "cell_type": "markdown",
   "metadata": {},
   "source": [
    "78.4934782125397"
   ]
  },
  {
   "cell_type": "markdown",
   "metadata": {
    "id": "UfbHtUCW66Qk"
   },
   "source": [
    "### **Explore and explain: (5 points)**\n",
    "* Experiment n_gram model for n = [1,2,3..7] of your choice. Explain the best choice of n that generates more meaninful sentences.\n",
    "\n",
    "    - I tested code on models with n = 1, 2, 3, 4, 5, 6, 7\n",
    "    - Best performance, based on the most meaningful sentences was n=2 or n=3\n",
    "    - Based on observed perplexity alone, unigram seems to have the highest whereas trigram is lowest\n",
    "    - This observation in perplexity seems reasonable given that the corpus is limited and the average sentence is about 10 or so words\n",
    "    - Larger n-gram models appear to have memorized the sentences more than others\n",
    "    - Smaller n-gram models did not have enough history to 'remember'\n",
    "    - In summary, n=2 or n=3 was sufficient for this corpus\n"
   ]
  },
  {
   "cell_type": "code",
   "execution_count": 261,
   "metadata": {},
   "outputs": [
    {
     "name": "stdout",
     "output_type": "stream",
     "text": [
      "Examples of n_gram_counts\n",
      "{('<s>', \"let's\"): 196, (\"let's\", 'start'): 170, ('start', 'over'): 403, ('over', '</s>'): 367, ('<s>', 'my'): 6}\n",
      "Examples of n_gram_counts\n",
      "{\"giovanni's\", 'fondue', 'triple', 'wanna', 'portuguese'}\n",
      "Examples of n_minus_1_gram_counts\n",
      "{('start',), (\"let's\",), ('over',), ('</s>',), ('<s>',)}\n"
     ]
    }
   ],
   "source": [
    "n_gram_counts, vocab, n_minus_1_gram_counts = train(\"./train_data/berp-training_bi.txt\", 2)\n",
    "\n",
    "print(\"Examples of n_gram_counts\")\n",
    "print(dict(itertools.islice(n_gram_counts.items(), 5)))\n",
    "\n",
    "print(\"Examples of n_gram_counts\")\n",
    "print(set(itertools.islice(vocab, 5)))\n",
    "\n",
    "print(\"Examples of n_minus_1_gram_counts\")\n",
    "print(set(itertools.islice(n_minus_1_gram_counts, 5)))"
   ]
  },
  {
   "cell_type": "code",
   "execution_count": 262,
   "metadata": {},
   "outputs": [
    {
     "name": "stdout",
     "output_type": "stream",
     "text": [
      "# of test sentences:  100\n"
     ]
    }
   ],
   "source": [
    "with open(\"test_data/hw2-test_bi.txt\", 'r') as fh:\n",
    "    test_content = fh.read().split(\"\\n\")\n",
    "num_sentences_1 = len(test_content)\n",
    "ten_sentences_1 = test_content[:10]\n",
    "print(\"# of test sentences: \", num_sentences_1)\n",
    "probablities = []"
   ]
  },
  {
   "cell_type": "code",
   "execution_count": 263,
   "metadata": {},
   "outputs": [
    {
     "name": "stdout",
     "output_type": "stream",
     "text": [
      "2.49021841924635e-05\n",
      "0.0001559681357600102\n"
     ]
    }
   ],
   "source": [
    "# print probabilities/score of sentences in test content\n",
    "for sentence in test_content:\n",
    "    probablities.append(score(sentence, vocab, 2, n_gram_counts, n_minus_1_gram_counts, k=0.1, debug=False))\n",
    "probablities = np.array(probablities)\n",
    "mean = np.mean(probablities)\n",
    "std_dev = np.std(probablities)\n",
    "\n",
    "\n",
    "print(mean)\n",
    "print(std_dev)"
   ]
  },
  {
   "cell_type": "code",
   "execution_count": 269,
   "metadata": {},
   "outputs": [
    {
     "name": "stdout",
     "output_type": "stream",
     "text": [
      "Sentences:\n",
      "<s>  start again </s>\n",
      "<s>  i'm willing to eat a cuban food </s>\n",
      "<s>  i would like a sunday </s>\n",
      "<s>  i wanna know about um french food does not to go for lunch </s>\n",
      "<s>  i don't eat american breakfast in dinner on oriental </s>\n"
     ]
    }
   ],
   "source": [
    "sentences = generate(5, 2)\n",
    "print(\"Sentences:\")\n",
    "for sentence in sentences:\n",
    "    print(sentence)"
   ]
  },
  {
   "cell_type": "markdown",
   "metadata": {
    "id": "llPpoxB4hnAx"
   },
   "source": [
    "# Q3. Classification using LSTM - using Tensorflow (30 Points)\n",
    "In this part, we will be building a bidirectional LSTM network to train and inference sentiment analysis on IMDB dataset.<br>\n",
    "\n",
    "If you need a refresher or have never worked with Neural Networks before, here are a few resources:\n",
    "- https://web.stanford.edu/~jurafsky/slp3/7.pdf\n",
    "- https://web.stanford.edu/~jurafsky/slp3/9.pdf\n",
    "- https://colah.github.io/posts/2015-08-Understanding-LSTMs/\n",
    "\n",
    "\n",
    "Training a neural network model will take time. \n",
    "- You can use Google Colab / Kaggle notebooks. You get a free GPU for a limited time to tweak your hyperparameters.\n",
    "- Without a GPU, You might have to wait longer to experiment."
   ]
  },
  {
   "cell_type": "markdown",
   "metadata": {
    "id": "t40hndZFhp1S"
   },
   "source": [
    "### Library Imports"
   ]
  },
  {
   "cell_type": "code",
   "execution_count": 1,
   "metadata": {
    "id": "zS0zc2NMc3tU"
   },
   "outputs": [
    {
     "name": "stderr",
     "output_type": "stream",
     "text": [
      "C:\\Users\\Saleh Alkhalifa\\anaconda3\\lib\\site-packages\\numpy\\_distributor_init.py:30: UserWarning: loaded more than 1 DLL from .libs:\n",
      "C:\\Users\\Saleh Alkhalifa\\anaconda3\\lib\\site-packages\\numpy\\.libs\\libopenblas.GK7GX5KEQ4F6UYO3P26ULGBQYHGQO7J4.gfortran-win_amd64.dll\n",
      "C:\\Users\\Saleh Alkhalifa\\anaconda3\\lib\\site-packages\\numpy\\.libs\\libopenblas.PYQHXLVVQ7VESDPUVUADXEVJOBGHJPAY.gfortran-win_amd64.dll\n",
      "  warnings.warn(\"loaded more than 1 DLL from .libs:\"\n"
     ]
    }
   ],
   "source": [
    "import tensorflow as tf\n",
    "import pandas as pd\n",
    "import numpy as np\n",
    "from sklearn.preprocessing import LabelEncoder\n",
    "from sklearn.model_selection import train_test_split\n",
    "import matplotlib.pyplot as plt\n",
    "import seaborn as sns\n",
    "# import tensorflow_datasets as tfds\n",
    "\n",
    "# from tensorflow.keras.preprocessing.sequence import pad_sequences\n",
    "# from tensorflow.keras.preprocessing.text import Tokenizer\n",
    "\n"
   ]
  },
  {
   "cell_type": "code",
   "execution_count": 27,
   "metadata": {},
   "outputs": [
    {
     "name": "stdout",
     "output_type": "stream",
     "text": [
      "Name: tensorflow\n",
      "Version: 2.10.0\n",
      "Summary: TensorFlow is an open source machine learning framework for everyone.\n",
      "Home-page: https://www.tensorflow.org/\n",
      "Author: Google Inc.\n",
      "Author-email: packages@tensorflow.org\n",
      "License: Apache 2.0\n",
      "Location: c:\\users\\saleh alkhalifa\\appdata\\roaming\\python\\python38\\site-packages\n",
      "Requires: absl-py, astunparse, flatbuffers, gast, google-pasta, grpcio, h5py, keras, keras-preprocessing, libclang, numpy, opt-einsum, packaging, protobuf, setuptools, six, tensorboard, tensorflow-estimator, tensorflow-io-gcs-filesystem, termcolor, typing-extensions, wrapt\n",
      "Required-by: autokeras\n"
     ]
    },
    {
     "name": "stderr",
     "output_type": "stream",
     "text": [
      "WARNING: Ignoring invalid distribution -rotobuf (c:\\users\\saleh alkhalifa\\anaconda3\\lib\\site-packages)\n",
      "WARNING: Ignoring invalid distribution -illow (c:\\users\\saleh alkhalifa\\anaconda3\\lib\\site-packages)\n"
     ]
    }
   ],
   "source": [
    "!pip show tensorflow"
   ]
  },
  {
   "cell_type": "markdown",
   "metadata": {
    "id": "1AqE0CRtYZEy"
   },
   "source": [
    "### Visualizing data distribution (1 Point)\n"
   ]
  },
  {
   "cell_type": "code",
   "execution_count": 257,
   "metadata": {
    "id": "BDnlJxRtkMz1"
   },
   "outputs": [],
   "source": [
    "## Reading the data and removing columns that are not important. \n",
    "dataset = pd.read_csv(\"data/movie_reviews-2.csv\", sep = ',', encoding = 'latin-1', usecols = lambda col: col not in [\"Unnamed: 2\", \"Unnamed: 3\", \"Unnamed: 4\"])"
   ]
  },
  {
   "cell_type": "code",
   "execution_count": 258,
   "metadata": {
    "id": "tpXhxuORkUi4"
   },
   "outputs": [
    {
     "data": {
      "text/html": [
       "<div>\n",
       "<style scoped>\n",
       "    .dataframe tbody tr th:only-of-type {\n",
       "        vertical-align: middle;\n",
       "    }\n",
       "\n",
       "    .dataframe tbody tr th {\n",
       "        vertical-align: top;\n",
       "    }\n",
       "\n",
       "    .dataframe thead th {\n",
       "        text-align: right;\n",
       "    }\n",
       "</style>\n",
       "<table border=\"1\" class=\"dataframe\">\n",
       "  <thead>\n",
       "    <tr style=\"text-align: right;\">\n",
       "      <th></th>\n",
       "      <th>review</th>\n",
       "      <th>sentiment</th>\n",
       "    </tr>\n",
       "  </thead>\n",
       "  <tbody>\n",
       "    <tr>\n",
       "      <th>0</th>\n",
       "      <td>One of the other reviewers has mentioned that ...</td>\n",
       "      <td>positive</td>\n",
       "    </tr>\n",
       "    <tr>\n",
       "      <th>1</th>\n",
       "      <td>A wonderful little production. &lt;br /&gt;&lt;br /&gt;The...</td>\n",
       "      <td>positive</td>\n",
       "    </tr>\n",
       "    <tr>\n",
       "      <th>2</th>\n",
       "      <td>I thought this was a wonderful way to spend ti...</td>\n",
       "      <td>positive</td>\n",
       "    </tr>\n",
       "    <tr>\n",
       "      <th>3</th>\n",
       "      <td>Petter Mattei's \"Love in the Time of Money\" is...</td>\n",
       "      <td>positive</td>\n",
       "    </tr>\n",
       "    <tr>\n",
       "      <th>4</th>\n",
       "      <td>Probably my all-time favorite movie, a story o...</td>\n",
       "      <td>positive</td>\n",
       "    </tr>\n",
       "  </tbody>\n",
       "</table>\n",
       "</div>"
      ],
      "text/plain": [
       "                                              review sentiment\n",
       "0  One of the other reviewers has mentioned that ...  positive\n",
       "1  A wonderful little production. <br /><br />The...  positive\n",
       "2  I thought this was a wonderful way to spend ti...  positive\n",
       "3  Petter Mattei's \"Love in the Time of Money\" is...  positive\n",
       "4  Probably my all-time favorite movie, a story o...  positive"
      ]
     },
     "execution_count": 258,
     "metadata": {},
     "output_type": "execute_result"
    }
   ],
   "source": [
    "#######################################################   \n",
    "# print head of data frame with help of head function # \n",
    "#######################################################\n",
    "\n",
    "dataset.head()"
   ]
  },
  {
   "cell_type": "code",
   "execution_count": 259,
   "metadata": {
    "id": "Bvj6ORXPlA5j"
   },
   "outputs": [
    {
     "name": "stderr",
     "output_type": "stream",
     "text": [
      "C:\\Users\\Saleh Alkhalifa\\anaconda3\\lib\\site-packages\\seaborn\\_decorators.py:36: FutureWarning: Pass the following variable as a keyword arg: x. From version 0.12, the only valid positional argument will be `data`, and passing other arguments without an explicit keyword will result in an error or misinterpretation.\n",
      "  warnings.warn(\n"
     ]
    },
    {
     "data": {
      "image/png": "[encoded data removed]",
      "text/plain": [
       "<Figure size 432x288 with 1 Axes>"
      ]
     },
     "metadata": {
      "needs_background": "light"
     },
     "output_type": "display_data"
    }
   ],
   "source": [
    "####################################################### \n",
    "# plot Positive Vs. Negative reviews count            # \n",
    "#######################################################\n",
    "\n",
    "sns.countplot(dataset[\"sentiment\"].values)\n",
    "\n",
    "plt.title(\"Positive Vs. Negative reviews count\", fontsize = 15)\n",
    "plt.show()\n",
    "\n"
   ]
  },
  {
   "cell_type": "markdown",
   "metadata": {
    "id": "45dT7_ld3aAg"
   },
   "source": [
    "### Cleaning the Reviews (2 Points)"
   ]
  },
  {
   "cell_type": "code",
   "execution_count": 260,
   "metadata": {
    "id": "HEHFIPM83Zbz"
   },
   "outputs": [
    {
     "name": "stderr",
     "output_type": "stream",
     "text": [
      "[nltk_data] Downloading package omw-1.4 to C:\\Users\\Saleh\n",
      "[nltk_data]     Alkhalifa\\AppData\\Roaming\\nltk_data...\n",
      "[nltk_data]   Package omw-1.4 is already up-to-date!\n",
      "[nltk_data] Downloading package stopwords to C:\\Users\\Saleh\n",
      "[nltk_data]     Alkhalifa\\AppData\\Roaming\\nltk_data...\n",
      "[nltk_data]   Package stopwords is already up-to-date!\n",
      "[nltk_data] Downloading package wordnet to C:\\Users\\Saleh\n",
      "[nltk_data]     Alkhalifa\\AppData\\Roaming\\nltk_data...\n",
      "[nltk_data]   Package wordnet is already up-to-date!\n",
      "[nltk_data] Downloading package words to C:\\Users\\Saleh\n",
      "[nltk_data]     Alkhalifa\\AppData\\Roaming\\nltk_data...\n",
      "[nltk_data]   Package words is already up-to-date!\n"
     ]
    }
   ],
   "source": [
    "import nltk\n",
    "from nltk.corpus import stopwords\n",
    "from nltk.stem import PorterStemmer\n",
    "from nltk.tokenize import word_tokenize\n",
    "import string\n",
    "import pandas as pd\n",
    "import re\n",
    "import nltk\n",
    "nltk.download('omw-1.4')\n",
    "nltk.download('stopwords')\n",
    "nltk.download('wordnet')\n",
    "nltk.download('words')\n",
    "\n",
    "stopword = nltk.corpus.stopwords.words('english')\n",
    "wn = nltk.WordNetLemmatizer()\n",
    "ps = nltk.PorterStemmer()\n",
    "words = set(nltk.corpus.words.words())\n",
    "\n",
    "# From the first assignment\n",
    "def clean_text(text):\n",
    "    text = text.lower()\n",
    "    text = re.sub(r\"http\\S+\", \"\", text)\n",
    "    text = re.sub(r\"www.\\S+\", \"\", text)\n",
    "    text_links_removed = \"\".join([char for char in text if char not in string.punctuation])\n",
    "    text_cleaned = \" \".join([word for word in re.split('\\W+', text_links_removed)\n",
    "        if word not in stopword])\n",
    "    text = \" \".join([wn.lemmatize(word) for word in re.split('\\W+', text_cleaned)])\n",
    "    return text"
   ]
  },
  {
   "cell_type": "code",
   "execution_count": 261,
   "metadata": {
    "id": "io8EvrJJ3eGu"
   },
   "outputs": [],
   "source": [
    "#############################################################################################  \n",
    "# Clean all the reviews in the dataset using the clean_text function provided above         # \n",
    "############################################################################################# \n",
    "\n",
    "dataset[\"cleaned_review\"] = dataset[\"review\"].apply(clean_text)\n"
   ]
  },
  {
   "cell_type": "code",
   "execution_count": 262,
   "metadata": {
    "id": "4i0C715m3DwZ"
   },
   "outputs": [
    {
     "data": {
      "text/html": [
       "<div>\n",
       "<style scoped>\n",
       "    .dataframe tbody tr th:only-of-type {\n",
       "        vertical-align: middle;\n",
       "    }\n",
       "\n",
       "    .dataframe tbody tr th {\n",
       "        vertical-align: top;\n",
       "    }\n",
       "\n",
       "    .dataframe thead th {\n",
       "        text-align: right;\n",
       "    }\n",
       "</style>\n",
       "<table border=\"1\" class=\"dataframe\">\n",
       "  <thead>\n",
       "    <tr style=\"text-align: right;\">\n",
       "      <th></th>\n",
       "      <th>review</th>\n",
       "      <th>sentiment</th>\n",
       "      <th>cleaned_review</th>\n",
       "    </tr>\n",
       "  </thead>\n",
       "  <tbody>\n",
       "    <tr>\n",
       "      <th>0</th>\n",
       "      <td>One of the other reviewers has mentioned that ...</td>\n",
       "      <td>positive</td>\n",
       "      <td>one reviewer mentioned watching 1 oz episode y...</td>\n",
       "    </tr>\n",
       "    <tr>\n",
       "      <th>1</th>\n",
       "      <td>A wonderful little production. &lt;br /&gt;&lt;br /&gt;The...</td>\n",
       "      <td>positive</td>\n",
       "      <td>wonderful little production br br filming tech...</td>\n",
       "    </tr>\n",
       "    <tr>\n",
       "      <th>2</th>\n",
       "      <td>I thought this was a wonderful way to spend ti...</td>\n",
       "      <td>positive</td>\n",
       "      <td>thought wonderful way spend time hot summer we...</td>\n",
       "    </tr>\n",
       "    <tr>\n",
       "      <th>3</th>\n",
       "      <td>Petter Mattei's \"Love in the Time of Money\" is...</td>\n",
       "      <td>positive</td>\n",
       "      <td>petter matteis love time money visually stunni...</td>\n",
       "    </tr>\n",
       "    <tr>\n",
       "      <th>4</th>\n",
       "      <td>Probably my all-time favorite movie, a story o...</td>\n",
       "      <td>positive</td>\n",
       "      <td>probably alltime favorite movie story selfless...</td>\n",
       "    </tr>\n",
       "  </tbody>\n",
       "</table>\n",
       "</div>"
      ],
      "text/plain": [
       "                                              review sentiment  \\\n",
       "0  One of the other reviewers has mentioned that ...  positive   \n",
       "1  A wonderful little production. <br /><br />The...  positive   \n",
       "2  I thought this was a wonderful way to spend ti...  positive   \n",
       "3  Petter Mattei's \"Love in the Time of Money\" is...  positive   \n",
       "4  Probably my all-time favorite movie, a story o...  positive   \n",
       "\n",
       "                                      cleaned_review  \n",
       "0  one reviewer mentioned watching 1 oz episode y...  \n",
       "1  wonderful little production br br filming tech...  \n",
       "2  thought wonderful way spend time hot summer we...  \n",
       "3  petter matteis love time money visually stunni...  \n",
       "4  probably alltime favorite movie story selfless...  "
      ]
     },
     "execution_count": 262,
     "metadata": {},
     "output_type": "execute_result"
    }
   ],
   "source": [
    "#####################################################################\n",
    "# print head of the \"CLEANED\" data frame with help of head function # \n",
    "#####################################################################\n",
    " \n",
    "dataset.head()"
   ]
  },
  {
   "cell_type": "markdown",
   "metadata": {
    "id": "-TmC4Ebo0Znv"
   },
   "source": [
    "### Splitting the dataset and Encoding Labels (2 Points)\n",
    "\n",
    "Spliting data: <br> \n",
    "80% for the training and the remaining 20% for validation.\n",
    "\n",
    "Encoding Labels: <br>\n",
    "Encode labels as negative and positive as 0 and 1 respectively\n"
   ]
  },
  {
   "cell_type": "code",
   "execution_count": 263,
   "metadata": {},
   "outputs": [
    {
     "data": {
      "text/plain": [
       "(24699, 3)"
      ]
     },
     "execution_count": 263,
     "metadata": {},
     "output_type": "execute_result"
    }
   ],
   "source": [
    "dataset.shape"
   ]
  },
  {
   "cell_type": "code",
   "execution_count": 264,
   "metadata": {},
   "outputs": [],
   "source": [
    "# dataset = dataset.sample(5000)"
   ]
  },
  {
   "cell_type": "code",
   "execution_count": 265,
   "metadata": {},
   "outputs": [
    {
     "data": {
      "text/plain": [
       "(24699, 3)"
      ]
     },
     "execution_count": 265,
     "metadata": {},
     "output_type": "execute_result"
    }
   ],
   "source": [
    "dataset.shape"
   ]
  },
  {
   "cell_type": "code",
   "execution_count": 266,
   "metadata": {
    "id": "-n-xz8BMYZE7"
   },
   "outputs": [
    {
     "name": "stdout",
     "output_type": "stream",
     "text": [
      "(19759,)\n",
      "(4940,)\n"
     ]
    }
   ],
   "source": [
    "#################################################################################\n",
    "# Split the data using the sklearn module                                       #\n",
    "# 80% for the training and the remaining 20% for validation                     #\n",
    "#################################################################################\n",
    "from sklearn.model_selection import train_test_split\n",
    "\n",
    "X = dataset[\"cleaned_review\"].values\n",
    "y = dataset[\"sentiment\"]\n",
    "\n",
    "X_train, X_test, y_train, y_test = train_test_split(X, y, test_size=0.20)\n",
    "\n",
    "print(X_train.shape)\n",
    "print(X_test.shape)"
   ]
  },
  {
   "cell_type": "code",
   "execution_count": 267,
   "metadata": {
    "id": "A6y-74sT-9s1"
   },
   "outputs": [
    {
     "name": "stdout",
     "output_type": "stream",
     "text": [
      "14908    positive\n",
      "16995    positive\n",
      "11010    negative\n",
      "2588     positive\n",
      "8266     negative\n",
      "Name: sentiment, dtype: object\n",
      "[1 1 0 1 0]\n"
     ]
    }
   ],
   "source": [
    "#################################################################################\n",
    "# Initialize label encoder from sklearn module                                  #\n",
    "# fit on train labels and transform both train and validation labels            #\n",
    "#################################################################################\n",
    "from sklearn.preprocessing import LabelEncoder\n",
    "\n",
    "encoder = LabelEncoder()\n",
    "encoder.fit(y_train)\n",
    "y_train = encoder.transform(y_train)\n",
    "\n",
    "print(y_test[:5])\n",
    "y_test = encoder.transform(y_test)\n",
    "\n",
    "print(y_test[:5])"
   ]
  },
  {
   "cell_type": "markdown",
   "metadata": {
    "id": "xePIfNU8YZFA"
   },
   "source": [
    "### Pre-Processing The Text (5 Points)\n",
    " "
   ]
  },
  {
   "cell_type": "code",
   "execution_count": 268,
   "metadata": {
    "id": "TvpwLHnRYZFC",
    "tags": []
   },
   "outputs": [
    {
     "name": "stdout",
     "output_type": "stream",
     "text": [
      "Vocabulary : 100159\n"
     ]
    }
   ],
   "source": [
    "# You can use the modules given below\n",
    "from tensorflow.keras.preprocessing.sequence import pad_sequences\n",
    "from tensorflow.keras.preprocessing.text import Tokenizer\n",
    "\n",
    "###############################################################################  \n",
    "# Fit your tokenizer on the training reviews                                  #\n",
    "###############################################################################\n",
    "\n",
    "num_words = 10000\n",
    "tokenizer = Tokenizer(num_words=num_words)\n",
    "\n",
    "tokenizer.fit_on_texts(X_train) \n",
    "# train_sequences = tokenizer.texts_to_sequences(X_train)\n",
    "# val_sequences = tokenizer.texts_to_sequences(X_test)\n",
    "\n",
    "#################################################################################################\n",
    "# The word_index dictionary assigns a unique index to each unique word present in the training  #\n",
    "# reviews.                                                                                      #\n",
    "#                                                                                               #\n",
    "# Create the word_index dictionary using the tokenizer                                          #\n",
    "# Find the vocabulary of your training reviews                                                  #\n",
    "#################################################################################################\n",
    "\n",
    "# word_index = {}\n",
    "word_index = tokenizer.word_index\n",
    "\n",
    "word_counts = dict(tokenizer.word_counts)\n",
    "vocabulary = set(word_counts.keys())\n",
    "\n",
    "\n",
    "#################################################################################################\n",
    "# Convert the reviews in the dataset to their index form by using a function available          #\n",
    "# with the tokenizer                                                                            #\n",
    "# HINT : convert training and validation reviews into sequences                                 #\n",
    "#################################################################################################\n",
    "\n",
    "train_sequences = tokenizer.texts_to_sequences(X_train)\n",
    "val_sequences = tokenizer.texts_to_sequences(X_test)\n",
    "\n",
    "#################################################################################################\n",
    "# Pad the the training and validation sequences so all of them have the same length             # \n",
    "# set maxlen = 200                                                                              #\n",
    "#################################################################################################\n",
    "\n",
    "# maxlen which is the maximum length of one review we will use for our training\n",
    "\n",
    "maxlen = 200\n",
    "\n",
    "train_sequences = pad_sequences(train_sequences, maxlen=maxlen)\n",
    "val_sequences = pad_sequences(val_sequences, maxlen=maxlen)\n",
    "\n",
    "\n",
    "print('Vocabulary : {}'.format(len(vocabulary))) #Using len() instead to avoid flooding the page"
   ]
  },
  {
   "cell_type": "markdown",
   "metadata": {
    "id": "5-yGOMB7YZFJ"
   },
   "source": [
    "### Using glove vectors for embedding (5 Points)\n",
    "\n",
    "GloVe vectors capture both global statistics and local statistics of a corpus. We use GloVe to convert words to embeddings in the vector space based on their semantics. \n",
    "\n",
    "We will be using the 200-dimensional GloVe vectors for the task at hand.\n",
    "\n",
    "To learn more about GloVe please read the following resource:\n",
    "- https://nlp.stanford.edu/pubs/glove.pdf"
   ]
  },
  {
   "cell_type": "code",
   "execution_count": 269,
   "metadata": {
    "id": "1wjY4_mOYZFP"
   },
   "outputs": [],
   "source": [
    "glove_dictionary = {}\n",
    "with open('glove.6B.200d.txt', encoding=\"utf8\") as file:\n",
    "    for each_line in file:\n",
    "        words_in_line, coeff_cients = each_line.split(maxsplit=1)\n",
    "        coeff_cients = np.array(coeff_cients.split(),dtype = float)\n",
    "        glove_dictionary[words_in_line] = coeff_cients"
   ]
  },
  {
   "cell_type": "code",
   "execution_count": 270,
   "metadata": {
    "id": "pDYNi0CsYZFR"
   },
   "outputs": [],
   "source": [
    " # All the words which are not in the GloVe dictionary will be assigned a zero vector.\n",
    "\n",
    "# embedding_matrix = np.zeros((vocabulary, 200))\n",
    "\n",
    "######################################################################\n",
    "# The glove_dictionary contains words vs their respective embeddings #\n",
    "#                                                                    #\n",
    "# Create the embedding matrix using the glove_dictionary             #\n",
    "######################################################################\n",
    "\n",
    "embedding_matrix = np.zeros((num_words, 200))\n",
    "\n",
    "for word, i in word_index.items():\n",
    "    if i >= num_words:\n",
    "        continue\n",
    "    embedding_vector = glove_dictionary.get(word)\n",
    "    if embedding_vector is not None:\n",
    "        # words not found in embedding index will be all-zeros.\n",
    "        embedding_matrix[i] = embedding_vector\n",
    "    else:\n",
    "        embedding_matrix[i] = np.random.randn(200)"
   ]
  },
  {
   "cell_type": "code",
   "execution_count": 271,
   "metadata": {
    "id": "aXXvMdZ6gJpI"
   },
   "outputs": [
    {
     "data": {
      "text/plain": [
       "(10000, 200)"
      ]
     },
     "execution_count": 271,
     "metadata": {},
     "output_type": "execute_result"
    }
   ],
   "source": [
    "embedding_matrix.shape"
   ]
  },
  {
   "cell_type": "markdown",
   "metadata": {
    "id": "u6d-frq1QxJW"
   },
   "source": [
    "Sample output : (99987, 200)"
   ]
  },
  {
   "cell_type": "markdown",
   "metadata": {
    "id": "t9Fxf0zuYZFZ"
   },
   "source": [
    "### Creating The Model (10)\n",
    "\n",
    "If you need a refresher or have never worked with Neural Networks before, here are a few resources:\n",
    "- https://web.stanford.edu/~jurafsky/slp3/7.pdf\n",
    "- https://web.stanford.edu/~jurafsky/slp3/9.pdf\n",
    "- https://colah.github.io/posts/2015-08-Understanding-LSTMs/\n",
    "\n",
    "\n",
    "Training a neural network model will take time. \n",
    "- You can use Google Colab / Kaggle notebooks. You get a free GPU for a limited time.\n",
    "- Without a GPU, You might have to wait longer to experiment.\n",
    "\n",
    "\n",
    "Useful resources : <br>\n",
    "https://www.tensorflow.org/api_docs/python/tf/keras/Sequential <br>\n",
    "https://www.tensorflow.org/api_docs/python/tf/keras/layers/Dense <br>\n",
    "https://www.tensorflow.org/api_docs/python/tf/keras/layers/Dropout <br>\n",
    "\n",
    "\n",
    "\n"
   ]
  },
  {
   "cell_type": "code",
   "execution_count": 272,
   "metadata": {
    "id": "Y8CXAEvwIHHT"
   },
   "outputs": [],
   "source": [
    "import tensorflow as tf\n",
    "\n",
    "tf.random.set_seed(42)\n",
    "\n",
    "######################################################\n",
    "# Complete this linear model in tensorflow           #\n",
    "######################################################\n",
    "\n",
    "def build_model(embedding_matrix):\n",
    "\n",
    "    ''' \n",
    "    Arguments:\n",
    "    embedding_matrix : a matrix with the corresponding embeddings\n",
    "    of all words.\n",
    "\n",
    "    Returns:\n",
    "    The LSTM model that you created.\n",
    "    '''\n",
    "\n",
    "    model = tf.keras.Sequential()\n",
    "\n",
    "    # TO DO: layer 1 : add embedding layer\n",
    "    # The embedding layer maps the words to their embedding vectors from the embedding matrix\n",
    "    model.add(tf.keras.layers.Embedding(input_dim=embedding_matrix.shape[0],\n",
    "                                        output_dim=embedding_matrix.shape[1],\n",
    "                                        weights=[embedding_matrix],\n",
    "                                        trainable=False))\n",
    "\n",
    "    # TO DO: layer 2 : add Bidirectional LSTM Layer \n",
    "    model.add(tf.keras.layers.Bidirectional(tf.keras.layers.LSTM(units=128)))\n",
    "\n",
    "\n",
    "    # TO DO Add more layers : you can add more dense layers and dropout\n",
    "    # NOTE : You should be able to achieve an validation accuracy greater than 85%\n",
    "    #        within 10 epochs\n",
    "    model.add(tf.keras.layers.Dropout(0.2))\n",
    "    model.add(tf.keras.layers.Dense(units=64, activation='relu'))\n",
    "    model.add(tf.keras.layers.Dropout(0.2))\n",
    "\n",
    "\n",
    "    # TO DO Final layer : add output layer and activation \n",
    "    model.add(tf.keras.layers.Dense(units=1, activation='sigmoid'))\n",
    "\n",
    "    # TO DO : use a loss function, optimizer as adam to compile \n",
    "    # and evaluate model on auc,precision,recall,accuracy\n",
    "    # HINT : choose your loss function based on the task (binary classification)\n",
    "    model.compile(loss='binary_crossentropy', optimizer='adam',\n",
    "                  metrics=[tf.keras.metrics.AUC(name=\"auc\"), tf.keras.metrics.Precision(name=\"precision\"),\n",
    "                           tf.keras.metrics.Recall(name=\"recall\"), 'accuracy'])\n",
    "  \n",
    "    return model"
   ]
  },
  {
   "cell_type": "code",
   "execution_count": 273,
   "metadata": {},
   "outputs": [],
   "source": [
    "# y_train = y_train.reshape((-1,1))\n",
    "# y_test = y_test.reshape((-1,1))"
   ]
  },
  {
   "cell_type": "code",
   "execution_count": 274,
   "metadata": {
    "id": "Dxl8HDkHYZFc"
   },
   "outputs": [
    {
     "name": "stdout",
     "output_type": "stream",
     "text": [
      "Model: \"sequential_23\"\n",
      "_________________________________________________________________\n",
      " Layer (type)                Output Shape              Param #   \n",
      "=================================================================\n",
      " embedding_23 (Embedding)    (None, None, 200)         2000000   \n",
      "                                                                 \n",
      " bidirectional_23 (Bidirecti  (None, 256)              336896    \n",
      " onal)                                                           \n",
      "                                                                 \n",
      " dropout_46 (Dropout)        (None, 256)               0         \n",
      "                                                                 \n",
      " dense_46 (Dense)            (None, 64)                16448     \n",
      "                                                                 \n",
      " dropout_47 (Dropout)        (None, 64)                0         \n",
      "                                                                 \n",
      " dense_47 (Dense)            (None, 1)                 65        \n",
      "                                                                 \n",
      "=================================================================\n",
      "Total params: 2,353,409\n",
      "Trainable params: 353,409\n",
      "Non-trainable params: 2,000,000\n",
      "_________________________________________________________________\n",
      "Epoch 1/10\n",
      "618/618 [==============================] - 307s 493ms/step - loss: 0.4979 - auc: 0.8379 - precision: 0.7591 - recall: 0.7745 - accuracy: 0.7637 - val_loss: 0.3778 - val_auc: 0.9130 - val_precision: 0.8642 - val_recall: 0.8009 - val_accuracy: 0.8312\n",
      "Epoch 2/10\n",
      "618/618 [==============================] - 293s 475ms/step - loss: 0.3682 - auc: 0.9161 - precision: 0.8368 - recall: 0.8453 - accuracy: 0.8398 - val_loss: 0.3230 - val_auc: 0.9360 - val_precision: 0.8517 - val_recall: 0.8866 - val_accuracy: 0.8609\n",
      "Epoch 3/10\n",
      "618/618 [==============================] - 292s 473ms/step - loss: 0.3130 - auc: 0.9400 - precision: 0.8599 - recall: 0.8708 - accuracy: 0.8641 - val_loss: 0.3074 - val_auc: 0.9425 - val_precision: 0.8532 - val_recall: 0.8948 - val_accuracy: 0.8654\n",
      "Epoch 4/10\n",
      "618/618 [==============================] - 293s 475ms/step - loss: 0.2769 - auc: 0.9531 - precision: 0.8799 - recall: 0.8905 - accuracy: 0.8842 - val_loss: 0.3006 - val_auc: 0.9461 - val_precision: 0.8507 - val_recall: 0.9080 - val_accuracy: 0.8694\n",
      "Epoch 5/10\n",
      "618/618 [==============================] - 294s 475ms/step - loss: 0.2388 - auc: 0.9650 - precision: 0.8983 - recall: 0.9063 - accuracy: 0.9016 - val_loss: 0.3142 - val_auc: 0.9452 - val_precision: 0.8960 - val_recall: 0.8429 - val_accuracy: 0.8676\n",
      "Epoch 6/10\n",
      "618/618 [==============================] - 290s 470ms/step - loss: 0.2030 - auc: 0.9746 - precision: 0.9124 - recall: 0.9250 - accuracy: 0.9179 - val_loss: 0.3173 - val_auc: 0.9463 - val_precision: 0.8659 - val_recall: 0.9034 - val_accuracy: 0.8771\n",
      "Epoch 7/10\n",
      "618/618 [==============================] - 289s 467ms/step - loss: 0.1594 - auc: 0.9841 - precision: 0.9321 - recall: 0.9434 - accuracy: 0.9371 - val_loss: 0.3518 - val_auc: 0.9414 - val_precision: 0.8792 - val_recall: 0.8710 - val_accuracy: 0.8709\n",
      "Epoch 8/10\n",
      "618/618 [==============================] - 289s 468ms/step - loss: 0.1222 - auc: 0.9905 - precision: 0.9490 - recall: 0.9569 - accuracy: 0.9526 - val_loss: 0.4037 - val_auc: 0.9352 - val_precision: 0.8787 - val_recall: 0.8722 - val_accuracy: 0.8711\n",
      "Epoch 9/10\n",
      "618/618 [==============================] - 287s 464ms/step - loss: 0.0939 - auc: 0.9941 - precision: 0.9607 - recall: 0.9675 - accuracy: 0.9639 - val_loss: 0.4464 - val_auc: 0.9307 - val_precision: 0.8727 - val_recall: 0.8574 - val_accuracy: 0.8609\n",
      "Epoch 10/10\n",
      "618/618 [==============================] - 287s 465ms/step - loss: 0.0747 - auc: 0.9962 - precision: 0.9688 - recall: 0.9753 - accuracy: 0.9719 - val_loss: 0.5292 - val_auc: 0.9292 - val_precision: 0.8684 - val_recall: 0.8745 - val_accuracy: 0.8660\n"
     ]
    }
   ],
   "source": [
    "# NOTE : You should be able to achieve an validation accuracy greater than 85%\n",
    "#        within 10 epochs\n",
    "\n",
    "#################################################################\n",
    "# Call the build_model function and initialize the model        #\n",
    "#################################################################\n",
    "\n",
    "model = build_model(embedding_matrix)\n",
    "model.summary()\n",
    "\n",
    "#######################################################################################################\n",
    "# train and validate the model on the padded sequences of text which we have created initially        #\n",
    "#######################################################################################################\n",
    "\n",
    "history = model.fit(train_sequences, y_train, epochs=10,\n",
    "                    validation_data=(val_sequences, y_test))\n",
    "# history = model.fit(train_sequences, y_train, epochs=10)"
   ]
  },
  {
   "cell_type": "markdown",
   "metadata": {
    "id": "tyvT7vTmYZFd"
   },
   "source": [
    "### Plotting Accuracy and Losses (5 Points)\n",
    " \n",
    "\n",
    "\n"
   ]
  },
  {
   "cell_type": "code",
   "execution_count": 276,
   "metadata": {
    "id": "uCXJzXMjYZFe"
   },
   "outputs": [
    {
     "data": {
      "image/png": "[encoded data removed]",
      "text/plain": [
       "<Figure size 1440x216 with 5 Axes>"
      ]
     },
     "metadata": {
      "needs_background": "light"
     },
     "output_type": "display_data"
    }
   ],
   "source": [
    "####################################\n",
    "# PLOT :                           #\n",
    "# train loss vs val loss           #\n",
    "# train auc vs val auc             #\n",
    "# train recall vs val recall       #\n",
    "# train precision vs val precision #\n",
    "# train accuracy vs val accuracy   #\n",
    "####################################\n",
    "\n",
    "plt.figure(figsize=(20,3))\n",
    "\n",
    "# Plot subplot 1 with loss\n",
    "plt.subplot(1, 5, 1)\n",
    "plt.title(\"train loss vs val loss\")\n",
    "plt.plot(history.history['loss'], label = 'Training loss')\n",
    "plt.plot(history.history['val_loss'], label = 'Validation loss')\n",
    "plt.legend()\n",
    "plt.xlabel(\"Epochs\")\n",
    "plt.ylabel(\"Loss\")\n",
    "\n",
    "# Plot subplot 2 with auc\n",
    "plt.subplot(1, 5, 2)\n",
    "plt.ylim(0, 1)\n",
    "plt.title(\"train auc vs val auc \")\n",
    "plt.plot(history.history['auc'], label = 'Training AUC')\n",
    "plt.plot(history.history['val_auc'], label = 'Validation AUC')\n",
    "plt.legend()\n",
    "plt.xlabel(\"Epochs\")\n",
    "plt.ylabel(\"AUC\")\n",
    "\n",
    "# Plot subplot 3 with recall\n",
    "plt.subplot(1, 5, 3)\n",
    "plt.ylim(0, 1)\n",
    "plt.title(\"train recall vs val recall \")\n",
    "plt.plot(history.history['recall'], label = 'Training Recall')\n",
    "plt.plot(history.history['val_recall'], label = 'Validation Recall')\n",
    "plt.legend()\n",
    "plt.xlabel(\"Epochs\")\n",
    "plt.ylabel(\"Recall\")\n",
    "\n",
    "# Plot subplot 4 with recall\n",
    "plt.subplot(1, 5, 4)\n",
    "plt.ylim(0, 1)\n",
    "plt.title(\"train precision vs val precision\")\n",
    "plt.plot(history.history['precision'], label = 'Training Precision')\n",
    "plt.plot(history.history['val_precision'], label = 'Validation Precision')\n",
    "plt.legend()\n",
    "plt.xlabel(\"Epochs\")\n",
    "plt.ylabel(\"Precision\")\n",
    "\n",
    "# Plot subplot 5 with recall\n",
    "plt.subplot(1, 5, 5)\n",
    "plt.ylim(0, 1)\n",
    "plt.title(\"train accuracy vs val accuracy\")\n",
    "plt.plot(history.history['accuracy'], label = 'Training Accuracy')\n",
    "plt.plot(history.history['val_accuracy'], label = 'Validation Accuracy')\n",
    "plt.legend()\n",
    "plt.xlabel(\"Epochs\")\n",
    "plt.ylabel(\"Accuracy\")\n",
    "plt.show()"
   ]
  },
  {
   "cell_type": "code",
   "execution_count": 277,
   "metadata": {
    "id": "me9so1i_ecsA"
   },
   "outputs": [],
   "source": [
    "# You will need to include the pickled model along with the other submission files\n",
    "# The saved model will be used to verify your lstm's predictions on hidden reviews\n",
    "\n",
    "##################################################################################\n",
    "# Save your trained model as a pickle file named \"lstm_classifier\"               #\n",
    "# You will be using this saved model to make predictions in the next module      #\n",
    "##################################################################################\n",
    "\n",
    "# import pickle\n",
    "\n",
    "# with open(\"lstm_classifier.pkl\", \"wb\") as f:\n",
    "#     pickle.dump(model, f)\n",
    "\n",
    "path = './lstm_classifier.h5'\n",
    "model.save(path)\n"
   ]
  },
  {
   "cell_type": "markdown",
   "metadata": {
    "id": "J5zTQmf4Xr_O"
   },
   "source": [
    "### Prediction (5 Points)"
   ]
  },
  {
   "cell_type": "code",
   "execution_count": 235,
   "metadata": {
    "id": "PRalffaWeLxN"
   },
   "outputs": [],
   "source": [
    "######################################################################\n",
    "# Load your saved model                                              #\n",
    "# Use the saved model to make predictions                            #\n",
    "######################################################################\n",
    "\n",
    "# with open(\"lstm_classifier.pkl\", \"rb\") as f:\n",
    "#     saved_model = pickle.load(f)\n",
    "\n",
    "saved_model= tf.keras.models.load_model(path)\n"
   ]
  },
  {
   "cell_type": "code",
   "execution_count": 254,
   "metadata": {
    "id": "yM3JAQdPXq-y"
   },
   "outputs": [],
   "source": [
    "# use the saved model to predict the reviews\n",
    "def predict_review(review):\n",
    "    '''\n",
    "    Arguments:\n",
    "    review : A single review for which you want to predict the sentiment for.\n",
    "    example: \"This movie was amazing! I would defenitely watch it again.\"\n",
    "\n",
    "    Returns:\n",
    "    The predicted sentiment for the review : either 1 or 0\n",
    "    '''\n",
    "\n",
    "    ############################################################################# \n",
    "    # Predict the sentiment for the given review using the model                #\n",
    "    # that you trained and return the sentiment                                 #\n",
    "    #                                                                           #\n",
    "    # HINT : Remember that the review needs to be \"preprocessed\" before you use #\n",
    "    # it for prediction                                                         #\n",
    "    #############################################################################\n",
    "\n",
    "    clean_review = clean_text(review)\n",
    "    new_review_sequence = tokenizer.texts_to_sequences([clean_review])\n",
    "    new_review_sequence_padded = pad_sequences(new_review_sequence, maxlen=200)\n",
    "\n",
    "    y_pred = saved_model.predict(new_review_sequence_padded)\n",
    "    \n",
    "#     print(y_pred)\n",
    "\n",
    "    y_pred_labels = int(np.round(y_pred).astype(int))\n",
    "\n",
    "    return y_pred_labels\n"
   ]
  },
  {
   "cell_type": "code",
   "execution_count": 256,
   "metadata": {
    "id": "BM0RnmVOdckJ"
   },
   "outputs": [
    {
     "name": "stdout",
     "output_type": "stream",
     "text": [
      "1/1 [==============================] - 0s 24ms/step\n",
      "If you like original gut wrenching laughter you will like this movie. If you are young or old then y -> 1\n",
      "1/1 [==============================] - 0s 23ms/step\n",
      "What a waste of talent. A very poor, semi-coherent, script cripples this film. Rather unimaginative  -> 0\n",
      "1/1 [==============================] - 0s 22ms/step\n",
      "I have seen this film at least 100 times and I am still excited by it, the acting is perfect and the -> 1\n",
      "1/1 [==============================] - 0s 22ms/step\n",
      "Cheap, amateurish, unimaginative, exploitative... but don't think it'll have redeeming amusement val -> 0\n"
     ]
    }
   ],
   "source": [
    "# Do not edit this cell\n",
    "\n",
    "for review in [\"If you like original gut wrenching laughter you will like this movie. If you are young or old then you will love this movie, hell even my mom liked it.<br /><br />Great Camp!!!\",\n",
    "                \"What a waste of talent. A very poor, semi-coherent, script cripples this film. Rather unimaginative direction, too. Some VERY faint echoes of Fargo here, but it just doesn't come off.\",\n",
    "                \"I have seen this film at least 100 times and I am still excited by it, the acting is perfect and the romance between Joe and Jean keeps me on the edge of my seat, plus I still think Bryan Brown is the tops. Brilliant Film.\",\n",
    "                \"Cheap, amateurish, unimaginative, exploitative... but don't think it'll have redeeming amusement value. About as unentertaining, uninstructive and just plain dull as a film can be.\"]:\n",
    "    p = predict_review(review)\n",
    "    print(f'{review[:100]} -> {p}')\n",
    "    "
   ]
  },
  {
   "cell_type": "markdown",
   "metadata": {
    "id": "e6cxqkVn41Kj"
   },
   "source": [
    "### Expected Output:\n",
    "\n",
    "If you like original gut wrenching laughter you will like this movie. If you are young or old then y -> 1 <br>\n",
    "What a waste of talent. A very poor, semi-coherent, script cripples this film. Rather unimaginative  -> 0 <br>\n",
    "I have seen this film at least 100 times and I am still excited by it, the acting is perfect and the -> 1 <br>\n",
    "Cheap, amateurish, unimaginative, exploitative... but don't think it'll have redeeming amusement val -> 0"
   ]
  }
 ],
 "metadata": {
  "colab": {
   "provenance": [],
   "toc_visible": true
  },
  "kernelspec": {
   "display_name": "Python 3",
   "language": "python",
   "name": "python3"
  },
  "language_info": {
   "codemirror_mode": {
    "name": "ipython",
    "version": 3
   },
   "file_extension": ".py",
   "mimetype": "text/x-python",
   "name": "python",
   "nbconvert_exporter": "python",
   "pygments_lexer": "ipython3",
   "version": "3.8.5"
  }
 },
 "nbformat": 4,
 "nbformat_minor": 4
}
